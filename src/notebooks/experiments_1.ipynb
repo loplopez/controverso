{
 "cells": [
  {
   "cell_type": "code",
   "execution_count": 1,
   "outputs": [
    {
     "name": "stdout",
     "output_type": "stream",
     "text": [
      "Requirement already satisfied: xgboost==0.80 in /Users/ezequiellopez/_projects/UNED-PhD/src/venv/lib/python3.9/site-packages (0.80)\r\n",
      "Requirement already satisfied: numpy in /Users/ezequiellopez/_projects/UNED-PhD/src/venv/lib/python3.9/site-packages (from xgboost==0.80) (1.21.4)\r\n",
      "Requirement already satisfied: scipy in /Users/ezequiellopez/_projects/UNED-PhD/src/venv/lib/python3.9/site-packages (from xgboost==0.80) (1.7.3)\r\n",
      "\u001B[33mWARNING: You are using pip version 21.3.1; however, version 22.2.1 is available.\r\n",
      "You should consider upgrading via the '/Users/ezequiellopez/_projects/UNED-PhD/src/venv/bin/python -m pip install --upgrade pip' command.\u001B[0m\r\n"
     ]
    }
   ],
   "source": [
    "#!pip uninstall xgboost\n",
    "!pip install xgboost==0.80"
   ],
   "metadata": {
    "collapsed": false,
    "pycharm": {
     "name": "#%%\n"
    }
   }
  },
  {
   "cell_type": "code",
   "execution_count": 2,
   "outputs": [],
   "source": [
    "import pandas as pd\n",
    "import numpy as np\n",
    "from sklearn.metrics import classification_report\n",
    "%load_ext autoreload\n",
    "%autoreload 2\n",
    "%matplotlib inline"
   ],
   "metadata": {
    "collapsed": false,
    "pycharm": {
     "name": "#%%\n"
    }
   }
  },
  {
   "cell_type": "markdown",
   "source": [
    "### Methodology\n",
    "-------\n",
    "\n",
    "1. **input** Select input data => will be preprocessed and loaded as a FeatureExtractor object\n",
    "2. **split** Split the data using class method and providing size and random_state (it preserves whole comments) => cross-validation ?\n",
    "3. **feat_extraction** Specify which features to be extracted.\n",
    "4. **feature_weights** Combine features with their respectives weights.\n",
    "\n",
    "5. **best_feats** Estimate best combination of features\n",
    "6. **best_model** Model selection via param search.\n",
    "\n",
    "7. **meta_features** Build features from features such as context vectors (based on best features). Which features are used and how are combined.\n",
    "8. **best_model** Trying different models for meta_features.\n",
    "\n",
    "9. **voting_system** Select voting system and which models are being used.\n",
    "10. [Optional] **cascade_system**\n",
    "11. **output_systems** Build output => add results as columns to the initial data.\n",
    "12. **use_cases** review results by use_case."
   ],
   "metadata": {
    "collapsed": false
   }
  },
  {
   "cell_type": "markdown",
   "source": [
    "#### TODOs\n",
    "\n",
    "[ ] check that all features present in bibliography / TFM\n",
    "[ ] test / include other vectorizations: wor2vec, doc2vec, others?\n",
    "[ ] lemmatization / stop-words / etc.\n",
    "[ ] check what's available in the new features of spacy HealthSee\n",
    "[ ] in-review: previous sentence label as feature: what happens with the first sentence in a review.\n",
    "[ ] context with minimal representation: select features from list.\n",
    "[ ] grid-search / random-search\n",
    "[ ] predict with probabilities\n",
    "[ ] DL / BiLSTM models using\n",
    "\n",
    "    * word embeddings\n",
    "    * contexts\n",
    "[ ] sequence models: encode labels into BIO schema and identify DL architectures for it. "
   ],
   "metadata": {
    "collapsed": false
   }
  },
  {
   "cell_type": "code",
   "execution_count": 3,
   "outputs": [],
   "source": [
    "import sys\n",
    "# insert at 1, 0 is the script path (or '' in REPL)\n",
    "sys.path.insert(1, '/Users/ezequiellopez/_projects/UNED-PhD/src')"
   ],
   "metadata": {
    "collapsed": false,
    "pycharm": {
     "name": "#%%\n"
    }
   }
  },
  {
   "cell_type": "code",
   "execution_count": 4,
   "outputs": [
    {
     "name": "stderr",
     "output_type": "stream",
     "text": [
      "No model was supplied, defaulted to distilbert-base-uncased-finetuned-sst-2-english (https://huggingface.co/distilbert-base-uncased-finetuned-sst-2-english)\n"
     ]
    }
   ],
   "source": [
    "from feature_extractors.feat_indicators import ExtractDiscourseIndicators\n",
    "from pipelines.feature_extraction import FeatureExtractor, nlp\n",
    "from pipelines.main_pipeline import Pipeline, data_path, Data\n",
    "from classifiers.classifiers import classical_models\n"
   ],
   "metadata": {
    "collapsed": false,
    "pycharm": {
     "name": "#%%\n"
    }
   }
  },
  {
   "cell_type": "code",
   "execution_count": 11,
   "outputs": [],
   "source": [
    "# Loading external CV K-Folds\n",
    "\n",
    "kfold_paths = \"/Users/ezequiellopez/Library/Mobile Documents/com~apple~CloudDocs/__data/_controverse/DrugArgDet/classification_kfolds\""
   ],
   "metadata": {
    "collapsed": false,
    "pycharm": {
     "name": "#%%\n"
    }
   }
  },
  {
   "cell_type": "code",
   "execution_count": 12,
   "outputs": [],
   "source": [
    "configs = [\n",
    "    {\n",
    "        \"classification_type\": \"binary\",\n",
    "        \"model_family\": \"bert\",\n",
    "        \"model_checkpoint\": \"distilbert-base-uncased\"\n",
    "    },\n",
    "    {\n",
    "        \"classification_type\": \"ternary\",\n",
    "        \"model_family\": \"bert\",\n",
    "        \"model_checkpoint\": \"distilbert-base-uncased\"\n",
    "    },\n",
    "    {\n",
    "        \"classification_type\": \"binary\",\n",
    "        \"model_family\": \"bert\",\n",
    "        \"model_checkpoint\": \"emilyalsentzer/Bio_ClinicalBERT\"\n",
    "    },\n",
    "    {\n",
    "        \"classification_type\": \"ternary\",\n",
    "        \"model_family\": \"bert\",\n",
    "        \"model_checkpoint\": \"emilyalsentzer/Bio_ClinicalBERT\"\n",
    "    }\n",
    "]\n",
    "\n",
    "configs = [\n",
    "        {\n",
    "        \"classification_type\": \"binary\",\n",
    "        \"model_family\": \"bert\",\n",
    "        \"model_checkpoint\": \"distilbert-base-uncased\"\n",
    "    },\n",
    "    {\n",
    "        \"classification_type\": \"ternary\",\n",
    "        \"model_family\": \"bert\",\n",
    "        \"model_checkpoint\": \"distilbert-base-uncased\"\n",
    "    }\n",
    "]\n"
   ],
   "metadata": {
    "collapsed": false,
    "pycharm": {
     "name": "#%%\n"
    }
   }
  },
  {
   "cell_type": "code",
   "execution_count": 34,
   "outputs": [],
   "source": [
    "data = FeatureExtractor(from_path='preproc_data__06-06-22__18:30__ternary')\n"
   ],
   "metadata": {
    "collapsed": false,
    "pycharm": {
     "name": "#%%\n"
    }
   }
  },
  {
   "cell_type": "code",
   "execution_count": null,
   "outputs": [],
   "source": [],
   "metadata": {
    "collapsed": false,
    "pycharm": {
     "name": "#%%\n"
    }
   }
  },
  {
   "cell_type": "code",
   "execution_count": 36,
   "outputs": [],
   "source": [
    "from typing import List\n",
    "\n",
    "experiments = {\n",
    "    'experiment_1': ['tfidf'],\n",
    "    'experiment_2': ['tfidf', 'body_stats'],\n",
    "    'experiment_3': ['tfidf', 'body_stats', 'syntactic'],\n",
    "    'experiment_4': ['tfidf', 'body_stats', 'syntactic', 'indicators'],\n",
    "    'experiment_5': ['medical'],\n",
    "    'experiment_6': ['tfidf', 'medical'],\n",
    "    'experiment_7': ['tfidf', 'body_stats', 'syntactic', 'indicators', 'medical'],\n",
    "    'experiment_8': ['embeddings'],\n",
    "    'experiment_9': ['tfidf', 'embeddings'],\n",
    "    'experiment_10': ['tfidf', 'body_stats', 'syntactic', 'indicators', 'medical', 'embeddings'],\n",
    "    'experiment_11': ['sentiment'],\n",
    "    'experiment_12': ['tfidf', 'body_stats', 'syntactic', 'indicators', 'medical', 'sentiment'],\n",
    "    'experiment_13': ['tfidf', 'body_stats', 'syntactic', 'indicators', 'medical', 'embeddings', 'sentiment']\n",
    "}\n",
    "\n",
    "def _generate_config(active_features: List[str]) -> dict:\n",
    "    feature_config = {}\n",
    "    for feat in active_features:\n",
    "        feature_config[feat] = 1\n",
    "    return feature_config\n",
    "\n"
   ],
   "metadata": {
    "collapsed": false,
    "pycharm": {
     "name": "#%%\n"
    }
   }
  },
  {
   "cell_type": "code",
   "execution_count": 35,
   "outputs": [],
   "source": [
    "data_ = FeatureExtractor(from_path='preproc_data__06-06-22__18:30__ternary')"
   ],
   "metadata": {
    "collapsed": false,
    "pycharm": {
     "name": "#%%\n"
    }
   }
  },
  {
   "cell_type": "code",
   "execution_count": null,
   "outputs": [],
   "source": [],
   "metadata": {
    "collapsed": false,
    "pycharm": {
     "name": "#%%\n"
    }
   }
  },
  {
   "cell_type": "code",
   "execution_count": 23,
   "outputs": [],
   "source": [
    "kfolds = 10\n",
    "for config in configs[0:1]:\n",
    "    for k in range(1,kfolds+1):\n",
    "        model_name = config['model_checkpoint'].split(\"/\")[-1]+\"_fold_\"+ str(k) + \"_\" + config['classification_type'] + \"_v1\"\n",
    "        config_name = model_name\n",
    "\n",
    "        train = pd.read_csv(f'{kfold_paths}/train__fold_{model_name}.csv')\n",
    "        test = pd.read_csv(f'{kfold_paths}/test__fold_{model_name}.csv')\n",
    "        validation = pd.read_csv(f'{kfold_paths}/validation__fold_{model_name}.csv')\n",
    "\n",
    "        train_ext = pd.concat([train, validation])\n",
    "\n",
    "        data = data_.copy()\n",
    "        df_global = pd.concat([data.X_train, data.X_test])\n",
    "        kfold_train_ext__doc_ids = train_ext['doc_id'].unique()\n",
    "        kfold_test__doc_ids = test['doc_id'].unique()\n",
    "\n",
    "        data.X_train = df_global.query('doc_id in @kfold_train_ext__doc_ids')\n",
    "        data.X_test = df_global.query('doc_id in @kfold_test__doc_ids')\n",
    "\n",
    "\n",
    "        # Experiments\n",
    "        results = []\n",
    "        reports = []\n",
    "        experiment_ids = []\n",
    "\n",
    "        for experiment, feat_list in experiments.items():\n",
    "            for context_value in [False, True]:\n",
    "                feature_pipeline = data.run_feature_extraction(feature_config=_generate_config(feat_list), context=context_value)\n",
    "                X_train  = feature_pipeline.fit_transform(X=data.X_train)\n",
    "                X_test = feature_pipeline.transform(data.X_test)\n",
    "                for target_config in ['binary', 'ternary']:\n",
    "                    if target_config == 'ternary':\n",
    "                        num_classes = 3\n",
    "                        data.y_train = data.X_train['target']\n",
    "                        data.y_test = data.X_test['target']\n",
    "                    if target_config == 'binary':\n",
    "                        num_classes = 2\n",
    "                        data.y_train = [0  if label==0 else 1 for label in data.X_train['target']]\n",
    "                        data.y_test = [0  if label==0 else 1 for label in data.X_test['target']]\n",
    "\n",
    "                    for model in classical_models.keys():\n",
    "                        experiment_id = f\"{experiment}__model:{model}__context:{context_value}__label_config:{target_config}\"\n",
    "                        print(f\"Executing :: {experiment_id}\")\n",
    "                        try:\n",
    "                            report, y_predicted = data.run_classification(model=model, features={'train': X_train, 'test': X_test}, num_classes=num_classes)\n",
    "                            results.append(y_predicted)\n",
    "                            reports.append(report)\n",
    "                            experiment_ids.append(experiment_id)\n",
    "                        except Exception as e:\n",
    "                            print(f\"failing experiment: {experiment_id} with error {e}\")\n",
    "\n",
    "\n",
    "\n",
    "        break"
   ],
   "metadata": {
    "collapsed": false,
    "pycharm": {
     "name": "#%%\n"
    }
   }
  },
  {
   "cell_type": "markdown",
   "source": [
    "\n",
    "#### End of Kfold Operations\n",
    "--------\n",
    "--------"
   ],
   "metadata": {
    "collapsed": false,
    "pycharm": {
     "name": "#%% md\n"
    }
   }
  },
  {
   "cell_type": "code",
   "execution_count": 35,
   "outputs": [],
   "source": [],
   "metadata": {
    "collapsed": false,
    "pycharm": {
     "name": "#%%\n"
    }
   }
  },
  {
   "cell_type": "code",
   "execution_count": 14,
   "outputs": [],
   "source": [
    "# feature_data = f'{data_path}/df_lab__featured+metamap_v1.csv'\n",
    "input_path = f'{data_path}/df_lab__extended_features.csv'\n",
    "output_path = f'../data/results/'"
   ],
   "metadata": {
    "collapsed": false,
    "pycharm": {
     "name": "#%%\n"
    }
   }
  },
  {
   "cell_type": "code",
   "execution_count": null,
   "outputs": [],
   "source": [
    "binary_pipeline = False\n",
    "config_name = '06-06-22__18:30__ternary'"
   ],
   "metadata": {
    "collapsed": false,
    "pycharm": {
     "name": "#%%\n"
    }
   }
  },
  {
   "cell_type": "code",
   "execution_count": null,
   "outputs": [],
   "source": [
    "#data = FeatureExtractor(input_path=input_path, binary=False, sentiment=True)\n",
    "data = FeatureExtractor(input_path=input_path, binary=binary_pipeline, sentiment=True, config_name='06-06-22__18:30__ternary')"
   ],
   "metadata": {
    "collapsed": false,
    "pycharm": {
     "name": "#%%\n"
    }
   }
  },
  {
   "cell_type": "code",
   "execution_count": null,
   "outputs": [],
   "source": [
    "data.input_data"
   ],
   "metadata": {
    "collapsed": false,
    "pycharm": {
     "name": "#%%\n"
    }
   }
  },
  {
   "cell_type": "code",
   "execution_count": null,
   "outputs": [],
   "source": [
    "#data.split_train_test(test_size=0.2, random_state=17, as_binary=False)\n",
    "data.split_train_test(test_size=0.2, random_state=17, as_binary=binary_pipeline, persist=True)"
   ],
   "metadata": {
    "collapsed": false,
    "pycharm": {
     "name": "#%%\n"
    }
   }
  },
  {
   "cell_type": "code",
   "execution_count": null,
   "outputs": [],
   "source": [
    "data.X_test"
   ],
   "metadata": {
    "collapsed": false,
    "pycharm": {
     "name": "#%%\n"
    }
   }
  },
  {
   "cell_type": "code",
   "execution_count": null,
   "outputs": [],
   "source": [
    "# loading from persistance\n",
    "\n",
    "data = FeatureExtractor(from_path='preproc_data__06-06-22__18:30__ternary')\n"
   ],
   "metadata": {
    "collapsed": false,
    "pycharm": {
     "name": "#%%\n"
    }
   }
  },
  {
   "cell_type": "code",
   "execution_count": null,
   "outputs": [],
   "source": [
    "data.X_train"
   ],
   "metadata": {
    "collapsed": false,
    "pycharm": {
     "name": "#%%\n"
    }
   }
  },
  {
   "cell_type": "code",
   "execution_count": null,
   "outputs": [],
   "source": [
    "# temporary fix\n",
    "#data.X_train['sentiment'] = data.X_train['sentiment'].apply(lambda x: [x])\n",
    "#data.X_test['sentiment'] = data.X_test['sentiment'].apply(lambda x: [x])"
   ],
   "metadata": {
    "collapsed": false,
    "pycharm": {
     "name": "#%%\n"
    }
   }
  },
  {
   "cell_type": "code",
   "execution_count": null,
   "outputs": [],
   "source": [
    "from typing import List\n",
    "\n",
    "experiments = {\n",
    "    'experiment_1': ['tfidf'],\n",
    "    'experiment_2': ['tfidf', 'body_stats'],\n",
    "    'experiment_3': ['tfidf', 'body_stats', 'syntactic'],\n",
    "    'experiment_4': ['tfidf', 'body_stats', 'syntactic', 'indicators'],\n",
    "    'experiment_5': ['medical'],\n",
    "    'experiment_6': ['tfidf', 'medical'],\n",
    "    'experiment_7': ['tfidf', 'body_stats', 'syntactic', 'indicators', 'medical'],\n",
    "    'experiment_8': ['embeddings'],\n",
    "    'experiment_9': ['tfidf', 'embeddings'],\n",
    "    'experiment_10': ['tfidf', 'body_stats', 'syntactic', 'indicators', 'medical', 'embeddings'],\n",
    "    'experiment_11': ['sentiment'],\n",
    "    'experiment_12': ['tfidf', 'body_stats', 'syntactic', 'indicators', 'medical', 'sentiment'],\n",
    "    'experiment_13': ['tfidf', 'body_stats', 'syntactic', 'indicators', 'medical', 'embeddings', 'sentiment']\n",
    "}\n",
    "\n",
    "def _generate_config(active_features: List[str]) -> dict:\n",
    "    feature_config = {}\n",
    "    for feat in active_features:\n",
    "        feature_config[feat] = 1\n",
    "    return feature_config"
   ],
   "metadata": {
    "collapsed": false,
    "pycharm": {
     "name": "#%%\n"
    }
   }
  },
  {
   "cell_type": "code",
   "execution_count": null,
   "outputs": [],
   "source": [],
   "metadata": {
    "collapsed": false,
    "pycharm": {
     "name": "#%%\n"
    }
   }
  },
  {
   "cell_type": "code",
   "execution_count": null,
   "outputs": [],
   "source": [],
   "metadata": {
    "collapsed": false,
    "pycharm": {
     "name": "#%%\n"
    }
   }
  },
  {
   "cell_type": "code",
   "execution_count": null,
   "outputs": [],
   "source": [
    "results = []\n",
    "reports = []\n",
    "experiment_ids = []\n",
    "\n",
    "for experiment, feat_list in experiments.items():\n",
    "    for context_value in [False, True]:\n",
    "        feature_pipeline = data.run_feature_extraction(feature_config=_generate_config(feat_list), context=context_value)\n",
    "        X_train  = feature_pipeline.fit_transform(X=data.X_train)\n",
    "        X_test = feature_pipeline.transform(data.X_test)\n",
    "        for target_config in ['binary', 'ternary']:\n",
    "            if target_config == 'ternary':\n",
    "                num_classes = 3\n",
    "                data.y_train = data.X_train['target']\n",
    "                data.y_test = data.X_test['target']\n",
    "            if target_config == 'binary':\n",
    "                num_classes = 2\n",
    "                data.y_train = [0  if label==0 else 1 for label in data.X_train['target']]\n",
    "                data.y_test = [0  if label==0 else 1 for label in data.X_test['target']]\n",
    "\n",
    "            for model in classical_models.keys():\n",
    "                experiment_id = f\"{experiment}__model:{model}__context:{context_value}__label_config:{target_config}\"\n",
    "                print(f\"Executing :: {experiment_id}\")\n",
    "                try:\n",
    "                    report, y_predicted = data.run_classification(model=model, features={'train': X_train, 'test': X_test}, num_classes=num_classes)\n",
    "                    results.append(y_predicted)\n",
    "                    reports.append(report)\n",
    "                    experiment_ids.append(experiment_id)\n",
    "                except Exception as e:\n",
    "                    print(f\"failing experiment: {experiment_id} with error {e}\")\n"
   ],
   "metadata": {
    "collapsed": false,
    "pycharm": {
     "name": "#%%\n"
    }
   }
  },
  {
   "cell_type": "markdown",
   "source": [
    "### TODO\n",
    "\n",
    "[ ] For the current classifier, get the best performing configurations\n",
    "[ ] For the best classifiers, apply grid search. For example: LogisticRegression and XGBoost (objective 'multi:softprob'\n",
    "[ ] Combine best classifier in binary => cascade => best classifier distinguishing class 1 and 2\n",
    "[ ] Check the case in which binary stage is 100% => apply classifier only for class 1 / 2\n",
    "[ ] With the most promising configurations, find ensembles (for binary and ternary)\n",
    "[ ] Get results using Transformers => which features and hyper-parameters are usually used?\n",
    "[ ] Best binary result => apply cascade to other systems (classical ML & Transf)\n",
    "[ ] Best ternary result => find ensembles\n",
    "[ ] Show differences: which cases are well covered by transformers / CMLS / ... ?\n",
    "[ ] Talk about features: when the context is relevant...\n",
    "[ ] Cross-validation ??\n"
   ],
   "metadata": {
    "collapsed": false
   }
  },
  {
   "cell_type": "code",
   "execution_count": null,
   "outputs": [],
   "source": [
    "binary_experiments = [idx for idx, text in enumerate(experiment_ids) if 'label_config:binary' in text]\n",
    "ternary_experiments = [idx for idx, text in enumerate(experiment_ids) if 'label_config:ternary' in text]\n",
    "\n",
    "binary_experiment_ids = [experiment_ids[i] for i in binary_experiments]\n",
    "ternary_experiment_ids = [experiment_ids[i] for i in ternary_experiments]\n",
    "\n",
    "binary_reports = [reports[i] for i in binary_experiments]\n",
    "ternary_reports = [reports[i] for i in ternary_experiments]\n",
    "\n",
    "binary_results = [results[i] for i in binary_experiments]\n",
    "ternary_results = [results[i] for i in ternary_experiments]"
   ],
   "metadata": {
    "collapsed": false,
    "pycharm": {
     "name": "#%%\n"
    }
   }
  },
  {
   "cell_type": "code",
   "execution_count": null,
   "outputs": [],
   "source": [
    "def flatten_report(report_list):\n",
    "    flat_reports = []\n",
    "    for rep in report_list:\n",
    "        flat_dict = {}\n",
    "        for key, value in rep.items():\n",
    "            if isinstance(value, dict):\n",
    "                for key2, value2 in value.items():\n",
    "                    flat_dict[f\"{key}.{key2}\"] = value2\n",
    "            else:\n",
    "                flat_dict[key] = value\n",
    "        flat_reports.append(flat_dict)\n",
    "    return flat_reports"
   ],
   "metadata": {
    "collapsed": false,
    "pycharm": {
     "name": "#%%\n"
    }
   }
  },
  {
   "cell_type": "code",
   "execution_count": null,
   "outputs": [],
   "source": [],
   "metadata": {
    "collapsed": false,
    "pycharm": {
     "name": "#%%\n"
    }
   }
  },
  {
   "cell_type": "code",
   "execution_count": null,
   "outputs": [],
   "source": [],
   "metadata": {
    "collapsed": false,
    "pycharm": {
     "name": "#%%\n"
    }
   }
  },
  {
   "cell_type": "code",
   "execution_count": null,
   "outputs": [],
   "source": [
    "\n",
    "tern_reports_df = pd.DataFrame(flatten_report(ternary_reports))\n",
    "tern_reports_df['experiment'] = list(ternary_experiment_ids)\n",
    "tern_reports_df['feats'] = [str(feat_list) for feat_list in ternary_experiment_ids]\n",
    "tern_reports_df"
   ],
   "metadata": {
    "collapsed": false,
    "pycharm": {
     "name": "#%%\n"
    }
   }
  },
  {
   "cell_type": "code",
   "execution_count": null,
   "outputs": [],
   "source": [
    "\n",
    "bin_reports_df = pd.DataFrame(flatten_report(binary_reports))\n",
    "bin_reports_df['experiment'] = list(binary_experiment_ids)\n",
    "bin_reports_df['feats'] = [str(feat_list) for feat_list in binary_experiment_ids]\n",
    "bin_reports_df"
   ],
   "metadata": {
    "collapsed": false,
    "pycharm": {
     "name": "#%%\n"
    }
   }
  },
  {
   "cell_type": "code",
   "execution_count": null,
   "outputs": [],
   "source": [],
   "metadata": {
    "collapsed": false,
    "pycharm": {
     "name": "#%%\n"
    }
   }
  },
  {
   "cell_type": "code",
   "execution_count": null,
   "outputs": [],
   "source": [
    "# Persisting\n",
    "bin_reports_df.to_csv('06-06-22__binary_reports.csv')\n",
    "tern_reports_df.to_csv ('06-06-22__ternary_reports.csv')"
   ],
   "metadata": {
    "collapsed": false,
    "pycharm": {
     "name": "#%%\n"
    }
   }
  },
  {
   "cell_type": "code",
   "execution_count": null,
   "outputs": [],
   "source": [
    "bin_reports_df = pd.read_csv('06-06-22__binary_reports.csv')\n",
    "tern_reports_df = pd.read_csv('06-06-22__ternary_reports.csv')"
   ],
   "metadata": {
    "collapsed": false,
    "pycharm": {
     "name": "#%%\n"
    }
   }
  },
  {
   "cell_type": "code",
   "execution_count": null,
   "outputs": [],
   "source": [
    "mat_binary_results = pd.DataFrame(binary_results)\n",
    "mat_binary_results['experiment_descr'] = [exp for exp in experiment_ids if 'binary' in exp]\n",
    "mat_binary_results"
   ],
   "metadata": {
    "collapsed": false,
    "pycharm": {
     "name": "#%%\n"
    }
   }
  },
  {
   "cell_type": "code",
   "execution_count": null,
   "outputs": [],
   "source": [
    "mat_ternary_results = pd.DataFrame(ternary_results)\n",
    "mat_ternary_results['experiment_descr'] = [exp for exp in experiment_ids if 'ternary' in exp]\n",
    "mat_ternary_results"
   ],
   "metadata": {
    "collapsed": false,
    "pycharm": {
     "name": "#%%\n"
    }
   }
  },
  {
   "cell_type": "markdown",
   "source": [],
   "metadata": {
    "collapsed": false
   }
  },
  {
   "cell_type": "code",
   "execution_count": null,
   "outputs": [],
   "source": [
    "# persist\n",
    "mat_binary_results.to_csv('06-06-22__binary_results.csv')\n",
    "mat_ternary_results.to_csv('06-06-22__binary_results.csv')"
   ],
   "metadata": {
    "collapsed": false,
    "pycharm": {
     "name": "#%%\n"
    }
   }
  },
  {
   "cell_type": "code",
   "execution_count": null,
   "outputs": [],
   "source": [],
   "metadata": {
    "collapsed": false,
    "pycharm": {
     "name": "#%%\n"
    }
   }
  },
  {
   "cell_type": "code",
   "execution_count": null,
   "outputs": [],
   "source": [],
   "metadata": {
    "collapsed": false,
    "pycharm": {
     "name": "#%%\n"
    }
   }
  },
  {
   "cell_type": "code",
   "execution_count": null,
   "outputs": [],
   "source": [
    "mat_binary_results.describe(\n",
    ")"
   ],
   "metadata": {
    "collapsed": false,
    "pycharm": {
     "name": "#%%\n"
    }
   }
  },
  {
   "cell_type": "code",
   "execution_count": null,
   "outputs": [],
   "source": [
    "mat_binary_results[0].describe().iloc[1]"
   ],
   "metadata": {
    "collapsed": false,
    "pycharm": {
     "name": "#%%\n"
    }
   }
  },
  {
   "cell_type": "code",
   "execution_count": null,
   "outputs": [],
   "source": [],
   "metadata": {
    "collapsed": false,
    "pycharm": {
     "name": "#%%\n"
    }
   }
  },
  {
   "cell_type": "code",
   "execution_count": null,
   "outputs": [],
   "source": [
    "top_f1_binary[10].value_counts()"
   ],
   "metadata": {
    "collapsed": false,
    "pycharm": {
     "name": "#%%\n"
    }
   }
  },
  {
   "cell_type": "code",
   "execution_count": null,
   "outputs": [],
   "source": [],
   "metadata": {
    "collapsed": false,
    "pycharm": {
     "name": "#%%\n"
    }
   }
  },
  {
   "cell_type": "code",
   "execution_count": null,
   "outputs": [],
   "source": [
    "def major_vote(df):\n",
    "    results = []\n",
    "    for col in df.columns:\n",
    "        results.append(df[col].mode())\n",
    "    return results\n",
    "\n",
    "def disagreed_vote(df, perc=0.2, base_value=0, peak=1):\n",
    "    results = []\n",
    "    for col in df.columns:\n",
    "        if df[col].value_counts().to_dict()[base_value] / len(df[col]) >= perc:\n",
    "            results.append(0)\n",
    "        else:\n",
    "            results.append(1)\n",
    "    return results\n",
    "\n",
    "\n",
    "def majority_vote_multi(df, threshold: float = 0.3):\n",
    "    results = []\n",
    "    descr = df.describe()\n",
    "    for col in descr.columns:\n",
    "        std = descr[col].iloc[1]\n",
    "        if std >= threshold:\n",
    "            results.append(int(std) + 1)\n",
    "        else:\n",
    "            results.append(int(std))\n",
    "    return results"
   ],
   "metadata": {
    "collapsed": false,
    "pycharm": {
     "name": "#%%\n"
    }
   }
  },
  {
   "cell_type": "code",
   "execution_count": null,
   "outputs": [],
   "source": [
    "binary_voted = majority_vote_multi()"
   ],
   "metadata": {
    "collapsed": false,
    "pycharm": {
     "name": "#%%\n"
    }
   }
  },
  {
   "cell_type": "code",
   "execution_count": null,
   "outputs": [],
   "source": [
    "y_test_bin = [0  if label==0 else 1 for label in data.X_test['target']]\n",
    "y_test_tern = data.X_test['target'].to_list()"
   ],
   "metadata": {
    "collapsed": false,
    "pycharm": {
     "name": "#%%\n"
    }
   }
  },
  {
   "cell_type": "code",
   "execution_count": null,
   "outputs": [],
   "source": [
    "from collections import Counter\n",
    "\n",
    "Counter(y_test_bin)"
   ],
   "metadata": {
    "collapsed": false,
    "pycharm": {
     "name": "#%%\n"
    }
   }
  },
  {
   "cell_type": "code",
   "execution_count": null,
   "outputs": [],
   "source": [
    "Counter(y_test_tern)\n"
   ],
   "metadata": {
    "collapsed": false,
    "pycharm": {
     "name": "#%%\n"
    }
   }
  },
  {
   "cell_type": "code",
   "execution_count": null,
   "outputs": [],
   "source": [
    "data.X_test['agreed_labels'].value_counts()"
   ],
   "metadata": {
    "collapsed": false,
    "pycharm": {
     "name": "#%%\n"
    }
   }
  },
  {
   "cell_type": "code",
   "execution_count": null,
   "outputs": [],
   "source": [
    "\n",
    "from sklearn.metrics import classification_report\n"
   ],
   "metadata": {
    "collapsed": false,
    "pycharm": {
     "name": "#%%\n"
    }
   }
  },
  {
   "cell_type": "code",
   "execution_count": null,
   "outputs": [],
   "source": [
    "print(classification_report(binary_voted, y_test))"
   ],
   "metadata": {
    "collapsed": false,
    "pycharm": {
     "name": "#%%\n"
    }
   }
  },
  {
   "cell_type": "code",
   "execution_count": null,
   "outputs": [],
   "source": [
    "f1_values = []\n",
    "std_thresholds = np.linspace(0.01, 0.7, 11)\n",
    "for th in std_thresholds:\n",
    "    f1 = classification_report(majority_vote_multi(threshold=th), y_test, output_dict=True)['macro avg'][\"f1-score\"]\n",
    "    f1_values.append(f1)\n",
    "pd.DataFrame({'y': f1_values, 'x':std_thresholds}).plot(x='x', y='y')"
   ],
   "metadata": {
    "collapsed": false,
    "pycharm": {
     "name": "#%%\n"
    }
   }
  },
  {
   "cell_type": "code",
   "execution_count": null,
   "outputs": [],
   "source": [
    "pd.DataFrame({'y': f1_values, 'x':std_thresholds}).plot(x='x', y='y')"
   ],
   "metadata": {
    "collapsed": false,
    "pycharm": {
     "name": "#%%\n"
    }
   }
  },
  {
   "cell_type": "code",
   "execution_count": null,
   "outputs": [],
   "source": [
    "print(classification_report(majority_vote_multi(0.15), y_test))"
   ],
   "metadata": {
    "collapsed": false,
    "pycharm": {
     "name": "#%%\n"
    }
   }
  },
  {
   "cell_type": "markdown",
   "source": [
    "---"
   ],
   "metadata": {
    "collapsed": false
   }
  },
  {
   "cell_type": "markdown",
   "source": [
    "### Show me the best configurations"
   ],
   "metadata": {
    "collapsed": false
   }
  },
  {
   "cell_type": "code",
   "execution_count": null,
   "outputs": [],
   "source": [
    "# adding results to the result matrix\n",
    "def add_report_row(row, df, y_test):\n",
    "    flat_report = flatten_report([classification_report(df.iloc[row.name].to_list()[:-1], y_test, output_dict=True)])\n",
    "    for k,v in flat_report[0].items():\n",
    "        row[k] = v\n",
    "    return row"
   ],
   "metadata": {
    "collapsed": false,
    "pycharm": {
     "name": "#%%\n"
    }
   }
  },
  {
   "cell_type": "code",
   "execution_count": null,
   "outputs": [],
   "source": [
    "mat_binary_results = mat_binary_results.apply(lambda row: add_report_row(row, mat_binary_results, y_test_bin), axis=1)\n",
    "\n"
   ],
   "metadata": {
    "collapsed": false,
    "pycharm": {
     "name": "#%%\n"
    }
   }
  },
  {
   "cell_type": "code",
   "execution_count": null,
   "outputs": [],
   "source": [
    "mat_ternary_results"
   ],
   "metadata": {
    "collapsed": false,
    "pycharm": {
     "name": "#%%\n"
    }
   }
  },
  {
   "cell_type": "code",
   "execution_count": null,
   "outputs": [],
   "source": [],
   "metadata": {
    "collapsed": false,
    "pycharm": {
     "name": "#%%\n"
    }
   }
  },
  {
   "cell_type": "code",
   "execution_count": null,
   "outputs": [],
   "source": [
    "mat_ternary_results = mat_ternary_results.apply(lambda row: add_report_row(row, mat_ternary_results, y_test_tern), axis=1)"
   ],
   "metadata": {
    "collapsed": false,
    "pycharm": {
     "name": "#%%\n"
    }
   }
  },
  {
   "cell_type": "code",
   "execution_count": null,
   "outputs": [],
   "source": [],
   "metadata": {
    "collapsed": false,
    "pycharm": {
     "name": "#%%\n"
    }
   }
  },
  {
   "cell_type": "code",
   "execution_count": null,
   "outputs": [],
   "source": [],
   "metadata": {
    "collapsed": false,
    "pycharm": {
     "name": "#%%\n"
    }
   }
  },
  {
   "cell_type": "code",
   "execution_count": null,
   "outputs": [],
   "source": [
    "\n"
   ],
   "metadata": {
    "collapsed": false,
    "pycharm": {
     "name": "#%%\n"
    }
   }
  },
  {
   "cell_type": "code",
   "execution_count": 180,
   "outputs": [],
   "source": [
    "# Show me the best ones\n",
    "top_n = 5\n",
    "\n",
    "top_accuracy_binary = mat_binary_results.sort_values(by=['accuracy'], ascending=False)[:top_n]\n",
    "top_f1_binary = mat_binary_results.sort_values(by=['macro avg.f1-score'], ascending=False)[:top_n]\n",
    "\n",
    "#------\n",
    "\n",
    "top_accuracy_ternary = mat_ternary_results.sort_values(by=['accuracy'], ascending=False)[:top_n]\n",
    "top_f1_ternary = mat_ternary_results.sort_values(by=['macro avg.f1-score'], ascending=False)[:top_n]"
   ],
   "metadata": {
    "collapsed": false,
    "pycharm": {
     "name": "#%%\n"
    }
   }
  },
  {
   "cell_type": "code",
   "execution_count": 181,
   "outputs": [],
   "source": [
    "#top_accuracy_binary"
   ],
   "metadata": {
    "collapsed": false,
    "pycharm": {
     "name": "#%%\n"
    }
   }
  },
  {
   "cell_type": "markdown",
   "source": [
    "----"
   ],
   "metadata": {
    "collapsed": false
   }
  },
  {
   "cell_type": "code",
   "execution_count": 190,
   "outputs": [
    {
     "data": {
      "text/plain": "     0  1  2  3  4  5  6  7  8  9  ...  1.support  accuracy  \\\n4    0  0  0  1  0  0  1  1  0  1  ...        434  0.762417   \n16   0  0  0  1  0  0  1  1  0  1  ...        422  0.759106   \n77   0  0  0  1  0  0  1  1  0  1  ...        359  0.766556   \n120  0  0  0  1  0  0  0  0  0  1  ...        326  0.770695   \n68   0  0  0  1  0  0  0  0  0  1  ...        325  0.769868   \n\n     macro avg.precision  macro avg.recall  macro avg.f1-score  \\\n4               0.742796          0.749315            0.745552   \n16              0.736842          0.746298            0.740557   \n77              0.731845          0.762381            0.740010   \n120             0.729478          0.775291            0.739335   \n68              0.728398          0.774527            0.738223   \n\n     macro avg.support  weighted avg.precision  weighted avg.recall  \\\n4                 1208                0.766453             0.762417   \n16                1208                0.765580             0.759106   \n77                1208                0.792159             0.766556   \n120               1208                0.810743             0.770695   \n68                1208                0.810455             0.769868   \n\n     weighted avg.f1-score  weighted avg.support  \n4                 0.763990                  1208  \n16                0.761460                  1208  \n77                0.773709                  1208  \n120               0.780949                  1208  \n68                0.780265                  1208  \n\n[5 rows x 1226 columns]",
      "text/html": "<div>\n<style scoped>\n    .dataframe tbody tr th:only-of-type {\n        vertical-align: middle;\n    }\n\n    .dataframe tbody tr th {\n        vertical-align: top;\n    }\n\n    .dataframe thead th {\n        text-align: right;\n    }\n</style>\n<table border=\"1\" class=\"dataframe\">\n  <thead>\n    <tr style=\"text-align: right;\">\n      <th></th>\n      <th>0</th>\n      <th>1</th>\n      <th>2</th>\n      <th>3</th>\n      <th>4</th>\n      <th>5</th>\n      <th>6</th>\n      <th>7</th>\n      <th>8</th>\n      <th>9</th>\n      <th>...</th>\n      <th>1.support</th>\n      <th>accuracy</th>\n      <th>macro avg.precision</th>\n      <th>macro avg.recall</th>\n      <th>macro avg.f1-score</th>\n      <th>macro avg.support</th>\n      <th>weighted avg.precision</th>\n      <th>weighted avg.recall</th>\n      <th>weighted avg.f1-score</th>\n      <th>weighted avg.support</th>\n    </tr>\n  </thead>\n  <tbody>\n    <tr>\n      <th>4</th>\n      <td>0</td>\n      <td>0</td>\n      <td>0</td>\n      <td>1</td>\n      <td>0</td>\n      <td>0</td>\n      <td>1</td>\n      <td>1</td>\n      <td>0</td>\n      <td>1</td>\n      <td>...</td>\n      <td>434</td>\n      <td>0.762417</td>\n      <td>0.742796</td>\n      <td>0.749315</td>\n      <td>0.745552</td>\n      <td>1208</td>\n      <td>0.766453</td>\n      <td>0.762417</td>\n      <td>0.763990</td>\n      <td>1208</td>\n    </tr>\n    <tr>\n      <th>16</th>\n      <td>0</td>\n      <td>0</td>\n      <td>0</td>\n      <td>1</td>\n      <td>0</td>\n      <td>0</td>\n      <td>1</td>\n      <td>1</td>\n      <td>0</td>\n      <td>1</td>\n      <td>...</td>\n      <td>422</td>\n      <td>0.759106</td>\n      <td>0.736842</td>\n      <td>0.746298</td>\n      <td>0.740557</td>\n      <td>1208</td>\n      <td>0.765580</td>\n      <td>0.759106</td>\n      <td>0.761460</td>\n      <td>1208</td>\n    </tr>\n    <tr>\n      <th>77</th>\n      <td>0</td>\n      <td>0</td>\n      <td>0</td>\n      <td>1</td>\n      <td>0</td>\n      <td>0</td>\n      <td>1</td>\n      <td>1</td>\n      <td>0</td>\n      <td>1</td>\n      <td>...</td>\n      <td>359</td>\n      <td>0.766556</td>\n      <td>0.731845</td>\n      <td>0.762381</td>\n      <td>0.740010</td>\n      <td>1208</td>\n      <td>0.792159</td>\n      <td>0.766556</td>\n      <td>0.773709</td>\n      <td>1208</td>\n    </tr>\n    <tr>\n      <th>120</th>\n      <td>0</td>\n      <td>0</td>\n      <td>0</td>\n      <td>1</td>\n      <td>0</td>\n      <td>0</td>\n      <td>0</td>\n      <td>0</td>\n      <td>0</td>\n      <td>1</td>\n      <td>...</td>\n      <td>326</td>\n      <td>0.770695</td>\n      <td>0.729478</td>\n      <td>0.775291</td>\n      <td>0.739335</td>\n      <td>1208</td>\n      <td>0.810743</td>\n      <td>0.770695</td>\n      <td>0.780949</td>\n      <td>1208</td>\n    </tr>\n    <tr>\n      <th>68</th>\n      <td>0</td>\n      <td>0</td>\n      <td>0</td>\n      <td>1</td>\n      <td>0</td>\n      <td>0</td>\n      <td>0</td>\n      <td>0</td>\n      <td>0</td>\n      <td>1</td>\n      <td>...</td>\n      <td>325</td>\n      <td>0.769868</td>\n      <td>0.728398</td>\n      <td>0.774527</td>\n      <td>0.738223</td>\n      <td>1208</td>\n      <td>0.810455</td>\n      <td>0.769868</td>\n      <td>0.780265</td>\n      <td>1208</td>\n    </tr>\n  </tbody>\n</table>\n<p>5 rows × 1226 columns</p>\n</div>"
     },
     "execution_count": 190,
     "metadata": {},
     "output_type": "execute_result"
    }
   ],
   "source": [
    "top_f1_binary"
   ],
   "metadata": {
    "collapsed": false,
    "pycharm": {
     "name": "#%%\n"
    }
   }
  },
  {
   "cell_type": "code",
   "execution_count": 182,
   "outputs": [
    {
     "data": {
      "text/plain": "['experiment_1__model:RandomForest__context:False__label_config:binary',\n 'experiment_2__model:RandomForest__context:False__label_config:binary',\n 'experiment_7__model:XGB__context:True__label_config:binary',\n 'experiment_12__model:LogisticRegression__context:False__label_config:binary',\n 'experiment_7__model:LogisticRegression__context:False__label_config:binary']"
     },
     "execution_count": 182,
     "metadata": {},
     "output_type": "execute_result"
    }
   ],
   "source": [
    "top_f1_binary['experiment_descr'].values.tolist()"
   ],
   "metadata": {
    "collapsed": false,
    "pycharm": {
     "name": "#%%\n"
    }
   }
  },
  {
   "cell_type": "code",
   "execution_count": 183,
   "outputs": [
    {
     "data": {
      "text/plain": "['experiment_13__model:SGDClassifier__context:False__label_config:ternary',\n 'experiment_12__model:SGDClassifier__context:False__label_config:ternary',\n 'experiment_10__model:SGDClassifier__context:False__label_config:ternary',\n 'experiment_4__model:SGDClassifier__context:False__label_config:ternary',\n 'experiment_7__model:SGDClassifier__context:False__label_config:ternary']"
     },
     "execution_count": 183,
     "metadata": {},
     "output_type": "execute_result"
    }
   ],
   "source": [
    "top_f1_ternary['experiment_descr'].values.tolist()"
   ],
   "metadata": {
    "collapsed": false,
    "pycharm": {
     "name": "#%%\n"
    }
   }
  },
  {
   "cell_type": "code",
   "execution_count": 184,
   "outputs": [],
   "source": [
    "def evaluate_majority(df, y_test):\n",
    "    f1_values = []\n",
    "    std_thresholds = np.linspace(0.01, 0.8, 11)\n",
    "\n",
    "    for th in std_thresholds:\n",
    "        report = classification_report(majority_vote_multi(df=df, threshold=th), y_test, output_dict=True)\n",
    "        print(report)\n",
    "        f1_values.append(report['macro avg'][\"f1-score\"])\n",
    "    res = pd.DataFrame({'y': f1_values, 'x':std_thresholds})\n",
    "    res.plot(x='x', y='y')\n",
    "    return res"
   ],
   "metadata": {
    "collapsed": false,
    "pycharm": {
     "name": "#%%\n"
    }
   }
  },
  {
   "cell_type": "code",
   "execution_count": 185,
   "outputs": [
    {
     "name": "stdout",
     "output_type": "stream",
     "text": [
      "Vote Top 10 :               precision    recall  f1-score   support\n",
      "\n",
      "           0       0.89      0.80      0.84       836\n",
      "           1       0.63      0.79      0.70       372\n",
      "\n",
      "    accuracy                           0.79      1208\n",
      "   macro avg       0.76      0.79      0.77      1208\n",
      "weighted avg       0.81      0.79      0.80      1208\n",
      "\n",
      " Top 1 :               precision    recall  f1-score   support\n",
      "\n",
      "           0       0.83      0.80      0.81       774\n",
      "           1       0.66      0.70      0.68       434\n",
      "\n",
      "    accuracy                           0.76      1208\n",
      "   macro avg       0.74      0.75      0.75      1208\n",
      "weighted avg       0.77      0.76      0.76      1208\n",
      "\n"
     ]
    }
   ],
   "source": [
    "\n",
    "print(f\"Vote Top 10 : {classification_report(top_f1_binary[list(range(0,1208))].mode().iloc[0], y_test_bin)}\")\n",
    "print(f\" Top 1 : {classification_report(top_f1_binary[list(range(0,1208))].iloc[0], y_test_bin)}\")"
   ],
   "metadata": {
    "collapsed": false,
    "pycharm": {
     "name": "#%%\n"
    }
   }
  },
  {
   "cell_type": "code",
   "execution_count": 189,
   "outputs": [],
   "source": [
    "pd.DataFrame(classification_report(top_f1_binary[list(range(0,1208))].mode().iloc[0], y_test_bin, output_dict=True)).transpose().to_csv('voted_f1_binary_v1.csv')"
   ],
   "metadata": {
    "collapsed": false,
    "pycharm": {
     "name": "#%%\n"
    }
   }
  },
  {
   "cell_type": "code",
   "execution_count": 186,
   "outputs": [
    {
     "name": "stdout",
     "output_type": "stream",
     "text": [
      "Vote Top 10 :               precision    recall  f1-score   support\n",
      "\n",
      "         0.0       0.84      0.77      0.80       819\n",
      "         1.0       0.48      0.56      0.52       198\n",
      "         2.0       0.40      0.49      0.44       191\n",
      "\n",
      "    accuracy                           0.69      1208\n",
      "   macro avg       0.57      0.60      0.59      1208\n",
      "weighted avg       0.71      0.69      0.70      1208\n",
      "\n",
      " Top 1 :               precision    recall  f1-score   support\n",
      "\n",
      "           0       0.85      0.77      0.81       818\n",
      "           1       0.49      0.55      0.52       203\n",
      "           2       0.41      0.51      0.45       187\n",
      "\n",
      "    accuracy                           0.69      1208\n",
      "   macro avg       0.58      0.61      0.59      1208\n",
      "weighted avg       0.72      0.69      0.70      1208\n",
      "\n"
     ]
    }
   ],
   "source": [
    "\n",
    "print(f\"Vote Top 10 : {classification_report(top_f1_ternary[list(range(0,1208))].mode().iloc[0], y_test_tern)}\")\n",
    "print(f\" Top 1 : {classification_report(top_f1_ternary[list(range(0,1208))].iloc[0], y_test_tern)}\")"
   ],
   "metadata": {
    "collapsed": false,
    "pycharm": {
     "name": "#%%\n"
    }
   }
  },
  {
   "cell_type": "code",
   "execution_count": 133,
   "outputs": [],
   "source": [
    "    def disagreed_vote(df, perc=0.2, base_value=0, peak=1):\n",
    "    results = []\n",
    "    for col in df.columns:\n",
    "        try:\n",
    "            if df[col].value_counts().to_dict()[base_value] / len(df[col]) >= perc:\n",
    "                results.append(0)\n",
    "            else:\n",
    "                results.append(1)\n",
    "        except KeyError:\n",
    "            results.append(1)\n",
    "    return results\n",
    "\n",
    "def major_vote(df):\n",
    "    results = []\n",
    "    for col in df.columns:\n",
    "        results.append(df[col].mode())\n",
    "    return results\n",
    "\n",
    "\n",
    "def majority_vote_multi(df, threshold: float = 0.3):\n",
    "    results = []\n",
    "    descr = df.describe()\n",
    "    for col in descr.columns:\n",
    "        std = descr[col].iloc[1]\n",
    "        if std >= threshold:\n",
    "            results.append(int(std) + 1)\n",
    "        else:\n",
    "            results.append(int(std))\n",
    "    return results\n",
    "\n",
    "def evaluate_majority(df, y_test):\n",
    "    f1_values = []\n",
    "    std_thresholds = np.linspace(0.01, 0.9, 11)\n",
    "\n",
    "    for th in std_thresholds:\n",
    "        report = classification_report(disagreed_vote(df=df, perc=th), y_test, output_dict=True)\n",
    "        print(report)\n",
    "        f1_values.append(report['macro avg'][\"f1-score\"])\n",
    "    res = pd.DataFrame({'y': f1_values, 'x':std_thresholds})\n",
    "    res.plot(x='x', y='y')\n",
    "    return res"
   ],
   "metadata": {
    "collapsed": false,
    "pycharm": {
     "name": "#%%\n"
    }
   }
  },
  {
   "cell_type": "code",
   "execution_count": 134,
   "outputs": [
    {
     "name": "stdout",
     "output_type": "stream",
     "text": [
      "{'0': {'precision': 0.959731543624161, 'recall': 0.7086223984142715, 'f1-score': 0.8152793614595212, 'support': 1009}, '1': {'precision': 0.3650107991360691, 'recall': 0.8492462311557789, 'f1-score': 0.5105740181268882, 'support': 199}, 'accuracy': 0.7317880794701986, 'macro avg': {'precision': 0.662371171380115, 'recall': 0.7789343147850252, 'f1-score': 0.6629266897932047, 'support': 1208}, 'weighted avg': {'precision': 0.8617601627026956, 'recall': 0.7317880794701986, 'f1-score': 0.7650836964568772, 'support': 1208}}\n",
      "{'0': {'precision': 0.959731543624161, 'recall': 0.7086223984142715, 'f1-score': 0.8152793614595212, 'support': 1009}, '1': {'precision': 0.3650107991360691, 'recall': 0.8492462311557789, 'f1-score': 0.5105740181268882, 'support': 199}, 'accuracy': 0.7317880794701986, 'macro avg': {'precision': 0.662371171380115, 'recall': 0.7789343147850252, 'f1-score': 0.6629266897932047, 'support': 1208}, 'weighted avg': {'precision': 0.8617601627026956, 'recall': 0.7317880794701986, 'f1-score': 0.7650836964568772, 'support': 1208}}\n",
      "{'0': {'precision': 0.959731543624161, 'recall': 0.7086223984142715, 'f1-score': 0.8152793614595212, 'support': 1009}, '1': {'precision': 0.3650107991360691, 'recall': 0.8492462311557789, 'f1-score': 0.5105740181268882, 'support': 199}, 'accuracy': 0.7317880794701986, 'macro avg': {'precision': 0.662371171380115, 'recall': 0.7789343147850252, 'f1-score': 0.6629266897932047, 'support': 1208}, 'weighted avg': {'precision': 0.8617601627026956, 'recall': 0.7317880794701986, 'f1-score': 0.7650836964568772, 'support': 1208}}\n",
      "{'0': {'precision': 0.9302013422818792, 'recall': 0.7467672413793104, 'f1-score': 0.8284518828451883, 'support': 928}, '1': {'precision': 0.4924406047516199, 'recall': 0.8142857142857143, 'f1-score': 0.6137281292059219, 'support': 280}, 'accuracy': 0.7624172185430463, 'macro avg': {'precision': 0.7113209735167496, 'recall': 0.7805264778325123, 'f1-score': 0.7210900060255552, 'support': 1208}, 'weighted avg': {'precision': 0.8287336216622826, 'recall': 0.7624172185430463, 'f1-score': 0.7786814763725106, 'support': 1208}}\n",
      "{'0': {'precision': 0.9302013422818792, 'recall': 0.7467672413793104, 'f1-score': 0.8284518828451883, 'support': 928}, '1': {'precision': 0.4924406047516199, 'recall': 0.8142857142857143, 'f1-score': 0.6137281292059219, 'support': 280}, 'accuracy': 0.7624172185430463, 'macro avg': {'precision': 0.7113209735167496, 'recall': 0.7805264778325123, 'f1-score': 0.7210900060255552, 'support': 1208}, 'weighted avg': {'precision': 0.8287336216622826, 'recall': 0.7624172185430463, 'f1-score': 0.7786814763725106, 'support': 1208}}\n",
      "{'0': {'precision': 0.8939597315436242, 'recall': 0.7966507177033493, 'f1-score': 0.8425047438330171, 'support': 836}, '1': {'precision': 0.6328293736501079, 'recall': 0.7876344086021505, 'f1-score': 0.7017964071856287, 'support': 372}, 'accuracy': 0.7938741721854304, 'macro avg': {'precision': 0.7633945525968661, 'recall': 0.7921425631527499, 'f1-score': 0.772150575509323, 'support': 1208}, 'weighted avg': {'precision': 0.8135454160333692, 'recall': 0.7938741721854304, 'f1-score': 0.799174030891934, 'support': 1208}}\n",
      "{'0': {'precision': 0.8939597315436242, 'recall': 0.7966507177033493, 'f1-score': 0.8425047438330171, 'support': 836}, '1': {'precision': 0.6328293736501079, 'recall': 0.7876344086021505, 'f1-score': 0.7017964071856287, 'support': 372}, 'accuracy': 0.7938741721854304, 'macro avg': {'precision': 0.7633945525968661, 'recall': 0.7921425631527499, 'f1-score': 0.772150575509323, 'support': 1208}, 'weighted avg': {'precision': 0.8135454160333692, 'recall': 0.7938741721854304, 'f1-score': 0.799174030891934, 'support': 1208}}\n",
      "{'0': {'precision': 0.8134228187919463, 'recall': 0.8189189189189189, 'f1-score': 0.8161616161616162, 'support': 740}, '1': {'precision': 0.7105831533477321, 'recall': 0.7029914529914529, 'f1-score': 0.7067669172932329, 'support': 468}, 'accuracy': 0.7740066225165563, 'macro avg': {'precision': 0.7620029860698392, 'recall': 0.760955185955186, 'f1-score': 0.7614642667274245, 'support': 1208}, 'weighted avg': {'precision': 0.7735809616496515, 'recall': 0.7740066225165563, 'f1-score': 0.773780226202673, 'support': 1208}}\n",
      "{'0': {'precision': 0.8134228187919463, 'recall': 0.8189189189189189, 'f1-score': 0.8161616161616162, 'support': 740}, '1': {'precision': 0.7105831533477321, 'recall': 0.7029914529914529, 'f1-score': 0.7067669172932329, 'support': 468}, 'accuracy': 0.7740066225165563, 'macro avg': {'precision': 0.7620029860698392, 'recall': 0.760955185955186, 'f1-score': 0.7614642667274245, 'support': 1208}, 'weighted avg': {'precision': 0.7735809616496515, 'recall': 0.7740066225165563, 'f1-score': 0.773780226202673, 'support': 1208}}\n",
      "{'0': {'precision': 0.7543624161073825, 'recall': 0.8502269288956127, 'f1-score': 0.7994310099573257, 'support': 661}, '1': {'precision': 0.7861771058315334, 'recall': 0.6654478976234004, 'f1-score': 0.7207920792079208, 'support': 547}, 'accuracy': 0.7665562913907285, 'macro avg': {'precision': 0.770269760969458, 'recall': 0.7578374132595065, 'f1-score': 0.7601115445826232, 'support': 1208}, 'weighted avg': {'precision': 0.7687685711397588, 'recall': 0.7665562913907285, 'f1-score': 0.7638221563812292, 'support': 1208}}\n",
      "{'0': {'precision': 0.7543624161073825, 'recall': 0.8502269288956127, 'f1-score': 0.7994310099573257, 'support': 661}, '1': {'precision': 0.7861771058315334, 'recall': 0.6654478976234004, 'f1-score': 0.7207920792079208, 'support': 547}, 'accuracy': 0.7665562913907285, 'macro avg': {'precision': 0.770269760969458, 'recall': 0.7578374132595065, 'f1-score': 0.7601115445826232, 'support': 1208}, 'weighted avg': {'precision': 0.7687685711397588, 'recall': 0.7665562913907285, 'f1-score': 0.7638221563812292, 'support': 1208}}\n"
     ]
    },
    {
     "data": {
      "text/plain": "           y      x\n0   0.662927  0.010\n1   0.662927  0.099\n2   0.662927  0.188\n3   0.721090  0.277\n4   0.721090  0.366\n5   0.772151  0.455\n6   0.772151  0.544\n7   0.761464  0.633\n8   0.761464  0.722\n9   0.760112  0.811\n10  0.760112  0.900",
      "text/html": "<div>\n<style scoped>\n    .dataframe tbody tr th:only-of-type {\n        vertical-align: middle;\n    }\n\n    .dataframe tbody tr th {\n        vertical-align: top;\n    }\n\n    .dataframe thead th {\n        text-align: right;\n    }\n</style>\n<table border=\"1\" class=\"dataframe\">\n  <thead>\n    <tr style=\"text-align: right;\">\n      <th></th>\n      <th>y</th>\n      <th>x</th>\n    </tr>\n  </thead>\n  <tbody>\n    <tr>\n      <th>0</th>\n      <td>0.662927</td>\n      <td>0.010</td>\n    </tr>\n    <tr>\n      <th>1</th>\n      <td>0.662927</td>\n      <td>0.099</td>\n    </tr>\n    <tr>\n      <th>2</th>\n      <td>0.662927</td>\n      <td>0.188</td>\n    </tr>\n    <tr>\n      <th>3</th>\n      <td>0.721090</td>\n      <td>0.277</td>\n    </tr>\n    <tr>\n      <th>4</th>\n      <td>0.721090</td>\n      <td>0.366</td>\n    </tr>\n    <tr>\n      <th>5</th>\n      <td>0.772151</td>\n      <td>0.455</td>\n    </tr>\n    <tr>\n      <th>6</th>\n      <td>0.772151</td>\n      <td>0.544</td>\n    </tr>\n    <tr>\n      <th>7</th>\n      <td>0.761464</td>\n      <td>0.633</td>\n    </tr>\n    <tr>\n      <th>8</th>\n      <td>0.761464</td>\n      <td>0.722</td>\n    </tr>\n    <tr>\n      <th>9</th>\n      <td>0.760112</td>\n      <td>0.811</td>\n    </tr>\n    <tr>\n      <th>10</th>\n      <td>0.760112</td>\n      <td>0.900</td>\n    </tr>\n  </tbody>\n</table>\n</div>"
     },
     "execution_count": 134,
     "metadata": {},
     "output_type": "execute_result"
    },
    {
     "data": {
      "text/plain": "<Figure size 432x288 with 1 Axes>",
      "image/png": "[encoded data removed]"
     },
     "metadata": {
      "needs_background": "light"
     },
     "output_type": "display_data"
    }
   ],
   "source": [
    "evaluate_majority(top_f1_binary[list(range(0,1208))][:15], y_test_bin)"
   ],
   "metadata": {
    "collapsed": false,
    "pycharm": {
     "name": "#%%\n"
    }
   }
  },
  {
   "cell_type": "code",
   "execution_count": 135,
   "outputs": [
    {
     "name": "stderr",
     "output_type": "stream",
     "text": [
      "/Users/ezequiellopez/_projects/UNED-PhD/src/venv/lib/python3.9/site-packages/sklearn/metrics/_classification.py:1308: UndefinedMetricWarning: Recall and F-score are ill-defined and being set to 0.0 in labels with no true samples. Use `zero_division` parameter to control this behavior.\n",
      "  _warn_prf(average, modifier, msg_start, len(result))\n",
      "/Users/ezequiellopez/_projects/UNED-PhD/src/venv/lib/python3.9/site-packages/sklearn/metrics/_classification.py:1308: UndefinedMetricWarning: Recall and F-score are ill-defined and being set to 0.0 in labels with no true samples. Use `zero_division` parameter to control this behavior.\n",
      "  _warn_prf(average, modifier, msg_start, len(result))\n",
      "/Users/ezequiellopez/_projects/UNED-PhD/src/venv/lib/python3.9/site-packages/sklearn/metrics/_classification.py:1308: UndefinedMetricWarning: Recall and F-score are ill-defined and being set to 0.0 in labels with no true samples. Use `zero_division` parameter to control this behavior.\n",
      "  _warn_prf(average, modifier, msg_start, len(result))\n"
     ]
    },
    {
     "name": "stdout",
     "output_type": "stream",
     "text": [
      "{'0': {'precision': 0.8738255033557047, 'recall': 0.7543453070683661, 'f1-score': 0.8097014925373135, 'support': 863}, '1': {'precision': 0.5526315789473685, 'recall': 0.3652173913043478, 'f1-score': 0.4397905759162304, 'support': 345}, '2': {'precision': 0.0, 'recall': 0.0, 'f1-score': 0.0, 'support': 0}, 'accuracy': 0.6432119205298014, 'macro avg': {'precision': 0.4754856941010244, 'recall': 0.37318756612423803, 'f1-score': 0.4164973561511813, 'support': 1208}, 'weighted avg': {'precision': 0.7820937948119332, 'recall': 0.6432119205298014, 'f1-score': 0.704056404595034, 'support': 1208}}\n",
      "{'0': {'precision': 0.8738255033557047, 'recall': 0.7543453070683661, 'f1-score': 0.8097014925373135, 'support': 863}, '1': {'precision': 0.5526315789473685, 'recall': 0.3652173913043478, 'f1-score': 0.4397905759162304, 'support': 345}, '2': {'precision': 0.0, 'recall': 0.0, 'f1-score': 0.0, 'support': 0}, 'accuracy': 0.6432119205298014, 'macro avg': {'precision': 0.4754856941010244, 'recall': 0.37318756612423803, 'f1-score': 0.4164973561511813, 'support': 1208}, 'weighted avg': {'precision': 0.7820937948119332, 'recall': 0.6432119205298014, 'f1-score': 0.704056404595034, 'support': 1208}}\n"
     ]
    },
    {
     "name": "stderr",
     "output_type": "stream",
     "text": [
      "/Users/ezequiellopez/_projects/UNED-PhD/src/venv/lib/python3.9/site-packages/sklearn/metrics/_classification.py:1308: UndefinedMetricWarning: Recall and F-score are ill-defined and being set to 0.0 in labels with no true samples. Use `zero_division` parameter to control this behavior.\n",
      "  _warn_prf(average, modifier, msg_start, len(result))\n",
      "/Users/ezequiellopez/_projects/UNED-PhD/src/venv/lib/python3.9/site-packages/sklearn/metrics/_classification.py:1308: UndefinedMetricWarning: Recall and F-score are ill-defined and being set to 0.0 in labels with no true samples. Use `zero_division` parameter to control this behavior.\n",
      "  _warn_prf(average, modifier, msg_start, len(result))\n",
      "/Users/ezequiellopez/_projects/UNED-PhD/src/venv/lib/python3.9/site-packages/sklearn/metrics/_classification.py:1308: UndefinedMetricWarning: Recall and F-score are ill-defined and being set to 0.0 in labels with no true samples. Use `zero_division` parameter to control this behavior.\n",
      "  _warn_prf(average, modifier, msg_start, len(result))\n",
      "/Users/ezequiellopez/_projects/UNED-PhD/src/venv/lib/python3.9/site-packages/sklearn/metrics/_classification.py:1308: UndefinedMetricWarning: Recall and F-score are ill-defined and being set to 0.0 in labels with no true samples. Use `zero_division` parameter to control this behavior.\n",
      "  _warn_prf(average, modifier, msg_start, len(result))\n",
      "/Users/ezequiellopez/_projects/UNED-PhD/src/venv/lib/python3.9/site-packages/sklearn/metrics/_classification.py:1308: UndefinedMetricWarning: Recall and F-score are ill-defined and being set to 0.0 in labels with no true samples. Use `zero_division` parameter to control this behavior.\n",
      "  _warn_prf(average, modifier, msg_start, len(result))\n",
      "/Users/ezequiellopez/_projects/UNED-PhD/src/venv/lib/python3.9/site-packages/sklearn/metrics/_classification.py:1308: UndefinedMetricWarning: Recall and F-score are ill-defined and being set to 0.0 in labels with no true samples. Use `zero_division` parameter to control this behavior.\n",
      "  _warn_prf(average, modifier, msg_start, len(result))\n"
     ]
    },
    {
     "name": "stdout",
     "output_type": "stream",
     "text": [
      "{'0': {'precision': 0.8738255033557047, 'recall': 0.7543453070683661, 'f1-score': 0.8097014925373135, 'support': 863}, '1': {'precision': 0.5526315789473685, 'recall': 0.3652173913043478, 'f1-score': 0.4397905759162304, 'support': 345}, '2': {'precision': 0.0, 'recall': 0.0, 'f1-score': 0.0, 'support': 0}, 'accuracy': 0.6432119205298014, 'macro avg': {'precision': 0.4754856941010244, 'recall': 0.37318756612423803, 'f1-score': 0.4164973561511813, 'support': 1208}, 'weighted avg': {'precision': 0.7820937948119332, 'recall': 0.6432119205298014, 'f1-score': 0.704056404595034, 'support': 1208}}\n",
      "{'0': {'precision': 0.8536912751677852, 'recall': 0.7607655502392344, 'f1-score': 0.8045540796963946, 'support': 836}, '1': {'precision': 0.5833333333333334, 'recall': 0.3575268817204301, 'f1-score': 0.44333333333333336, 'support': 372}, '2': {'precision': 0.0, 'recall': 0.0, 'f1-score': 0.0, 'support': 0}, 'accuracy': 0.6365894039735099, 'macro avg': {'precision': 0.47900820283370615, 'recall': 0.37276414398655483, 'f1-score': 0.4159624710099093, 'support': 1208}, 'weighted avg': {'precision': 0.7704353526823414, 'recall': 0.6365894039735099, 'f1-score': 0.6933172273395579, 'support': 1208}}\n"
     ]
    },
    {
     "name": "stderr",
     "output_type": "stream",
     "text": [
      "/Users/ezequiellopez/_projects/UNED-PhD/src/venv/lib/python3.9/site-packages/sklearn/metrics/_classification.py:1308: UndefinedMetricWarning: Recall and F-score are ill-defined and being set to 0.0 in labels with no true samples. Use `zero_division` parameter to control this behavior.\n",
      "  _warn_prf(average, modifier, msg_start, len(result))\n",
      "/Users/ezequiellopez/_projects/UNED-PhD/src/venv/lib/python3.9/site-packages/sklearn/metrics/_classification.py:1308: UndefinedMetricWarning: Recall and F-score are ill-defined and being set to 0.0 in labels with no true samples. Use `zero_division` parameter to control this behavior.\n",
      "  _warn_prf(average, modifier, msg_start, len(result))\n",
      "/Users/ezequiellopez/_projects/UNED-PhD/src/venv/lib/python3.9/site-packages/sklearn/metrics/_classification.py:1308: UndefinedMetricWarning: Recall and F-score are ill-defined and being set to 0.0 in labels with no true samples. Use `zero_division` parameter to control this behavior.\n",
      "  _warn_prf(average, modifier, msg_start, len(result))\n",
      "/Users/ezequiellopez/_projects/UNED-PhD/src/venv/lib/python3.9/site-packages/sklearn/metrics/_classification.py:1308: UndefinedMetricWarning: Recall and F-score are ill-defined and being set to 0.0 in labels with no true samples. Use `zero_division` parameter to control this behavior.\n",
      "  _warn_prf(average, modifier, msg_start, len(result))\n",
      "/Users/ezequiellopez/_projects/UNED-PhD/src/venv/lib/python3.9/site-packages/sklearn/metrics/_classification.py:1308: UndefinedMetricWarning: Recall and F-score are ill-defined and being set to 0.0 in labels with no true samples. Use `zero_division` parameter to control this behavior.\n",
      "  _warn_prf(average, modifier, msg_start, len(result))\n",
      "/Users/ezequiellopez/_projects/UNED-PhD/src/venv/lib/python3.9/site-packages/sklearn/metrics/_classification.py:1308: UndefinedMetricWarning: Recall and F-score are ill-defined and being set to 0.0 in labels with no true samples. Use `zero_division` parameter to control this behavior.\n",
      "  _warn_prf(average, modifier, msg_start, len(result))\n"
     ]
    },
    {
     "name": "stdout",
     "output_type": "stream",
     "text": [
      "{'0': {'precision': 0.8536912751677852, 'recall': 0.7607655502392344, 'f1-score': 0.8045540796963946, 'support': 836}, '1': {'precision': 0.5833333333333334, 'recall': 0.3575268817204301, 'f1-score': 0.44333333333333336, 'support': 372}, '2': {'precision': 0.0, 'recall': 0.0, 'f1-score': 0.0, 'support': 0}, 'accuracy': 0.6365894039735099, 'macro avg': {'precision': 0.47900820283370615, 'recall': 0.37276414398655483, 'f1-score': 0.4159624710099093, 'support': 1208}, 'weighted avg': {'precision': 0.7704353526823414, 'recall': 0.6365894039735099, 'f1-score': 0.6933172273395579, 'support': 1208}}\n"
     ]
    },
    {
     "name": "stderr",
     "output_type": "stream",
     "text": [
      "/Users/ezequiellopez/_projects/UNED-PhD/src/venv/lib/python3.9/site-packages/sklearn/metrics/_classification.py:1308: UndefinedMetricWarning: Recall and F-score are ill-defined and being set to 0.0 in labels with no true samples. Use `zero_division` parameter to control this behavior.\n",
      "  _warn_prf(average, modifier, msg_start, len(result))\n",
      "/Users/ezequiellopez/_projects/UNED-PhD/src/venv/lib/python3.9/site-packages/sklearn/metrics/_classification.py:1308: UndefinedMetricWarning: Recall and F-score are ill-defined and being set to 0.0 in labels with no true samples. Use `zero_division` parameter to control this behavior.\n",
      "  _warn_prf(average, modifier, msg_start, len(result))\n",
      "/Users/ezequiellopez/_projects/UNED-PhD/src/venv/lib/python3.9/site-packages/sklearn/metrics/_classification.py:1308: UndefinedMetricWarning: Recall and F-score are ill-defined and being set to 0.0 in labels with no true samples. Use `zero_division` parameter to control this behavior.\n",
      "  _warn_prf(average, modifier, msg_start, len(result))\n"
     ]
    },
    {
     "name": "stdout",
     "output_type": "stream",
     "text": [
      "{'0': {'precision': 0.8389261744966443, 'recall': 0.7659313725490197, 'f1-score': 0.800768737988469, 'support': 816}, '1': {'precision': 0.6052631578947368, 'recall': 0.3520408163265306, 'f1-score': 0.4451612903225806, 'support': 392}, '2': {'precision': 0.0, 'recall': 0.0, 'f1-score': 0.0, 'support': 0}, 'accuracy': 0.6316225165562914, 'macro avg': {'precision': 0.4813964441304604, 'recall': 0.3726573962918501, 'f1-score': 0.41531000943701657, 'support': 1208}, 'weighted avg': {'precision': 0.7631017518907274, 'recall': 0.6316225165562914, 'f1-score': 0.6853729437127835, 'support': 1208}}\n"
     ]
    },
    {
     "name": "stderr",
     "output_type": "stream",
     "text": [
      "/Users/ezequiellopez/_projects/UNED-PhD/src/venv/lib/python3.9/site-packages/sklearn/metrics/_classification.py:1308: UndefinedMetricWarning: Recall and F-score are ill-defined and being set to 0.0 in labels with no true samples. Use `zero_division` parameter to control this behavior.\n",
      "  _warn_prf(average, modifier, msg_start, len(result))\n",
      "/Users/ezequiellopez/_projects/UNED-PhD/src/venv/lib/python3.9/site-packages/sklearn/metrics/_classification.py:1308: UndefinedMetricWarning: Recall and F-score are ill-defined and being set to 0.0 in labels with no true samples. Use `zero_division` parameter to control this behavior.\n",
      "  _warn_prf(average, modifier, msg_start, len(result))\n",
      "/Users/ezequiellopez/_projects/UNED-PhD/src/venv/lib/python3.9/site-packages/sklearn/metrics/_classification.py:1308: UndefinedMetricWarning: Recall and F-score are ill-defined and being set to 0.0 in labels with no true samples. Use `zero_division` parameter to control this behavior.\n",
      "  _warn_prf(average, modifier, msg_start, len(result))\n"
     ]
    },
    {
     "name": "stdout",
     "output_type": "stream",
     "text": [
      "{'0': {'precision': 0.8389261744966443, 'recall': 0.7659313725490197, 'f1-score': 0.800768737988469, 'support': 816}, '1': {'precision': 0.6052631578947368, 'recall': 0.3520408163265306, 'f1-score': 0.4451612903225806, 'support': 392}, '2': {'precision': 0.0, 'recall': 0.0, 'f1-score': 0.0, 'support': 0}, 'accuracy': 0.6316225165562914, 'macro avg': {'precision': 0.4813964441304604, 'recall': 0.3726573962918501, 'f1-score': 0.41531000943701657, 'support': 1208}, 'weighted avg': {'precision': 0.7631017518907274, 'recall': 0.6316225165562914, 'f1-score': 0.6853729437127835, 'support': 1208}}\n"
     ]
    },
    {
     "name": "stderr",
     "output_type": "stream",
     "text": [
      "/Users/ezequiellopez/_projects/UNED-PhD/src/venv/lib/python3.9/site-packages/sklearn/metrics/_classification.py:1308: UndefinedMetricWarning: Recall and F-score are ill-defined and being set to 0.0 in labels with no true samples. Use `zero_division` parameter to control this behavior.\n",
      "  _warn_prf(average, modifier, msg_start, len(result))\n",
      "/Users/ezequiellopez/_projects/UNED-PhD/src/venv/lib/python3.9/site-packages/sklearn/metrics/_classification.py:1308: UndefinedMetricWarning: Recall and F-score are ill-defined and being set to 0.0 in labels with no true samples. Use `zero_division` parameter to control this behavior.\n",
      "  _warn_prf(average, modifier, msg_start, len(result))\n",
      "/Users/ezequiellopez/_projects/UNED-PhD/src/venv/lib/python3.9/site-packages/sklearn/metrics/_classification.py:1308: UndefinedMetricWarning: Recall and F-score are ill-defined and being set to 0.0 in labels with no true samples. Use `zero_division` parameter to control this behavior.\n",
      "  _warn_prf(average, modifier, msg_start, len(result))\n"
     ]
    },
    {
     "name": "stdout",
     "output_type": "stream",
     "text": [
      "{'0': {'precision': 0.836241610738255, 'recall': 0.7729528535980149, 'f1-score': 0.8033526756931012, 'support': 806}, '1': {'precision': 0.6271929824561403, 'recall': 0.35572139303482586, 'f1-score': 0.45396825396825397, 'support': 402}, '2': {'precision': 0.0, 'recall': 0.0, 'f1-score': 0.0, 'support': 0}, 'accuracy': 0.6341059602649006, 'macro avg': {'precision': 0.4878115310647984, 'recall': 0.3762247488776136, 'f1-score': 0.4191069765537851, 'support': 1208}, 'weighted avg': {'precision': 0.7666741036443725, 'recall': 0.6341059602649006, 'f1-score': 0.6870840187946008, 'support': 1208}}\n"
     ]
    },
    {
     "name": "stderr",
     "output_type": "stream",
     "text": [
      "/Users/ezequiellopez/_projects/UNED-PhD/src/venv/lib/python3.9/site-packages/sklearn/metrics/_classification.py:1308: UndefinedMetricWarning: Recall and F-score are ill-defined and being set to 0.0 in labels with no true samples. Use `zero_division` parameter to control this behavior.\n",
      "  _warn_prf(average, modifier, msg_start, len(result))\n",
      "/Users/ezequiellopez/_projects/UNED-PhD/src/venv/lib/python3.9/site-packages/sklearn/metrics/_classification.py:1308: UndefinedMetricWarning: Recall and F-score are ill-defined and being set to 0.0 in labels with no true samples. Use `zero_division` parameter to control this behavior.\n",
      "  _warn_prf(average, modifier, msg_start, len(result))\n",
      "/Users/ezequiellopez/_projects/UNED-PhD/src/venv/lib/python3.9/site-packages/sklearn/metrics/_classification.py:1308: UndefinedMetricWarning: Recall and F-score are ill-defined and being set to 0.0 in labels with no true samples. Use `zero_division` parameter to control this behavior.\n",
      "  _warn_prf(average, modifier, msg_start, len(result))\n"
     ]
    },
    {
     "name": "stdout",
     "output_type": "stream",
     "text": [
      "{'0': {'precision': 0.836241610738255, 'recall': 0.7729528535980149, 'f1-score': 0.8033526756931012, 'support': 806}, '1': {'precision': 0.6271929824561403, 'recall': 0.35572139303482586, 'f1-score': 0.45396825396825397, 'support': 402}, '2': {'precision': 0.0, 'recall': 0.0, 'f1-score': 0.0, 'support': 0}, 'accuracy': 0.6341059602649006, 'macro avg': {'precision': 0.4878115310647984, 'recall': 0.3762247488776136, 'f1-score': 0.4191069765537851, 'support': 1208}, 'weighted avg': {'precision': 0.7666741036443725, 'recall': 0.6341059602649006, 'f1-score': 0.6870840187946008, 'support': 1208}}\n",
      "{'0': {'precision': 0.8161073825503355, 'recall': 0.7824967824967825, 'f1-score': 0.7989487516425755, 'support': 777}, '1': {'precision': 0.6622807017543859, 'recall': 0.3503480278422274, 'f1-score': 0.4582701062215479, 'support': 431}, '2': {'precision': 0.0, 'recall': 0.0, 'f1-score': 0.0, 'support': 0}, 'accuracy': 0.6283112582781457, 'macro avg': {'precision': 0.4927960281015738, 'recall': 0.37761493677966995, 'f1-score': 0.4190729526213745, 'support': 1208}, 'weighted avg': {'precision': 0.7612238565378734, 'recall': 0.6283112582781457, 'f1-score': 0.6773986720262982, 'support': 1208}}\n"
     ]
    },
    {
     "name": "stderr",
     "output_type": "stream",
     "text": [
      "/Users/ezequiellopez/_projects/UNED-PhD/src/venv/lib/python3.9/site-packages/sklearn/metrics/_classification.py:1308: UndefinedMetricWarning: Recall and F-score are ill-defined and being set to 0.0 in labels with no true samples. Use `zero_division` parameter to control this behavior.\n",
      "  _warn_prf(average, modifier, msg_start, len(result))\n",
      "/Users/ezequiellopez/_projects/UNED-PhD/src/venv/lib/python3.9/site-packages/sklearn/metrics/_classification.py:1308: UndefinedMetricWarning: Recall and F-score are ill-defined and being set to 0.0 in labels with no true samples. Use `zero_division` parameter to control this behavior.\n",
      "  _warn_prf(average, modifier, msg_start, len(result))\n",
      "/Users/ezequiellopez/_projects/UNED-PhD/src/venv/lib/python3.9/site-packages/sklearn/metrics/_classification.py:1308: UndefinedMetricWarning: Recall and F-score are ill-defined and being set to 0.0 in labels with no true samples. Use `zero_division` parameter to control this behavior.\n",
      "  _warn_prf(average, modifier, msg_start, len(result))\n"
     ]
    },
    {
     "name": "stdout",
     "output_type": "stream",
     "text": [
      "{'0': {'precision': 0.8161073825503355, 'recall': 0.7824967824967825, 'f1-score': 0.7989487516425755, 'support': 777}, '1': {'precision': 0.6622807017543859, 'recall': 0.3503480278422274, 'f1-score': 0.4582701062215479, 'support': 431}, '2': {'precision': 0.0, 'recall': 0.0, 'f1-score': 0.0, 'support': 0}, 'accuracy': 0.6283112582781457, 'macro avg': {'precision': 0.4927960281015738, 'recall': 0.37761493677966995, 'f1-score': 0.4190729526213745, 'support': 1208}, 'weighted avg': {'precision': 0.7612238565378734, 'recall': 0.6283112582781457, 'f1-score': 0.6773986720262982, 'support': 1208}}\n"
     ]
    },
    {
     "name": "stderr",
     "output_type": "stream",
     "text": [
      "/Users/ezequiellopez/_projects/UNED-PhD/src/venv/lib/python3.9/site-packages/sklearn/metrics/_classification.py:1308: UndefinedMetricWarning: Recall and F-score are ill-defined and being set to 0.0 in labels with no true samples. Use `zero_division` parameter to control this behavior.\n",
      "  _warn_prf(average, modifier, msg_start, len(result))\n",
      "/Users/ezequiellopez/_projects/UNED-PhD/src/venv/lib/python3.9/site-packages/sklearn/metrics/_classification.py:1308: UndefinedMetricWarning: Recall and F-score are ill-defined and being set to 0.0 in labels with no true samples. Use `zero_division` parameter to control this behavior.\n",
      "  _warn_prf(average, modifier, msg_start, len(result))\n",
      "/Users/ezequiellopez/_projects/UNED-PhD/src/venv/lib/python3.9/site-packages/sklearn/metrics/_classification.py:1308: UndefinedMetricWarning: Recall and F-score are ill-defined and being set to 0.0 in labels with no true samples. Use `zero_division` parameter to control this behavior.\n",
      "  _warn_prf(average, modifier, msg_start, len(result))\n"
     ]
    },
    {
     "data": {
      "text/plain": "           y      x\n0   0.416497  0.010\n1   0.416497  0.099\n2   0.416497  0.188\n3   0.415962  0.277\n4   0.415962  0.366\n5   0.415310  0.455\n6   0.415310  0.544\n7   0.419107  0.633\n8   0.419107  0.722\n9   0.419073  0.811\n10  0.419073  0.900",
      "text/html": "<div>\n<style scoped>\n    .dataframe tbody tr th:only-of-type {\n        vertical-align: middle;\n    }\n\n    .dataframe tbody tr th {\n        vertical-align: top;\n    }\n\n    .dataframe thead th {\n        text-align: right;\n    }\n</style>\n<table border=\"1\" class=\"dataframe\">\n  <thead>\n    <tr style=\"text-align: right;\">\n      <th></th>\n      <th>y</th>\n      <th>x</th>\n    </tr>\n  </thead>\n  <tbody>\n    <tr>\n      <th>0</th>\n      <td>0.416497</td>\n      <td>0.010</td>\n    </tr>\n    <tr>\n      <th>1</th>\n      <td>0.416497</td>\n      <td>0.099</td>\n    </tr>\n    <tr>\n      <th>2</th>\n      <td>0.416497</td>\n      <td>0.188</td>\n    </tr>\n    <tr>\n      <th>3</th>\n      <td>0.415962</td>\n      <td>0.277</td>\n    </tr>\n    <tr>\n      <th>4</th>\n      <td>0.415962</td>\n      <td>0.366</td>\n    </tr>\n    <tr>\n      <th>5</th>\n      <td>0.415310</td>\n      <td>0.455</td>\n    </tr>\n    <tr>\n      <th>6</th>\n      <td>0.415310</td>\n      <td>0.544</td>\n    </tr>\n    <tr>\n      <th>7</th>\n      <td>0.419107</td>\n      <td>0.633</td>\n    </tr>\n    <tr>\n      <th>8</th>\n      <td>0.419107</td>\n      <td>0.722</td>\n    </tr>\n    <tr>\n      <th>9</th>\n      <td>0.419073</td>\n      <td>0.811</td>\n    </tr>\n    <tr>\n      <th>10</th>\n      <td>0.419073</td>\n      <td>0.900</td>\n    </tr>\n  </tbody>\n</table>\n</div>"
     },
     "execution_count": 135,
     "metadata": {},
     "output_type": "execute_result"
    },
    {
     "data": {
      "text/plain": "<Figure size 432x288 with 1 Axes>",
      "image/png": "[encoded data removed]"
     },
     "metadata": {
      "needs_background": "light"
     },
     "output_type": "display_data"
    }
   ],
   "source": [
    "evaluate_majority(top_f1_ternary[list(range(0,1208))][:15], y_test_tern)"
   ],
   "metadata": {
    "collapsed": false,
    "pycharm": {
     "name": "#%%\n"
    }
   }
  },
  {
   "cell_type": "code",
   "execution_count": null,
   "outputs": [],
   "source": [],
   "metadata": {
    "collapsed": false,
    "pycharm": {
     "name": "#%%\n"
    }
   }
  },
  {
   "cell_type": "code",
   "execution_count": null,
   "outputs": [],
   "source": [],
   "metadata": {
    "collapsed": false,
    "pycharm": {
     "name": "#%%\n"
    }
   }
  },
  {
   "cell_type": "code",
   "execution_count": null,
   "outputs": [],
   "source": [],
   "metadata": {
    "collapsed": false,
    "pycharm": {
     "name": "#%%\n"
    }
   }
  },
  {
   "cell_type": "code",
   "execution_count": null,
   "outputs": [],
   "source": [],
   "metadata": {
    "collapsed": false,
    "pycharm": {
     "name": "#%%\n"
    }
   }
  },
  {
   "cell_type": "code",
   "execution_count": 187,
   "outputs": [
    {
     "name": "stdout",
     "output_type": "stream",
     "text": [
      "Vote Top 10 :               precision    recall  f1-score   support\n",
      "\n",
      "           0       0.96      0.71      0.82      1009\n",
      "           1       0.37      0.85      0.51       199\n",
      "\n",
      "    accuracy                           0.73      1208\n",
      "   macro avg       0.66      0.78      0.66      1208\n",
      "weighted avg       0.86      0.73      0.77      1208\n",
      "\n",
      " Top 1 :               precision    recall  f1-score   support\n",
      "\n",
      "           0       0.83      0.80      0.81       774\n",
      "           1       0.66      0.70      0.68       434\n",
      "\n",
      "    accuracy                           0.76      1208\n",
      "   macro avg       0.74      0.75      0.75      1208\n",
      "weighted avg       0.77      0.76      0.76      1208\n",
      "\n"
     ]
    }
   ],
   "source": [
    "\n",
    "print(f\"Vote Top 10 : {classification_report(disagreed_vote(top_f1_binary[list(range(0,1208))]), y_test_bin)}\")\n",
    "print(f\" Top 1 : {classification_report(top_f1_binary[list(range(0,1208))].iloc[0], y_test_bin)}\")"
   ],
   "metadata": {
    "collapsed": false,
    "pycharm": {
     "name": "#%%\n"
    }
   }
  },
  {
   "cell_type": "code",
   "execution_count": 137,
   "outputs": [
    {
     "name": "stdout",
     "output_type": "stream",
     "text": [
      "Vote Top 10 :               precision    recall  f1-score   support\n",
      "\n",
      "           0       0.87      0.75      0.81       863\n",
      "           1       0.55      0.37      0.44       345\n",
      "           2       0.00      0.00      0.00         0\n",
      "\n",
      "    accuracy                           0.64      1208\n",
      "   macro avg       0.48      0.37      0.42      1208\n",
      "weighted avg       0.78      0.64      0.70      1208\n",
      "\n",
      " Top 1 :               precision    recall  f1-score   support\n",
      "\n",
      "           0       0.85      0.77      0.81       818\n",
      "           1       0.49      0.55      0.52       203\n",
      "           2       0.41      0.51      0.45       187\n",
      "\n",
      "    accuracy                           0.69      1208\n",
      "   macro avg       0.58      0.61      0.59      1208\n",
      "weighted avg       0.72      0.69      0.70      1208\n",
      "\n"
     ]
    },
    {
     "name": "stderr",
     "output_type": "stream",
     "text": [
      "/Users/ezequiellopez/_projects/UNED-PhD/src/venv/lib/python3.9/site-packages/sklearn/metrics/_classification.py:1308: UndefinedMetricWarning: Recall and F-score are ill-defined and being set to 0.0 in labels with no true samples. Use `zero_division` parameter to control this behavior.\n",
      "  _warn_prf(average, modifier, msg_start, len(result))\n",
      "/Users/ezequiellopez/_projects/UNED-PhD/src/venv/lib/python3.9/site-packages/sklearn/metrics/_classification.py:1308: UndefinedMetricWarning: Recall and F-score are ill-defined and being set to 0.0 in labels with no true samples. Use `zero_division` parameter to control this behavior.\n",
      "  _warn_prf(average, modifier, msg_start, len(result))\n",
      "/Users/ezequiellopez/_projects/UNED-PhD/src/venv/lib/python3.9/site-packages/sklearn/metrics/_classification.py:1308: UndefinedMetricWarning: Recall and F-score are ill-defined and being set to 0.0 in labels with no true samples. Use `zero_division` parameter to control this behavior.\n",
      "  _warn_prf(average, modifier, msg_start, len(result))\n"
     ]
    }
   ],
   "source": [
    "\n",
    "print(f\"Vote Top 10 : {classification_report(disagreed_vote(top_f1_ternary[list(range(0,1208))]), y_test_tern)}\")\n",
    "print(f\" Top 1 : {classification_report(top_f1_ternary[list(range(0,1208))].iloc[0], y_test_tern)}\")"
   ],
   "metadata": {
    "collapsed": false,
    "pycharm": {
     "name": "#%%\n"
    }
   }
  },
  {
   "cell_type": "markdown",
   "source": [
    "##### Observations about the features\n"
   ],
   "metadata": {
    "collapsed": false
   }
  },
  {
   "cell_type": "code",
   "execution_count": null,
   "outputs": [],
   "source": [],
   "metadata": {
    "collapsed": false,
    "pycharm": {
     "name": "#%%\n"
    }
   }
  },
  {
   "cell_type": "code",
   "execution_count": 179,
   "outputs": [],
   "source": [
    "pd.DataFrame(classification_report(disagreed_vote(top_f1_binary[list(range(0,1208))]), y_test_bin, output_dict=True)).transpose().to_csv('voted_f1_binary_v1.csv')"
   ],
   "metadata": {
    "collapsed": false,
    "pycharm": {
     "name": "#%%\n"
    }
   }
  },
  {
   "cell_type": "code",
   "execution_count": 172,
   "outputs": [
    {
     "ename": "AttributeError",
     "evalue": "'Series' object has no attribute 'columns'",
     "output_type": "error",
     "traceback": [
      "\u001B[0;31m---------------------------------------------------------------------------\u001B[0m",
      "\u001B[0;31mAttributeError\u001B[0m                            Traceback (most recent call last)",
      "\u001B[0;32m/var/folders/m6/hvxmz0nj7m12x745y77x0qp80000gn/T/ipykernel_14240/2211952188.py\u001B[0m in \u001B[0;36m<module>\u001B[0;34m\u001B[0m\n\u001B[0;32m----> 1\u001B[0;31m \u001B[0mpd\u001B[0m\u001B[0;34m.\u001B[0m\u001B[0mDataFrame\u001B[0m\u001B[0;34m(\u001B[0m\u001B[0mclassification_report\u001B[0m\u001B[0;34m(\u001B[0m\u001B[0mdisagreed_vote\u001B[0m\u001B[0;34m(\u001B[0m\u001B[0mtop_f1_binary\u001B[0m\u001B[0;34m[\u001B[0m\u001B[0mlist\u001B[0m\u001B[0;34m(\u001B[0m\u001B[0mrange\u001B[0m\u001B[0;34m(\u001B[0m\u001B[0;36m0\u001B[0m\u001B[0;34m,\u001B[0m\u001B[0;36m1208\u001B[0m\u001B[0;34m)\u001B[0m\u001B[0;34m)\u001B[0m\u001B[0;34m]\u001B[0m\u001B[0;34m.\u001B[0m\u001B[0miloc\u001B[0m\u001B[0;34m[\u001B[0m\u001B[0;36m0\u001B[0m\u001B[0;34m]\u001B[0m\u001B[0;34m)\u001B[0m\u001B[0;34m,\u001B[0m \u001B[0my_test_bin\u001B[0m\u001B[0;34m,\u001B[0m\u001B[0moutput_dict\u001B[0m\u001B[0;34m=\u001B[0m\u001B[0;32mTrue\u001B[0m\u001B[0;34m)\u001B[0m\u001B[0;34m)\u001B[0m\u001B[0;34m.\u001B[0m\u001B[0mtranspose\u001B[0m\u001B[0;34m(\u001B[0m\u001B[0;34m)\u001B[0m\u001B[0;34m.\u001B[0m\u001B[0mto_csv\u001B[0m\u001B[0;34m(\u001B[0m\u001B[0;34m'disagreed_vote_top_f1_binary_v1.csv'\u001B[0m\u001B[0;34m)\u001B[0m\u001B[0;34m\u001B[0m\u001B[0;34m\u001B[0m\u001B[0m\n\u001B[0m\u001B[1;32m      2\u001B[0m \u001B[0;34m\u001B[0m\u001B[0m\n\u001B[1;32m      3\u001B[0m \u001B[0;34m\u001B[0m\u001B[0m\n\u001B[1;32m      4\u001B[0m \u001B[0mpd\u001B[0m\u001B[0;34m.\u001B[0m\u001B[0mDataFrame\u001B[0m\u001B[0;34m(\u001B[0m\u001B[0mclassification_report\u001B[0m\u001B[0;34m(\u001B[0m\u001B[0mtop_f1_binary\u001B[0m\u001B[0;34m[\u001B[0m\u001B[0mlist\u001B[0m\u001B[0;34m(\u001B[0m\u001B[0mrange\u001B[0m\u001B[0;34m(\u001B[0m\u001B[0;36m0\u001B[0m\u001B[0;34m,\u001B[0m\u001B[0;36m1208\u001B[0m\u001B[0;34m)\u001B[0m\u001B[0;34m)\u001B[0m\u001B[0;34m]\u001B[0m\u001B[0;34m.\u001B[0m\u001B[0miloc\u001B[0m\u001B[0;34m[\u001B[0m\u001B[0;36m0\u001B[0m\u001B[0;34m]\u001B[0m\u001B[0;34m,\u001B[0m \u001B[0my_test_bin\u001B[0m\u001B[0;34m,\u001B[0m\u001B[0moutput_dict\u001B[0m\u001B[0;34m=\u001B[0m\u001B[0;32mTrue\u001B[0m\u001B[0;34m)\u001B[0m\u001B[0;34m)\u001B[0m\u001B[0;34m.\u001B[0m\u001B[0mtranspose\u001B[0m\u001B[0;34m(\u001B[0m\u001B[0;34m)\u001B[0m\u001B[0;34m.\u001B[0m\u001B[0mto_csv\u001B[0m\u001B[0;34m(\u001B[0m\u001B[0;34m'top_f1_binary_v1.csv'\u001B[0m\u001B[0;34m)\u001B[0m\u001B[0;34m\u001B[0m\u001B[0;34m\u001B[0m\u001B[0m\n\u001B[1;32m      5\u001B[0m \u001B[0;34m\u001B[0m\u001B[0m\n",
      "\u001B[0;32m/var/folders/m6/hvxmz0nj7m12x745y77x0qp80000gn/T/ipykernel_14240/2207839287.py\u001B[0m in \u001B[0;36mdisagreed_vote\u001B[0;34m(df, perc, base_value, peak)\u001B[0m\n\u001B[1;32m      1\u001B[0m \u001B[0;32mdef\u001B[0m \u001B[0mdisagreed_vote\u001B[0m\u001B[0;34m(\u001B[0m\u001B[0mdf\u001B[0m\u001B[0;34m,\u001B[0m \u001B[0mperc\u001B[0m\u001B[0;34m=\u001B[0m\u001B[0;36m0.2\u001B[0m\u001B[0;34m,\u001B[0m \u001B[0mbase_value\u001B[0m\u001B[0;34m=\u001B[0m\u001B[0;36m0\u001B[0m\u001B[0;34m,\u001B[0m \u001B[0mpeak\u001B[0m\u001B[0;34m=\u001B[0m\u001B[0;36m1\u001B[0m\u001B[0;34m)\u001B[0m\u001B[0;34m:\u001B[0m\u001B[0;34m\u001B[0m\u001B[0;34m\u001B[0m\u001B[0m\n\u001B[1;32m      2\u001B[0m     \u001B[0mresults\u001B[0m \u001B[0;34m=\u001B[0m \u001B[0;34m[\u001B[0m\u001B[0;34m]\u001B[0m\u001B[0;34m\u001B[0m\u001B[0;34m\u001B[0m\u001B[0m\n\u001B[0;32m----> 3\u001B[0;31m     \u001B[0;32mfor\u001B[0m \u001B[0mcol\u001B[0m \u001B[0;32min\u001B[0m \u001B[0mdf\u001B[0m\u001B[0;34m.\u001B[0m\u001B[0mcolumns\u001B[0m\u001B[0;34m:\u001B[0m\u001B[0;34m\u001B[0m\u001B[0;34m\u001B[0m\u001B[0m\n\u001B[0m\u001B[1;32m      4\u001B[0m         \u001B[0;32mtry\u001B[0m\u001B[0;34m:\u001B[0m\u001B[0;34m\u001B[0m\u001B[0;34m\u001B[0m\u001B[0m\n\u001B[1;32m      5\u001B[0m             \u001B[0;32mif\u001B[0m \u001B[0mdf\u001B[0m\u001B[0;34m[\u001B[0m\u001B[0mcol\u001B[0m\u001B[0;34m]\u001B[0m\u001B[0;34m.\u001B[0m\u001B[0mvalue_counts\u001B[0m\u001B[0;34m(\u001B[0m\u001B[0;34m)\u001B[0m\u001B[0;34m.\u001B[0m\u001B[0mto_dict\u001B[0m\u001B[0;34m(\u001B[0m\u001B[0;34m)\u001B[0m\u001B[0;34m[\u001B[0m\u001B[0mbase_value\u001B[0m\u001B[0;34m]\u001B[0m \u001B[0;34m/\u001B[0m \u001B[0mlen\u001B[0m\u001B[0;34m(\u001B[0m\u001B[0mdf\u001B[0m\u001B[0;34m[\u001B[0m\u001B[0mcol\u001B[0m\u001B[0;34m]\u001B[0m\u001B[0;34m)\u001B[0m \u001B[0;34m>=\u001B[0m \u001B[0mperc\u001B[0m\u001B[0;34m:\u001B[0m\u001B[0;34m\u001B[0m\u001B[0;34m\u001B[0m\u001B[0m\n",
      "\u001B[0;32m~/_projects/UNED-PhD/src/venv/lib/python3.9/site-packages/pandas/core/generic.py\u001B[0m in \u001B[0;36m__getattr__\u001B[0;34m(self, name)\u001B[0m\n\u001B[1;32m   5485\u001B[0m         ):\n\u001B[1;32m   5486\u001B[0m             \u001B[0;32mreturn\u001B[0m \u001B[0mself\u001B[0m\u001B[0;34m[\u001B[0m\u001B[0mname\u001B[0m\u001B[0;34m]\u001B[0m\u001B[0;34m\u001B[0m\u001B[0;34m\u001B[0m\u001B[0m\n\u001B[0;32m-> 5487\u001B[0;31m         \u001B[0;32mreturn\u001B[0m \u001B[0mobject\u001B[0m\u001B[0;34m.\u001B[0m\u001B[0m__getattribute__\u001B[0m\u001B[0;34m(\u001B[0m\u001B[0mself\u001B[0m\u001B[0;34m,\u001B[0m \u001B[0mname\u001B[0m\u001B[0;34m)\u001B[0m\u001B[0;34m\u001B[0m\u001B[0;34m\u001B[0m\u001B[0m\n\u001B[0m\u001B[1;32m   5488\u001B[0m \u001B[0;34m\u001B[0m\u001B[0m\n\u001B[1;32m   5489\u001B[0m     \u001B[0;32mdef\u001B[0m \u001B[0m__setattr__\u001B[0m\u001B[0;34m(\u001B[0m\u001B[0mself\u001B[0m\u001B[0;34m,\u001B[0m \u001B[0mname\u001B[0m\u001B[0;34m:\u001B[0m \u001B[0mstr\u001B[0m\u001B[0;34m,\u001B[0m \u001B[0mvalue\u001B[0m\u001B[0;34m)\u001B[0m \u001B[0;34m->\u001B[0m \u001B[0;32mNone\u001B[0m\u001B[0;34m:\u001B[0m\u001B[0;34m\u001B[0m\u001B[0;34m\u001B[0m\u001B[0m\n",
      "\u001B[0;31mAttributeError\u001B[0m: 'Series' object has no attribute 'columns'"
     ]
    }
   ],
   "source": [
    "\n",
    "\n",
    "pd.DataFrame(classification_report(top_f1_binary[list(range(0,1208))].iloc[0], y_test_bin,output_dict=True)).transpose().to_csv('top_f1_binary_v1.csv')\n",
    "\n"
   ],
   "metadata": {
    "collapsed": false,
    "pycharm": {
     "name": "#%%\n"
    }
   }
  },
  {
   "cell_type": "markdown",
   "source": [],
   "metadata": {
    "collapsed": false
   }
  },
  {
   "cell_type": "code",
   "execution_count": null,
   "outputs": [],
   "source": [
    "#classification_report(top_f1_ternary[list(range(0,1208))].iloc[0], y_test_tern)"
   ],
   "metadata": {
    "collapsed": false,
    "pycharm": {
     "name": "#%%\n"
    }
   }
  },
  {
   "cell_type": "code",
   "execution_count": 171,
   "outputs": [],
   "source": [
    "\n",
    "pd.DataFrame(classification_report(top_f1_ternary[list(range(0,1208))].iloc[0], y_test_tern, output_dict=True)).transpose().to_csv('top_f1_ternary_v1.csv')"
   ],
   "metadata": {
    "collapsed": false,
    "pycharm": {
     "name": "#%%\n"
    }
   }
  },
  {
   "cell_type": "markdown",
   "source": [
    "#### top-10 doesn't work for ternary, based on macro f1 -> try by class 2 f1\n"
   ],
   "metadata": {
    "collapsed": false
   }
  },
  {
   "cell_type": "code",
   "execution_count": 138,
   "outputs": [
    {
     "data": {
      "text/plain": "      Unnamed: 0.1.1.1                                  use_case  \\\n8                 3044  Suprep-Bowel-Prep-Kit::Bowel-Preparation   \n9                 3045  Suprep-Bowel-Prep-Kit::Bowel-Preparation   \n10                3046  Suprep-Bowel-Prep-Kit::Bowel-Preparation   \n11                3047  Suprep-Bowel-Prep-Kit::Bowel-Preparation   \n12                3048  Suprep-Bowel-Prep-Kit::Bowel-Preparation   \n...                ...                                       ...   \n6026              3022                    Oseltamivir::Influenza   \n6027              3023                    Oseltamivir::Influenza   \n6037              3033                    Oseltamivir::Influenza   \n6038              3034                    Oseltamivir::Influenza   \n6039              3035                    Oseltamivir::Influenza   \n\n                                    doc_id  n_sentences  \\\n8     47c14ccd-088d-4956-85e0-bec89db344ba            5   \n9     47c14ccd-088d-4956-85e0-bec89db344ba            5   \n10    47c14ccd-088d-4956-85e0-bec89db344ba            5   \n11    47c14ccd-088d-4956-85e0-bec89db344ba            5   \n12    47c14ccd-088d-4956-85e0-bec89db344ba            5   \n...                                    ...          ...   \n6026  c2816ff2-0c05-4f9e-b162-4ca676eaaf13            5   \n6027  c2816ff2-0c05-4f9e-b162-4ca676eaaf13            5   \n6037  49d3a4cb-0802-4e6c-b19b-803af0974c44            3   \n6038  49d3a4cb-0802-4e6c-b19b-803af0974c44            3   \n6039  49d3a4cb-0802-4e6c-b19b-803af0974c44            3   \n\n                                              sentences  \\\n8     very effective, but.....\\r\\n1st dose at 6pm da...   \n9     uncomfortable abdominal distension by 7pm, nau...   \n10    movements did not start until 11:30pm and last...   \n11    \\r\\nmy daily beverage of choice is water (+/-6...   \n12    \\r\\n** pharmacy advised not covered by insuran...   \n...                                                 ...   \n6026  i have stopped after 3 doses - awful diarrhea ...   \n6027  i would rather let nature take its course than...   \n6037  i have had the flu twice now in the last 9 years.   \n6038                       was given tamiflu each time.   \n6039     both times i was feeling much better by day 3.   \n\n                                                    doc  \\\n8     (very, effective, ,, but, ....., \\r\\n, 1st, do...   \n9     (uncomfortable, abdominal, distension, by, 7, ...   \n10    (movements, did, not, start, until, 11:30pm, a...   \n11    (\\r\\n, my, daily, beverage, of, choice, is, wa...   \n12    (\\r\\n, *, *, pharmacy, advised, not, covered, ...   \n...                                                 ...   \n6026  (i, have, stopped, after, 3, doses, -, awful, ...   \n6027  (i, would, rather, let, nature, take, its, cou...   \n6037  (i, have, had, the, flu, twice, now, in, the, ...   \n6038               (was, given, tamiflu, each, time, .)   \n6039  (both, times, i, was, feeling, much, better, b...   \n\n                                   tfidf_ready_sentence  \\\n8     effective , ..... quantity dose quantity pm da...   \n9     uncomfortable abdominal distension quantity pm...   \n10    movement start 11:30pm last night ( quantity m...   \n11    daily beverage choice water ( + /-64 oz ) , gr...   \n12    * * pharmacy advise cover insurance doctor off...   \n...                                                 ...   \n6026       stop quantity dose - awful diarrhea nausea .   \n6027                  let nature course quantity hour .   \n6037                          flu twice quantity year .   \n6038                                give tamiflu time .   \n6039                      time feel well day quantity .   \n\n                                          metamap_feats  target  sentiment  \\\n8     [0, 0, 0, 0, 0, 0, 0, 0, 0, 0, 0, 0, 0, 0, 0, ...       0          1   \n9     [0, 0, 0, 0, 0, 0, 0, 0, 0, 0, 0, 0, 0, 0, 0, ...       1          0   \n10    [0, 0, 0, 0, 0, 0, 0, 0, 0, 0, 0, 0, 0, 0, 0, ...       0          0   \n11    [0, 0, 1, 0, 0, 0, 0, 0, 0, 0, 0, 0, 0, 0, 0, ...       1          1   \n12    [0, 0, 0, 0, 0, 0, 0, 0, 0, 0, 0, 0, 0, 0, 0, ...       0          0   \n...                                                 ...     ...        ...   \n6026  [0, 0, 0, 0, 0, 0, 0, 0, 0, 0, 0, 0, 0, 0, 0, ...       1          0   \n6027  [0, 0, 0, 0, 0, 0, 0, 0, 0, 0, 0, 0, 0, 0, 0, ...       0          0   \n6037  [0, 0, 0, 0, 0, 0, 0, 0, 0, 0, 0, 0, 0, 0, 0, ...       0          0   \n6038  [0, 0, 0, 0, 0, 0, 0, 0, 0, 0, 0, 0, 0, 0, 0, ...       0          0   \n6039  [0, 0, 0, 0, 0, 0, 0, 0, 0, 0, 0, 0, 0, 0, 0, ...       2          0   \n\n     agreed_labels  \n8      NON_RELATED  \n9        attacking  \n10     NON_RELATED  \n11       attacking  \n12     NON_RELATED  \n...            ...  \n6026     attacking  \n6027   NON_RELATED  \n6037   NON_RELATED  \n6038   NON_RELATED  \n6039    supporting  \n\n[4832 rows x 11 columns]",
      "text/html": "<div>\n<style scoped>\n    .dataframe tbody tr th:only-of-type {\n        vertical-align: middle;\n    }\n\n    .dataframe tbody tr th {\n        vertical-align: top;\n    }\n\n    .dataframe thead th {\n        text-align: right;\n    }\n</style>\n<table border=\"1\" class=\"dataframe\">\n  <thead>\n    <tr style=\"text-align: right;\">\n      <th></th>\n      <th>Unnamed: 0.1.1.1</th>\n      <th>use_case</th>\n      <th>doc_id</th>\n      <th>n_sentences</th>\n      <th>sentences</th>\n      <th>doc</th>\n      <th>tfidf_ready_sentence</th>\n      <th>metamap_feats</th>\n      <th>target</th>\n      <th>sentiment</th>\n      <th>agreed_labels</th>\n    </tr>\n  </thead>\n  <tbody>\n    <tr>\n      <th>8</th>\n      <td>3044</td>\n      <td>Suprep-Bowel-Prep-Kit::Bowel-Preparation</td>\n      <td>47c14ccd-088d-4956-85e0-bec89db344ba</td>\n      <td>5</td>\n      <td>very effective, but.....\\r\\n1st dose at 6pm da...</td>\n      <td>(very, effective, ,, but, ....., \\r\\n, 1st, do...</td>\n      <td>effective , ..... quantity dose quantity pm da...</td>\n      <td>[0, 0, 0, 0, 0, 0, 0, 0, 0, 0, 0, 0, 0, 0, 0, ...</td>\n      <td>0</td>\n      <td>1</td>\n      <td>NON_RELATED</td>\n    </tr>\n    <tr>\n      <th>9</th>\n      <td>3045</td>\n      <td>Suprep-Bowel-Prep-Kit::Bowel-Preparation</td>\n      <td>47c14ccd-088d-4956-85e0-bec89db344ba</td>\n      <td>5</td>\n      <td>uncomfortable abdominal distension by 7pm, nau...</td>\n      <td>(uncomfortable, abdominal, distension, by, 7, ...</td>\n      <td>uncomfortable abdominal distension quantity pm...</td>\n      <td>[0, 0, 0, 0, 0, 0, 0, 0, 0, 0, 0, 0, 0, 0, 0, ...</td>\n      <td>1</td>\n      <td>0</td>\n      <td>attacking</td>\n    </tr>\n    <tr>\n      <th>10</th>\n      <td>3046</td>\n      <td>Suprep-Bowel-Prep-Kit::Bowel-Preparation</td>\n      <td>47c14ccd-088d-4956-85e0-bec89db344ba</td>\n      <td>5</td>\n      <td>movements did not start until 11:30pm and last...</td>\n      <td>(movements, did, not, start, until, 11:30pm, a...</td>\n      <td>movement start 11:30pm last night ( quantity m...</td>\n      <td>[0, 0, 0, 0, 0, 0, 0, 0, 0, 0, 0, 0, 0, 0, 0, ...</td>\n      <td>0</td>\n      <td>0</td>\n      <td>NON_RELATED</td>\n    </tr>\n    <tr>\n      <th>11</th>\n      <td>3047</td>\n      <td>Suprep-Bowel-Prep-Kit::Bowel-Preparation</td>\n      <td>47c14ccd-088d-4956-85e0-bec89db344ba</td>\n      <td>5</td>\n      <td>\\r\\nmy daily beverage of choice is water (+/-6...</td>\n      <td>(\\r\\n, my, daily, beverage, of, choice, is, wa...</td>\n      <td>daily beverage choice water ( + /-64 oz ) , gr...</td>\n      <td>[0, 0, 1, 0, 0, 0, 0, 0, 0, 0, 0, 0, 0, 0, 0, ...</td>\n      <td>1</td>\n      <td>1</td>\n      <td>attacking</td>\n    </tr>\n    <tr>\n      <th>12</th>\n      <td>3048</td>\n      <td>Suprep-Bowel-Prep-Kit::Bowel-Preparation</td>\n      <td>47c14ccd-088d-4956-85e0-bec89db344ba</td>\n      <td>5</td>\n      <td>\\r\\n** pharmacy advised not covered by insuran...</td>\n      <td>(\\r\\n, *, *, pharmacy, advised, not, covered, ...</td>\n      <td>* * pharmacy advise cover insurance doctor off...</td>\n      <td>[0, 0, 0, 0, 0, 0, 0, 0, 0, 0, 0, 0, 0, 0, 0, ...</td>\n      <td>0</td>\n      <td>0</td>\n      <td>NON_RELATED</td>\n    </tr>\n    <tr>\n      <th>...</th>\n      <td>...</td>\n      <td>...</td>\n      <td>...</td>\n      <td>...</td>\n      <td>...</td>\n      <td>...</td>\n      <td>...</td>\n      <td>...</td>\n      <td>...</td>\n      <td>...</td>\n      <td>...</td>\n    </tr>\n    <tr>\n      <th>6026</th>\n      <td>3022</td>\n      <td>Oseltamivir::Influenza</td>\n      <td>c2816ff2-0c05-4f9e-b162-4ca676eaaf13</td>\n      <td>5</td>\n      <td>i have stopped after 3 doses - awful diarrhea ...</td>\n      <td>(i, have, stopped, after, 3, doses, -, awful, ...</td>\n      <td>stop quantity dose - awful diarrhea nausea .</td>\n      <td>[0, 0, 0, 0, 0, 0, 0, 0, 0, 0, 0, 0, 0, 0, 0, ...</td>\n      <td>1</td>\n      <td>0</td>\n      <td>attacking</td>\n    </tr>\n    <tr>\n      <th>6027</th>\n      <td>3023</td>\n      <td>Oseltamivir::Influenza</td>\n      <td>c2816ff2-0c05-4f9e-b162-4ca676eaaf13</td>\n      <td>5</td>\n      <td>i would rather let nature take its course than...</td>\n      <td>(i, would, rather, let, nature, take, its, cou...</td>\n      <td>let nature course quantity hour .</td>\n      <td>[0, 0, 0, 0, 0, 0, 0, 0, 0, 0, 0, 0, 0, 0, 0, ...</td>\n      <td>0</td>\n      <td>0</td>\n      <td>NON_RELATED</td>\n    </tr>\n    <tr>\n      <th>6037</th>\n      <td>3033</td>\n      <td>Oseltamivir::Influenza</td>\n      <td>49d3a4cb-0802-4e6c-b19b-803af0974c44</td>\n      <td>3</td>\n      <td>i have had the flu twice now in the last 9 years.</td>\n      <td>(i, have, had, the, flu, twice, now, in, the, ...</td>\n      <td>flu twice quantity year .</td>\n      <td>[0, 0, 0, 0, 0, 0, 0, 0, 0, 0, 0, 0, 0, 0, 0, ...</td>\n      <td>0</td>\n      <td>0</td>\n      <td>NON_RELATED</td>\n    </tr>\n    <tr>\n      <th>6038</th>\n      <td>3034</td>\n      <td>Oseltamivir::Influenza</td>\n      <td>49d3a4cb-0802-4e6c-b19b-803af0974c44</td>\n      <td>3</td>\n      <td>was given tamiflu each time.</td>\n      <td>(was, given, tamiflu, each, time, .)</td>\n      <td>give tamiflu time .</td>\n      <td>[0, 0, 0, 0, 0, 0, 0, 0, 0, 0, 0, 0, 0, 0, 0, ...</td>\n      <td>0</td>\n      <td>0</td>\n      <td>NON_RELATED</td>\n    </tr>\n    <tr>\n      <th>6039</th>\n      <td>3035</td>\n      <td>Oseltamivir::Influenza</td>\n      <td>49d3a4cb-0802-4e6c-b19b-803af0974c44</td>\n      <td>3</td>\n      <td>both times i was feeling much better by day 3.</td>\n      <td>(both, times, i, was, feeling, much, better, b...</td>\n      <td>time feel well day quantity .</td>\n      <td>[0, 0, 0, 0, 0, 0, 0, 0, 0, 0, 0, 0, 0, 0, 0, ...</td>\n      <td>2</td>\n      <td>0</td>\n      <td>supporting</td>\n    </tr>\n  </tbody>\n</table>\n<p>4832 rows × 11 columns</p>\n</div>"
     },
     "execution_count": 138,
     "metadata": {},
     "output_type": "execute_result"
    }
   ],
   "source": [
    "data.X_train"
   ],
   "metadata": {
    "collapsed": false,
    "pycharm": {
     "name": "#%%\n"
    }
   }
  },
  {
   "cell_type": "code",
   "execution_count": 139,
   "outputs": [],
   "source": [
    "\n",
    "top_accuracy_ternary = mat_ternary_results.sort_values(by=['accuracy'], ascending=False)[:top_n]\n",
    "top_f1_ternary = mat_ternary_results.sort_values(by=['macro avg.f1-score'], ascending=False)[:top_n]"
   ],
   "metadata": {
    "collapsed": false,
    "pycharm": {
     "name": "#%%\n"
    }
   }
  },
  {
   "cell_type": "code",
   "execution_count": 150,
   "outputs": [
    {
     "data": {
      "text/plain": "Index([                    1200,                     1201,\n                           1202,                     1203,\n                           1204,                     1205,\n                           1206,                     1207,\n             'experiment_descr',            '0.precision',\n                     '0.recall',             '0.f1-score',\n                    '0.support',            '1.precision',\n                     '1.recall',             '1.f1-score',\n                    '1.support',            '2.precision',\n                     '2.recall',             '2.f1-score',\n                    '2.support',               'accuracy',\n          'macro avg.precision',       'macro avg.recall',\n           'macro avg.f1-score',      'macro avg.support',\n       'weighted avg.precision',    'weighted avg.recall',\n        'weighted avg.f1-score',   'weighted avg.support'],\n      dtype='object')"
     },
     "execution_count": 150,
     "metadata": {},
     "output_type": "execute_result"
    }
   ],
   "source": [
    "mat_ternary_results.columns[-30:]"
   ],
   "metadata": {
    "collapsed": false,
    "pycharm": {
     "name": "#%%\n"
    }
   }
  },
  {
   "cell_type": "code",
   "execution_count": 151,
   "outputs": [
    {
     "data": {
      "text/plain": "                                      experiment_descr  macro avg.f1-score  \\\n16   experiment_2__model:RandomForest__context:Fals...            0.573067   \n4    experiment_1__model:RandomForest__context:Fals...            0.568111   \n120  experiment_12__model:LogisticRegression__conte...            0.571813   \n132  experiment_13__model:SGDClassifier__context:Fa...            0.592067   \n122  experiment_12__model:SGDClassifier__context:Fa...            0.590391   \n39   experiment_4__model:SGDClassifier__context:Fal...            0.586921   \n36   experiment_4__model:LogisticRegression__contex...            0.558999   \n27   experiment_3__model:SGDClassifier__context:Fal...            0.575676   \n98   experiment_10__model:LogisticRegression__conte...            0.566547   \n24   experiment_3__model:LogisticRegression__contex...            0.557806   \n\n     0.f1-score  1.f1-score  2.f1-score  \n16     0.810386    0.435262    0.473552  \n4      0.805843    0.427027    0.471464  \n120    0.821114    0.437500    0.456825  \n132    0.806142    0.515081    0.454976  \n122    0.803560    0.514151    0.453461  \n39     0.806883    0.509434    0.444444  \n36     0.816754    0.416422    0.443820  \n27     0.797436    0.487239    0.442353  \n98     0.822703    0.436261    0.440678  \n24     0.815376    0.418605    0.439437  ",
      "text/html": "<div>\n<style scoped>\n    .dataframe tbody tr th:only-of-type {\n        vertical-align: middle;\n    }\n\n    .dataframe tbody tr th {\n        vertical-align: top;\n    }\n\n    .dataframe thead th {\n        text-align: right;\n    }\n</style>\n<table border=\"1\" class=\"dataframe\">\n  <thead>\n    <tr style=\"text-align: right;\">\n      <th></th>\n      <th>experiment_descr</th>\n      <th>macro avg.f1-score</th>\n      <th>0.f1-score</th>\n      <th>1.f1-score</th>\n      <th>2.f1-score</th>\n    </tr>\n  </thead>\n  <tbody>\n    <tr>\n      <th>16</th>\n      <td>experiment_2__model:RandomForest__context:Fals...</td>\n      <td>0.573067</td>\n      <td>0.810386</td>\n      <td>0.435262</td>\n      <td>0.473552</td>\n    </tr>\n    <tr>\n      <th>4</th>\n      <td>experiment_1__model:RandomForest__context:Fals...</td>\n      <td>0.568111</td>\n      <td>0.805843</td>\n      <td>0.427027</td>\n      <td>0.471464</td>\n    </tr>\n    <tr>\n      <th>120</th>\n      <td>experiment_12__model:LogisticRegression__conte...</td>\n      <td>0.571813</td>\n      <td>0.821114</td>\n      <td>0.437500</td>\n      <td>0.456825</td>\n    </tr>\n    <tr>\n      <th>132</th>\n      <td>experiment_13__model:SGDClassifier__context:Fa...</td>\n      <td>0.592067</td>\n      <td>0.806142</td>\n      <td>0.515081</td>\n      <td>0.454976</td>\n    </tr>\n    <tr>\n      <th>122</th>\n      <td>experiment_12__model:SGDClassifier__context:Fa...</td>\n      <td>0.590391</td>\n      <td>0.803560</td>\n      <td>0.514151</td>\n      <td>0.453461</td>\n    </tr>\n    <tr>\n      <th>39</th>\n      <td>experiment_4__model:SGDClassifier__context:Fal...</td>\n      <td>0.586921</td>\n      <td>0.806883</td>\n      <td>0.509434</td>\n      <td>0.444444</td>\n    </tr>\n    <tr>\n      <th>36</th>\n      <td>experiment_4__model:LogisticRegression__contex...</td>\n      <td>0.558999</td>\n      <td>0.816754</td>\n      <td>0.416422</td>\n      <td>0.443820</td>\n    </tr>\n    <tr>\n      <th>27</th>\n      <td>experiment_3__model:SGDClassifier__context:Fal...</td>\n      <td>0.575676</td>\n      <td>0.797436</td>\n      <td>0.487239</td>\n      <td>0.442353</td>\n    </tr>\n    <tr>\n      <th>98</th>\n      <td>experiment_10__model:LogisticRegression__conte...</td>\n      <td>0.566547</td>\n      <td>0.822703</td>\n      <td>0.436261</td>\n      <td>0.440678</td>\n    </tr>\n    <tr>\n      <th>24</th>\n      <td>experiment_3__model:LogisticRegression__contex...</td>\n      <td>0.557806</td>\n      <td>0.815376</td>\n      <td>0.418605</td>\n      <td>0.439437</td>\n    </tr>\n  </tbody>\n</table>\n</div>"
     },
     "execution_count": 151,
     "metadata": {},
     "output_type": "execute_result"
    }
   ],
   "source": [
    "mat_ternary_results.sort_values(by='2.f1-score', ascending=False)[['experiment_descr', 'macro avg.f1-score', '0.f1-score','1.f1-score','2.f1-score']][:10]"
   ],
   "metadata": {
    "collapsed": false,
    "pycharm": {
     "name": "#%%\n"
    }
   }
  },
  {
   "cell_type": "code",
   "execution_count": 153,
   "outputs": [
    {
     "data": {
      "text/plain": "                                      experiment_descr  macro avg.f1-score  \\\n100  experiment_10__model:SGDClassifier__context:Fa...            0.589048   \n132  experiment_13__model:SGDClassifier__context:Fa...            0.592067   \n122  experiment_12__model:SGDClassifier__context:Fa...            0.590391   \n39   experiment_4__model:SGDClassifier__context:Fal...            0.586921   \n70   experiment_7__model:SGDClassifier__context:Fal...            0.580976   \n137  experiment_13__model:SGDClassifier__context:Tr...            0.545745   \n27   experiment_3__model:SGDClassifier__context:Fal...            0.575676   \n75   experiment_7__model:SGDClassifier__context:Tru...            0.539220   \n127  experiment_12__model:SGDClassifier__context:Tr...            0.543336   \n3    experiment_1__model:SGDClassifier__context:Fal...            0.559719   \n\n     0.f1-score  1.f1-score  2.f1-score  \n100    0.801796    0.532407    0.432941  \n132    0.806142    0.515081    0.454976  \n122    0.803560    0.514151    0.453461  \n39     0.806883    0.509434    0.444444  \n70     0.799230    0.505910    0.437788  \n137    0.784578    0.489474    0.363184  \n27     0.797436    0.487239    0.442353  \n75     0.781481    0.484694    0.351485  \n127    0.782288    0.484536    0.363184  \n3      0.786990    0.480952    0.411215  ",
      "text/html": "<div>\n<style scoped>\n    .dataframe tbody tr th:only-of-type {\n        vertical-align: middle;\n    }\n\n    .dataframe tbody tr th {\n        vertical-align: top;\n    }\n\n    .dataframe thead th {\n        text-align: right;\n    }\n</style>\n<table border=\"1\" class=\"dataframe\">\n  <thead>\n    <tr style=\"text-align: right;\">\n      <th></th>\n      <th>experiment_descr</th>\n      <th>macro avg.f1-score</th>\n      <th>0.f1-score</th>\n      <th>1.f1-score</th>\n      <th>2.f1-score</th>\n    </tr>\n  </thead>\n  <tbody>\n    <tr>\n      <th>100</th>\n      <td>experiment_10__model:SGDClassifier__context:Fa...</td>\n      <td>0.589048</td>\n      <td>0.801796</td>\n      <td>0.532407</td>\n      <td>0.432941</td>\n    </tr>\n    <tr>\n      <th>132</th>\n      <td>experiment_13__model:SGDClassifier__context:Fa...</td>\n      <td>0.592067</td>\n      <td>0.806142</td>\n      <td>0.515081</td>\n      <td>0.454976</td>\n    </tr>\n    <tr>\n      <th>122</th>\n      <td>experiment_12__model:SGDClassifier__context:Fa...</td>\n      <td>0.590391</td>\n      <td>0.803560</td>\n      <td>0.514151</td>\n      <td>0.453461</td>\n    </tr>\n    <tr>\n      <th>39</th>\n      <td>experiment_4__model:SGDClassifier__context:Fal...</td>\n      <td>0.586921</td>\n      <td>0.806883</td>\n      <td>0.509434</td>\n      <td>0.444444</td>\n    </tr>\n    <tr>\n      <th>70</th>\n      <td>experiment_7__model:SGDClassifier__context:Fal...</td>\n      <td>0.580976</td>\n      <td>0.799230</td>\n      <td>0.505910</td>\n      <td>0.437788</td>\n    </tr>\n    <tr>\n      <th>137</th>\n      <td>experiment_13__model:SGDClassifier__context:Tr...</td>\n      <td>0.545745</td>\n      <td>0.784578</td>\n      <td>0.489474</td>\n      <td>0.363184</td>\n    </tr>\n    <tr>\n      <th>27</th>\n      <td>experiment_3__model:SGDClassifier__context:Fal...</td>\n      <td>0.575676</td>\n      <td>0.797436</td>\n      <td>0.487239</td>\n      <td>0.442353</td>\n    </tr>\n    <tr>\n      <th>75</th>\n      <td>experiment_7__model:SGDClassifier__context:Tru...</td>\n      <td>0.539220</td>\n      <td>0.781481</td>\n      <td>0.484694</td>\n      <td>0.351485</td>\n    </tr>\n    <tr>\n      <th>127</th>\n      <td>experiment_12__model:SGDClassifier__context:Tr...</td>\n      <td>0.543336</td>\n      <td>0.782288</td>\n      <td>0.484536</td>\n      <td>0.363184</td>\n    </tr>\n    <tr>\n      <th>3</th>\n      <td>experiment_1__model:SGDClassifier__context:Fal...</td>\n      <td>0.559719</td>\n      <td>0.786990</td>\n      <td>0.480952</td>\n      <td>0.411215</td>\n    </tr>\n  </tbody>\n</table>\n</div>"
     },
     "execution_count": 153,
     "metadata": {},
     "output_type": "execute_result"
    }
   ],
   "source": [
    "mat_ternary_results.sort_values(by='1.f1-score', ascending=False)[['experiment_descr', 'macro avg.f1-score', '0.f1-score','1.f1-score','2.f1-score']][:10]"
   ],
   "metadata": {
    "collapsed": false,
    "pycharm": {
     "name": "#%%\n"
    }
   }
  },
  {
   "cell_type": "markdown",
   "source": [
    "##### Observation:\n",
    "Configuration 132: experiment 13 SGD context False - seems to be the best one"
   ],
   "metadata": {
    "collapsed": false,
    "pycharm": {
     "name": "#%% md\n"
    }
   }
  },
  {
   "cell_type": "markdown",
   "source": [],
   "metadata": {
    "collapsed": false
   }
  },
  {
   "cell_type": "code",
   "execution_count": 158,
   "outputs": [
    {
     "data": {
      "text/plain": "[['experiment_10__model:SGDClassifier__context:False__label_config:ternary'],\n ['experiment_13__model:SGDClassifier__context:False__label_config:ternary'],\n ['experiment_12__model:SGDClassifier__context:False__label_config:ternary'],\n ['experiment_4__model:SGDClassifier__context:False__label_config:ternary'],\n ['experiment_7__model:SGDClassifier__context:False__label_config:ternary'],\n ['experiment_13__model:SGDClassifier__context:True__label_config:ternary'],\n ['experiment_3__model:SGDClassifier__context:False__label_config:ternary'],\n ['experiment_7__model:SGDClassifier__context:True__label_config:ternary'],\n ['experiment_12__model:SGDClassifier__context:True__label_config:ternary'],\n ['experiment_1__model:SGDClassifier__context:False__label_config:ternary']]"
     },
     "execution_count": 158,
     "metadata": {},
     "output_type": "execute_result"
    }
   ],
   "source": [
    "mat_ternary_results.sort_values(by='1.f1-score', ascending=False)[['experiment_descr']][:10].values.tolist()"
   ],
   "metadata": {
    "collapsed": false,
    "pycharm": {
     "name": "#%%\n"
    }
   }
  },
  {
   "cell_type": "code",
   "execution_count": 159,
   "outputs": [
    {
     "data": {
      "text/plain": "[['experiment_2__model:RandomForest__context:False__label_config:ternary'],\n ['experiment_1__model:RandomForest__context:False__label_config:ternary'],\n ['experiment_12__model:LogisticRegression__context:False__label_config:ternary'],\n ['experiment_13__model:SGDClassifier__context:False__label_config:ternary'],\n ['experiment_12__model:SGDClassifier__context:False__label_config:ternary'],\n ['experiment_4__model:SGDClassifier__context:False__label_config:ternary'],\n ['experiment_4__model:LogisticRegression__context:False__label_config:ternary'],\n ['experiment_3__model:SGDClassifier__context:False__label_config:ternary'],\n ['experiment_10__model:LogisticRegression__context:False__label_config:ternary'],\n ['experiment_3__model:LogisticRegression__context:False__label_config:ternary']]"
     },
     "execution_count": 159,
     "metadata": {},
     "output_type": "execute_result"
    }
   ],
   "source": [
    "mat_ternary_results.sort_values(by='2.f1-score', ascending=False)[['experiment_descr']][:10].values.tolist()"
   ],
   "metadata": {
    "collapsed": false,
    "pycharm": {
     "name": "#%%\n"
    }
   }
  },
  {
   "cell_type": "code",
   "execution_count": null,
   "outputs": [],
   "source": [],
   "metadata": {
    "collapsed": false,
    "pycharm": {
     "name": "#%%\n"
    }
   }
  },
  {
   "cell_type": "code",
   "execution_count": 163,
   "outputs": [
    {
     "data": {
      "text/plain": "      Unnamed: 0.1.1.1                                  use_case  \\\n8                 3044  Suprep-Bowel-Prep-Kit::Bowel-Preparation   \n9                 3045  Suprep-Bowel-Prep-Kit::Bowel-Preparation   \n10                3046  Suprep-Bowel-Prep-Kit::Bowel-Preparation   \n11                3047  Suprep-Bowel-Prep-Kit::Bowel-Preparation   \n12                3048  Suprep-Bowel-Prep-Kit::Bowel-Preparation   \n...                ...                                       ...   \n6032              3028                    Oseltamivir::Influenza   \n6033              3029                    Oseltamivir::Influenza   \n6034              3030                    Oseltamivir::Influenza   \n6035              3031                    Oseltamivir::Influenza   \n6036              3032                    Oseltamivir::Influenza   \n\n                                    doc_id  n_sentences  \\\n8     47c14ccd-088d-4956-85e0-bec89db344ba            5   \n9     47c14ccd-088d-4956-85e0-bec89db344ba            5   \n10    47c14ccd-088d-4956-85e0-bec89db344ba            5   \n11    47c14ccd-088d-4956-85e0-bec89db344ba            5   \n12    47c14ccd-088d-4956-85e0-bec89db344ba            5   \n...                                    ...          ...   \n6032  a4fbfe6f-5a23-494b-acf6-de944ef35d8b            9   \n6033  a4fbfe6f-5a23-494b-acf6-de944ef35d8b            9   \n6034  a4fbfe6f-5a23-494b-acf6-de944ef35d8b            9   \n6035  a4fbfe6f-5a23-494b-acf6-de944ef35d8b            9   \n6036  a4fbfe6f-5a23-494b-acf6-de944ef35d8b            9   \n\n                                              sentences  \\\n8     very effective, but.....\\r\\n1st dose at 6pm da...   \n9     uncomfortable abdominal distension by 7pm, nau...   \n10    movements did not start until 11:30pm and last...   \n11    \\r\\nmy daily beverage of choice is water (+/-6...   \n12    \\r\\n** pharmacy advised not covered by insuran...   \n...                                                 ...   \n6032  doc gave me prescription for tamiflu which i s...   \n6033  i still stayed home from work monday and tuesd...   \n6034                did this help shorten the duration?   \n6035                                        not certain   \n6036                but i think it definitely did help.   \n\n                                                    doc  \\\n8     (very, effective, ,, but, ....., \\r\\n, 1st, do...   \n9     (uncomfortable, abdominal, distension, by, 7, ...   \n10    (movements, did, not, start, until, 11:30pm, a...   \n11    (\\r\\n, my, daily, beverage, of, choice, is, wa...   \n12    (\\r\\n, *, *, pharmacy, advised, not, covered, ...   \n...                                                 ...   \n6032  (doc, gave, me, prescription, for, tamiflu, wh...   \n6033  (i, still, stayed, home, from, work, monday, a...   \n6034    ( , did, this, help, shorten, the, duration, ?)   \n6035                                     (not, certain)   \n6036      (but, i, think, it, definitely, did, help, .)   \n\n                                   tfidf_ready_sentence  \\\n8     effective , ..... quantity dose quantity pm da...   \n9     uncomfortable abdominal distension quantity pm...   \n10    movement start 11:30pm last night ( quantity m...   \n11    daily beverage choice water ( + /-64 oz ) , gr...   \n12    * * pharmacy advise cover insurance doctor off...   \n...                                                 ...   \n6032   doc give prescription tamiflu start right away .   \n6033  stay home work monday tuesday feel well wednes...   \n6034                            help shorten duration ?   \n6035                                            certain   \n6036                            think definitely help .   \n\n                                          metamap_feats  target  sentiment  \\\n8     [0, 0, 0, 0, 0, 0, 0, 0, 0, 0, 0, 0, 0, 0, 0, ...       0          1   \n9     [0, 0, 0, 0, 0, 0, 0, 0, 0, 0, 0, 0, 0, 0, 0, ...       1          0   \n10    [0, 0, 0, 0, 0, 0, 0, 0, 0, 0, 0, 0, 0, 0, 0, ...       0          0   \n11    [0, 0, 1, 0, 0, 0, 0, 0, 0, 0, 0, 0, 0, 0, 0, ...       1          1   \n12    [0, 0, 0, 0, 0, 0, 0, 0, 0, 0, 0, 0, 0, 0, 0, ...       0          0   \n...                                                 ...     ...        ...   \n6032  [0, 0, 0, 0, 0, 0, 0, 0, 0, 0, 0, 0, 0, 0, 0, ...       0          0   \n6033  [0, 0, 0, 0, 0, 0, 0, 0, 0, 0, 0, 0, 0, 0, 0, ...       2          0   \n6034  [0, 0, 0, 0, 0, 0, 0, 0, 0, 0, 0, 0, 0, 0, 0, ...       0          0   \n6035  [0, 0, 0, 0, 0, 0, 0, 0, 0, 0, 0, 0, 0, 0, 0, ...       0          0   \n6036  [0, 0, 0, 0, 0, 0, 0, 0, 0, 0, 0, 0, 0, 0, 0, ...       0          1   \n\n     agreed_labels  \n8      NON_RELATED  \n9        attacking  \n10     NON_RELATED  \n11       attacking  \n12     NON_RELATED  \n...            ...  \n6032   NON_RELATED  \n6033    supporting  \n6034   NON_RELATED  \n6035   NON_RELATED  \n6036   NON_RELATED  \n\n[6040 rows x 11 columns]",
      "text/html": "<div>\n<style scoped>\n    .dataframe tbody tr th:only-of-type {\n        vertical-align: middle;\n    }\n\n    .dataframe tbody tr th {\n        vertical-align: top;\n    }\n\n    .dataframe thead th {\n        text-align: right;\n    }\n</style>\n<table border=\"1\" class=\"dataframe\">\n  <thead>\n    <tr style=\"text-align: right;\">\n      <th></th>\n      <th>Unnamed: 0.1.1.1</th>\n      <th>use_case</th>\n      <th>doc_id</th>\n      <th>n_sentences</th>\n      <th>sentences</th>\n      <th>doc</th>\n      <th>tfidf_ready_sentence</th>\n      <th>metamap_feats</th>\n      <th>target</th>\n      <th>sentiment</th>\n      <th>agreed_labels</th>\n    </tr>\n  </thead>\n  <tbody>\n    <tr>\n      <th>8</th>\n      <td>3044</td>\n      <td>Suprep-Bowel-Prep-Kit::Bowel-Preparation</td>\n      <td>47c14ccd-088d-4956-85e0-bec89db344ba</td>\n      <td>5</td>\n      <td>very effective, but.....\\r\\n1st dose at 6pm da...</td>\n      <td>(very, effective, ,, but, ....., \\r\\n, 1st, do...</td>\n      <td>effective , ..... quantity dose quantity pm da...</td>\n      <td>[0, 0, 0, 0, 0, 0, 0, 0, 0, 0, 0, 0, 0, 0, 0, ...</td>\n      <td>0</td>\n      <td>1</td>\n      <td>NON_RELATED</td>\n    </tr>\n    <tr>\n      <th>9</th>\n      <td>3045</td>\n      <td>Suprep-Bowel-Prep-Kit::Bowel-Preparation</td>\n      <td>47c14ccd-088d-4956-85e0-bec89db344ba</td>\n      <td>5</td>\n      <td>uncomfortable abdominal distension by 7pm, nau...</td>\n      <td>(uncomfortable, abdominal, distension, by, 7, ...</td>\n      <td>uncomfortable abdominal distension quantity pm...</td>\n      <td>[0, 0, 0, 0, 0, 0, 0, 0, 0, 0, 0, 0, 0, 0, 0, ...</td>\n      <td>1</td>\n      <td>0</td>\n      <td>attacking</td>\n    </tr>\n    <tr>\n      <th>10</th>\n      <td>3046</td>\n      <td>Suprep-Bowel-Prep-Kit::Bowel-Preparation</td>\n      <td>47c14ccd-088d-4956-85e0-bec89db344ba</td>\n      <td>5</td>\n      <td>movements did not start until 11:30pm and last...</td>\n      <td>(movements, did, not, start, until, 11:30pm, a...</td>\n      <td>movement start 11:30pm last night ( quantity m...</td>\n      <td>[0, 0, 0, 0, 0, 0, 0, 0, 0, 0, 0, 0, 0, 0, 0, ...</td>\n      <td>0</td>\n      <td>0</td>\n      <td>NON_RELATED</td>\n    </tr>\n    <tr>\n      <th>11</th>\n      <td>3047</td>\n      <td>Suprep-Bowel-Prep-Kit::Bowel-Preparation</td>\n      <td>47c14ccd-088d-4956-85e0-bec89db344ba</td>\n      <td>5</td>\n      <td>\\r\\nmy daily beverage of choice is water (+/-6...</td>\n      <td>(\\r\\n, my, daily, beverage, of, choice, is, wa...</td>\n      <td>daily beverage choice water ( + /-64 oz ) , gr...</td>\n      <td>[0, 0, 1, 0, 0, 0, 0, 0, 0, 0, 0, 0, 0, 0, 0, ...</td>\n      <td>1</td>\n      <td>1</td>\n      <td>attacking</td>\n    </tr>\n    <tr>\n      <th>12</th>\n      <td>3048</td>\n      <td>Suprep-Bowel-Prep-Kit::Bowel-Preparation</td>\n      <td>47c14ccd-088d-4956-85e0-bec89db344ba</td>\n      <td>5</td>\n      <td>\\r\\n** pharmacy advised not covered by insuran...</td>\n      <td>(\\r\\n, *, *, pharmacy, advised, not, covered, ...</td>\n      <td>* * pharmacy advise cover insurance doctor off...</td>\n      <td>[0, 0, 0, 0, 0, 0, 0, 0, 0, 0, 0, 0, 0, 0, 0, ...</td>\n      <td>0</td>\n      <td>0</td>\n      <td>NON_RELATED</td>\n    </tr>\n    <tr>\n      <th>...</th>\n      <td>...</td>\n      <td>...</td>\n      <td>...</td>\n      <td>...</td>\n      <td>...</td>\n      <td>...</td>\n      <td>...</td>\n      <td>...</td>\n      <td>...</td>\n      <td>...</td>\n      <td>...</td>\n    </tr>\n    <tr>\n      <th>6032</th>\n      <td>3028</td>\n      <td>Oseltamivir::Influenza</td>\n      <td>a4fbfe6f-5a23-494b-acf6-de944ef35d8b</td>\n      <td>9</td>\n      <td>doc gave me prescription for tamiflu which i s...</td>\n      <td>(doc, gave, me, prescription, for, tamiflu, wh...</td>\n      <td>doc give prescription tamiflu start right away .</td>\n      <td>[0, 0, 0, 0, 0, 0, 0, 0, 0, 0, 0, 0, 0, 0, 0, ...</td>\n      <td>0</td>\n      <td>0</td>\n      <td>NON_RELATED</td>\n    </tr>\n    <tr>\n      <th>6033</th>\n      <td>3029</td>\n      <td>Oseltamivir::Influenza</td>\n      <td>a4fbfe6f-5a23-494b-acf6-de944ef35d8b</td>\n      <td>9</td>\n      <td>i still stayed home from work monday and tuesd...</td>\n      <td>(i, still, stayed, home, from, work, monday, a...</td>\n      <td>stay home work monday tuesday feel well wednes...</td>\n      <td>[0, 0, 0, 0, 0, 0, 0, 0, 0, 0, 0, 0, 0, 0, 0, ...</td>\n      <td>2</td>\n      <td>0</td>\n      <td>supporting</td>\n    </tr>\n    <tr>\n      <th>6034</th>\n      <td>3030</td>\n      <td>Oseltamivir::Influenza</td>\n      <td>a4fbfe6f-5a23-494b-acf6-de944ef35d8b</td>\n      <td>9</td>\n      <td>did this help shorten the duration?</td>\n      <td>( , did, this, help, shorten, the, duration, ?)</td>\n      <td>help shorten duration ?</td>\n      <td>[0, 0, 0, 0, 0, 0, 0, 0, 0, 0, 0, 0, 0, 0, 0, ...</td>\n      <td>0</td>\n      <td>0</td>\n      <td>NON_RELATED</td>\n    </tr>\n    <tr>\n      <th>6035</th>\n      <td>3031</td>\n      <td>Oseltamivir::Influenza</td>\n      <td>a4fbfe6f-5a23-494b-acf6-de944ef35d8b</td>\n      <td>9</td>\n      <td>not certain</td>\n      <td>(not, certain)</td>\n      <td>certain</td>\n      <td>[0, 0, 0, 0, 0, 0, 0, 0, 0, 0, 0, 0, 0, 0, 0, ...</td>\n      <td>0</td>\n      <td>0</td>\n      <td>NON_RELATED</td>\n    </tr>\n    <tr>\n      <th>6036</th>\n      <td>3032</td>\n      <td>Oseltamivir::Influenza</td>\n      <td>a4fbfe6f-5a23-494b-acf6-de944ef35d8b</td>\n      <td>9</td>\n      <td>but i think it definitely did help.</td>\n      <td>(but, i, think, it, definitely, did, help, .)</td>\n      <td>think definitely help .</td>\n      <td>[0, 0, 0, 0, 0, 0, 0, 0, 0, 0, 0, 0, 0, 0, 0, ...</td>\n      <td>0</td>\n      <td>1</td>\n      <td>NON_RELATED</td>\n    </tr>\n  </tbody>\n</table>\n<p>6040 rows × 11 columns</p>\n</div>"
     },
     "execution_count": 163,
     "metadata": {},
     "output_type": "execute_result"
    }
   ],
   "source": [
    "pd.concat([data.X_train, data.X_test])"
   ],
   "metadata": {
    "collapsed": false,
    "pycharm": {
     "name": "#%%\n"
    }
   }
  },
  {
   "cell_type": "code",
   "execution_count": 166,
   "outputs": [
    {
     "name": "stdout",
     "output_type": "stream",
     "text": [
      "Collecting openpyxl\r\n",
      "  Downloading openpyxl-3.0.10-py2.py3-none-any.whl (242 kB)\r\n",
      "     |████████████████████████████████| 242 kB 523 kB/s            \r\n",
      "\u001B[?25hCollecting et-xmlfile\r\n",
      "  Downloading et_xmlfile-1.1.0-py3-none-any.whl (4.7 kB)\r\n",
      "Installing collected packages: et-xmlfile, openpyxl\r\n",
      "Successfully installed et-xmlfile-1.1.0 openpyxl-3.0.10\r\n",
      "\u001B[33mWARNING: You are using pip version 21.3.1; however, version 22.1.2 is available.\r\n",
      "You should consider upgrading via the '/Users/ezequiellopez/_projects/UNED-PhD/src/venv/bin/python -m pip install --upgrade pip' command.\u001B[0m\r\n"
     ]
    }
   ],
   "source": [
    "!pip3 install openpyxl"
   ],
   "metadata": {
    "collapsed": false,
    "pycharm": {
     "name": "#%%\n"
    }
   }
  },
  {
   "cell_type": "code",
   "execution_count": 168,
   "outputs": [],
   "source": [
    "## Get examples for all clases\n",
    "\n",
    "data.X_train.sample(n=100)[['use_case','sentences', 'agreed_labels']].rename(columns={'use_case':'topic', 'sentences':'sentence', 'agreed_labels': 'label'})\\\n",
    "    .to_excel('sample_labeled_dataset.xlsx')"
   ],
   "metadata": {
    "collapsed": false,
    "pycharm": {
     "name": "#%%\n"
    }
   }
  },
  {
   "cell_type": "code",
   "execution_count": null,
   "outputs": [],
   "source": [],
   "metadata": {
    "collapsed": false,
    "pycharm": {
     "name": "#%%\n"
    }
   }
  },
  {
   "cell_type": "code",
   "execution_count": null,
   "outputs": [],
   "source": [],
   "metadata": {
    "collapsed": false,
    "pycharm": {
     "name": "#%%\n"
    }
   }
  },
  {
   "cell_type": "code",
   "execution_count": null,
   "outputs": [],
   "source": [],
   "metadata": {
    "collapsed": false,
    "pycharm": {
     "name": "#%%\n"
    }
   }
  },
  {
   "cell_type": "code",
   "execution_count": null,
   "outputs": [],
   "source": [],
   "metadata": {
    "collapsed": false,
    "pycharm": {
     "name": "#%%\n"
    }
   }
  },
  {
   "cell_type": "markdown",
   "source": [
    "---"
   ],
   "metadata": {
    "collapsed": false
   }
  },
  {
   "cell_type": "code",
   "execution_count": null,
   "outputs": [],
   "source": [],
   "metadata": {
    "collapsed": false,
    "pycharm": {
     "name": "#%%\n"
    }
   }
  },
  {
   "cell_type": "code",
   "execution_count": null,
   "outputs": [],
   "source": [],
   "metadata": {
    "collapsed": false,
    "pycharm": {
     "name": "#%%\n"
    }
   }
  },
  {
   "cell_type": "code",
   "execution_count": null,
   "outputs": [],
   "source": [
    "reports_df = pd.DataFrame(flat_reports)\n",
    "reports_df['experiment'] = list(experiments.keys())\n",
    "reports_df['feats'] = [str(feat_list) for feat_list in experiments.values()]\n",
    "reports_df.to_csv('ternary_reports_v1.csv')\n",
    "reports_df"
   ],
   "metadata": {
    "collapsed": false,
    "pycharm": {
     "name": "#%%\n"
    }
   }
  },
  {
   "cell_type": "code",
   "execution_count": null,
   "outputs": [],
   "source": [
    "data.X_test['y_experiment_'] = results[-1]"
   ],
   "metadata": {
    "collapsed": false,
    "pycharm": {
     "name": "#%%\n"
    }
   }
  },
  {
   "cell_type": "code",
   "execution_count": null,
   "outputs": [],
   "source": [
    "data.X_test"
   ],
   "metadata": {
    "collapsed": false,
    "pycharm": {
     "name": "#%%\n"
    }
   }
  },
  {
   "cell_type": "code",
   "execution_count": null,
   "outputs": [],
   "source": [],
   "metadata": {
    "collapsed": false,
    "pycharm": {
     "name": "#%%\n"
    }
   }
  },
  {
   "cell_type": "code",
   "execution_count": null,
   "outputs": [],
   "source": [],
   "metadata": {
    "collapsed": false,
    "pycharm": {
     "name": "#%%\n"
    }
   }
  },
  {
   "cell_type": "code",
   "execution_count": null,
   "outputs": [],
   "source": [],
   "metadata": {
    "collapsed": false,
    "pycharm": {
     "name": "#%%\n"
    }
   }
  },
  {
   "cell_type": "code",
   "execution_count": null,
   "outputs": [],
   "source": [],
   "metadata": {
    "collapsed": false,
    "pycharm": {
     "name": "#%%\n"
    }
   }
  },
  {
   "cell_type": "code",
   "execution_count": null,
   "outputs": [],
   "source": [],
   "metadata": {
    "collapsed": false,
    "pycharm": {
     "name": "#%%\n"
    }
   }
  },
  {
   "cell_type": "code",
   "execution_count": null,
   "outputs": [],
   "source": [],
   "metadata": {
    "collapsed": false,
    "pycharm": {
     "name": "#%%\n"
    }
   }
  },
  {
   "cell_type": "code",
   "execution_count": null,
   "outputs": [],
   "source": [],
   "metadata": {
    "collapsed": false,
    "pycharm": {
     "name": "#%%\n"
    }
   }
  },
  {
   "cell_type": "code",
   "execution_count": null,
   "outputs": [],
   "source": [],
   "metadata": {
    "collapsed": false,
    "pycharm": {
     "name": "#%%\n"
    }
   }
  },
  {
   "cell_type": "markdown",
   "source": [
    "-----"
   ],
   "metadata": {
    "collapsed": false
   }
  },
  {
   "cell_type": "code",
   "execution_count": null,
   "outputs": [],
   "source": [
    "feat_pipeline = data.run_feature_extraction(feature_config=experiments)"
   ],
   "metadata": {
    "collapsed": false,
    "pycharm": {
     "name": "#%%\n"
    }
   }
  },
  {
   "cell_type": "code",
   "execution_count": null,
   "outputs": [],
   "source": [
    "X_train  = feat_pipeline.fit_transform(X=data.X_train)"
   ],
   "metadata": {
    "collapsed": false,
    "pycharm": {
     "name": "#%%\n"
    }
   }
  },
  {
   "cell_type": "code",
   "execution_count": null,
   "outputs": [],
   "source": [
    "X_test = feat_pipeline.transform(data.X_test)\n"
   ],
   "metadata": {
    "collapsed": false,
    "pycharm": {
     "name": "#%%\n"
    }
   }
  },
  {
   "cell_type": "code",
   "execution_count": null,
   "outputs": [],
   "source": [],
   "metadata": {
    "collapsed": false,
    "pycharm": {
     "name": "#%%\n"
    }
   }
  },
  {
   "cell_type": "code",
   "execution_count": null,
   "outputs": [],
   "source": [
    "data.run_classification('SVM', features={'train': X_train, 'test': X_test})"
   ],
   "metadata": {
    "collapsed": false,
    "pycharm": {
     "name": "#%%\n"
    }
   }
  },
  {
   "cell_type": "code",
   "execution_count": null,
   "outputs": [],
   "source": [
    "from classifiers.classifiers import classical_models, param_grid\n",
    "import numpy as np\n",
    "import scipy.stats as stats\n",
    "from sklearn.utils.fixes import loguniform\n",
    "from sklearn.linear_model import SGDClassifier\n",
    "from sklearn.model_selection import RandomizedSearchCV\n",
    "from time import time\n",
    "from sklearn.pipeline import Pipeline\n",
    "\n",
    "# run randomized search\n",
    "n_iter_search = 20\n",
    "\n",
    "\n",
    "model = \"SVM\"\n",
    "clf = Pipeline([\n",
    "    # ('tfidf', TfidfVectorizer()),\n",
    "    (classical_models[model])\n",
    "])\n",
    "pipeline_param_grid = {**param_grid[model]}\n",
    "\n",
    "\n",
    "random_search = RandomizedSearchCV(\n",
    "    clf, param_distributions=pipeline_param_grid, n_iter=n_iter_search\n",
    ")\n",
    "\n",
    "start = time()\n",
    "random_search.fit(X_train, data.y_train)\n",
    "print(\n",
    "    \"RandomizedSearchCV took %.2f seconds for %d candidates parameter settings.\"\n",
    "    % ((time() - start), n_iter_search)\n",
    ")\n",
    "\n",
    "\n",
    "# Utility function to report best scores\n",
    "def report(results, n_top=3):\n",
    "    for i in range(1, n_top + 1):\n",
    "        candidates = np.flatnonzero(results[\"rank_test_score\"] == i)\n",
    "        for candidate in candidates:\n",
    "            print(\"Model with rank: {0}\".format(i))\n",
    "            print(\n",
    "                \"Mean validation score: {0:.3f} (std: {1:.3f})\".format(\n",
    "                    results[\"mean_test_score\"][candidate],\n",
    "                    results[\"std_test_score\"][candidate],\n",
    "                )\n",
    "            )\n",
    "            print(\"Parameters: {0}\".format(results[\"params\"][candidate]))\n",
    "            print(\"\")\n",
    "\n",
    "report(random_search.cv_results_)"
   ],
   "metadata": {
    "collapsed": false,
    "pycharm": {
     "name": "#%%\n"
    }
   }
  },
  {
   "cell_type": "code",
   "execution_count": null,
   "outputs": [],
   "source": [],
   "metadata": {
    "collapsed": false,
    "pycharm": {
     "name": "#%%\n"
    }
   }
  },
  {
   "cell_type": "code",
   "execution_count": null,
   "outputs": [],
   "source": [],
   "metadata": {
    "collapsed": false,
    "pycharm": {
     "name": "#%%\n"
    }
   }
  },
  {
   "cell_type": "markdown",
   "source": [
    "### Combine Results"
   ],
   "metadata": {
    "collapsed": false
   }
  },
  {
   "cell_type": "code",
   "execution_count": null,
   "outputs": [],
   "source": [],
   "metadata": {
    "collapsed": false,
    "pycharm": {
     "name": "#%%\n"
    }
   }
  },
  {
   "cell_type": "code",
   "execution_count": null,
   "outputs": [],
   "source": [],
   "metadata": {
    "collapsed": false,
    "pycharm": {
     "name": "#%%\n"
    }
   }
  },
  {
   "cell_type": "markdown",
   "source": [
    "###"
   ],
   "metadata": {
    "collapsed": false
   }
  },
  {
   "cell_type": "code",
   "execution_count": null,
   "outputs": [],
   "source": [],
   "metadata": {
    "collapsed": false,
    "pycharm": {
     "name": "#%%\n"
    }
   }
  }
 ],
 "metadata": {
  "interpreter": {
   "hash": "ac2eaa0ea0ebeafcc7822e65e46aa9d4f966f30b695406963e145ea4a91cd4fc"
  },
  "kernelspec": {
   "display_name": "Python 3",
   "language": "python",
   "name": "python3"
  },
  "language_info": {
   "codemirror_mode": {
    "name": "ipython",
    "version": 3
   },
   "file_extension": ".py",
   "mimetype": "text/x-python",
   "name": "python",
   "nbconvert_exporter": "python",
   "pygments_lexer": "ipython3",
   "version": "3.9.4"
  }
 },
 "nbformat": 4,
 "nbformat_minor": 2
}