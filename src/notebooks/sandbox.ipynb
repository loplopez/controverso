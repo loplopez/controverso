{
 "cells": [
  {
   "cell_type": "code",
   "execution_count": 4,
   "metadata": {
    "collapsed": true
   },
   "outputs": [],
   "source": [
    "import xgboost as xgb\n",
    "# read in data\n",
    "\n"
   ]
  },
  {
   "cell_type": "code",
   "execution_count": 3,
   "outputs": [
    {
     "name": "stdout",
     "output_type": "stream",
     "text": [
      "[12:03:06] WARNING: /Users/runner/work/xgboost/xgboost/src/data/data.cc:759: No format parameter is provided in input uri.  Choosing default parser in dmlc-core.  Consider providing a uri parameter like: filename?format=csv\n"
     ]
    },
    {
     "ename": "XGBoostError",
     "evalue": "[12:03:06] /Users/runner/work/xgboost/xgboost/src/data/data.cc:765: Encountered parser error:\n[12:03:06] /Users/runner/work/xgboost/xgboost/dmlc-core/src/io/local_filesys.cc:104: LocalFileSystem.ListDirectory demo/data error: No such file or directory\nStack trace:\n  [bt] (0) 1   libxgboost.dylib                    0x000000012bca4814 dmlc::LogMessageFatal::~LogMessageFatal() + 116\n  [bt] (1) 2   libxgboost.dylib                    0x000000012bea090c dmlc::io::LocalFileSystem::ListDirectory(dmlc::io::URI const&, std::__1::vector<dmlc::io::FileInfo, std::__1::allocator<dmlc::io::FileInfo> >*) + 380\n  [bt] (2) 3   libxgboost.dylib                    0x000000012be8fd48 dmlc::io::InputSplitBase::ConvertToURIs(std::__1::basic_string<char, std::__1::char_traits<char>, std::__1::allocator<char> > const&) + 536\n  [bt] (3) 4   libxgboost.dylib                    0x000000012be8f000 dmlc::io::InputSplitBase::InitInputFileInfo(std::__1::basic_string<char, std::__1::char_traits<char>, std::__1::allocator<char> > const&, bool) + 48\n  [bt] (4) 5   libxgboost.dylib                    0x000000012be8ee06 dmlc::io::InputSplitBase::Init(dmlc::io::FileSystem*, char const*, unsigned long, bool) + 166\n  [bt] (5) 6   libxgboost.dylib                    0x000000012be85c5a dmlc::InputSplit::Create(char const*, char const*, unsigned int, unsigned int, char const*, bool, int, unsigned long, bool) + 938\n  [bt] (6) 7   libxgboost.dylib                    0x000000012be858a2 dmlc::InputSplit::Create(char const*, unsigned int, unsigned int, char const*) + 34\n  [bt] (7) 8   libxgboost.dylib                    0x000000012be50f0e dmlc::Parser<unsigned int, float>* dmlc::data::CreateLibSVMParser<unsigned int, float>(std::__1::basic_string<char, std::__1::char_traits<char>, std::__1::allocator<char> > const&, std::__1::map<std::__1::basic_string<char, std::__1::char_traits<char>, std::__1::allocator<char> >, std::__1::basic_string<char, std::__1::char_traits<char>, std::__1::allocator<char> >, std::__1::less<std::__1::basic_string<char, std::__1::char_traits<char>, std::__1::allocator<char> > >, std::__1::allocator<std::__1::pair<std::__1::basic_string<char, std::__1::char_traits<char>, std::__1::allocator<char> > const, std::__1::basic_string<char, std::__1::char_traits<char>, std::__1::allocator<char> > > > > const&, unsigned int, unsigned int) + 46\n  [bt] (8) 9   libxgboost.dylib                    0x000000012be4e2f6 dmlc::Parser<unsigned int, float>* dmlc::data::CreateParser_<unsigned int, float>(char const*, unsigned int, unsigned int, char const*) + 438\n\n\nStack trace:\n  [bt] (0) 1   libxgboost.dylib                    0x000000012bca4814 dmlc::LogMessageFatal::~LogMessageFatal() + 116\n  [bt] (1) 2   libxgboost.dylib                    0x000000012bcf70b6 xgboost::DMatrix::Load(std::__1::basic_string<char, std::__1::char_traits<char>, std::__1::allocator<char> > const&, bool, bool, std::__1::basic_string<char, std::__1::char_traits<char>, std::__1::allocator<char> > const&) + 5078\n  [bt] (2) 3   libxgboost.dylib                    0x000000012bc9306c XGDMatrixCreateFromFile + 316\n  [bt] (3) 4   libffi.dylib                        0x00007ff815b86882 ffi_call_unix64 + 82\n  [bt] (4) 5   ???                                 0x00007ff7b396cc10 0x0 + 140701846653968\n\n",
     "output_type": "error",
     "traceback": [
      "\u001B[0;31m---------------------------------------------------------------------------\u001B[0m",
      "\u001B[0;31mXGBoostError\u001B[0m                              Traceback (most recent call last)",
      "\u001B[0;32m/var/folders/m6/hvxmz0nj7m12x745y77x0qp80000gn/T/ipykernel_1928/3969026053.py\u001B[0m in \u001B[0;36m<module>\u001B[0;34m\u001B[0m\n\u001B[0;32m----> 1\u001B[0;31m \u001B[0mdtrain\u001B[0m \u001B[0;34m=\u001B[0m \u001B[0mxgb\u001B[0m\u001B[0;34m.\u001B[0m\u001B[0mDMatrix\u001B[0m\u001B[0;34m(\u001B[0m\u001B[0;34m'demo/data/agaricus.txt.train'\u001B[0m\u001B[0;34m)\u001B[0m\u001B[0;34m\u001B[0m\u001B[0;34m\u001B[0m\u001B[0m\n\u001B[0m\u001B[1;32m      2\u001B[0m \u001B[0mdtest\u001B[0m \u001B[0;34m=\u001B[0m \u001B[0mxgb\u001B[0m\u001B[0;34m.\u001B[0m\u001B[0mDMatrix\u001B[0m\u001B[0;34m(\u001B[0m\u001B[0;34m'demo/data/agaricus.txt.test'\u001B[0m\u001B[0;34m)\u001B[0m\u001B[0;34m\u001B[0m\u001B[0;34m\u001B[0m\u001B[0m\n\u001B[1;32m      3\u001B[0m \u001B[0;31m# specify parameters via map\u001B[0m\u001B[0;34m\u001B[0m\u001B[0;34m\u001B[0m\u001B[0;34m\u001B[0m\u001B[0m\n",
      "\u001B[0;32m~/_projects/UNED-PhD/src/venv/lib/python3.9/site-packages/xgboost/core.py\u001B[0m in \u001B[0;36minner_f\u001B[0;34m(*args, **kwargs)\u001B[0m\n\u001B[1;32m    504\u001B[0m         \u001B[0;32mfor\u001B[0m \u001B[0mk\u001B[0m\u001B[0;34m,\u001B[0m \u001B[0marg\u001B[0m \u001B[0;32min\u001B[0m \u001B[0mzip\u001B[0m\u001B[0;34m(\u001B[0m\u001B[0msig\u001B[0m\u001B[0;34m.\u001B[0m\u001B[0mparameters\u001B[0m\u001B[0;34m,\u001B[0m \u001B[0margs\u001B[0m\u001B[0;34m)\u001B[0m\u001B[0;34m:\u001B[0m\u001B[0;34m\u001B[0m\u001B[0;34m\u001B[0m\u001B[0m\n\u001B[1;32m    505\u001B[0m             \u001B[0mkwargs\u001B[0m\u001B[0;34m[\u001B[0m\u001B[0mk\u001B[0m\u001B[0;34m]\u001B[0m \u001B[0;34m=\u001B[0m \u001B[0marg\u001B[0m\u001B[0;34m\u001B[0m\u001B[0;34m\u001B[0m\u001B[0m\n\u001B[0;32m--> 506\u001B[0;31m         \u001B[0;32mreturn\u001B[0m \u001B[0mf\u001B[0m\u001B[0;34m(\u001B[0m\u001B[0;34m**\u001B[0m\u001B[0mkwargs\u001B[0m\u001B[0;34m)\u001B[0m\u001B[0;34m\u001B[0m\u001B[0;34m\u001B[0m\u001B[0m\n\u001B[0m\u001B[1;32m    507\u001B[0m \u001B[0;34m\u001B[0m\u001B[0m\n\u001B[1;32m    508\u001B[0m     \u001B[0;32mreturn\u001B[0m \u001B[0minner_f\u001B[0m\u001B[0;34m\u001B[0m\u001B[0;34m\u001B[0m\u001B[0m\n",
      "\u001B[0;32m~/_projects/UNED-PhD/src/venv/lib/python3.9/site-packages/xgboost/core.py\u001B[0m in \u001B[0;36m__init__\u001B[0;34m(self, data, label, weight, base_margin, missing, silent, feature_names, feature_types, nthread, group, qid, label_lower_bound, label_upper_bound, feature_weights, enable_categorical)\u001B[0m\n\u001B[1;32m    614\u001B[0m             \u001B[0;32mreturn\u001B[0m\u001B[0;34m\u001B[0m\u001B[0;34m\u001B[0m\u001B[0m\n\u001B[1;32m    615\u001B[0m \u001B[0;34m\u001B[0m\u001B[0m\n\u001B[0;32m--> 616\u001B[0;31m         handle, feature_names, feature_types = dispatch_data_backend(\n\u001B[0m\u001B[1;32m    617\u001B[0m             \u001B[0mdata\u001B[0m\u001B[0;34m,\u001B[0m\u001B[0;34m\u001B[0m\u001B[0;34m\u001B[0m\u001B[0m\n\u001B[1;32m    618\u001B[0m             \u001B[0mmissing\u001B[0m\u001B[0;34m=\u001B[0m\u001B[0mself\u001B[0m\u001B[0;34m.\u001B[0m\u001B[0mmissing\u001B[0m\u001B[0;34m,\u001B[0m\u001B[0;34m\u001B[0m\u001B[0;34m\u001B[0m\u001B[0m\n",
      "\u001B[0;32m~/_projects/UNED-PhD/src/venv/lib/python3.9/site-packages/xgboost/data.py\u001B[0m in \u001B[0;36mdispatch_data_backend\u001B[0;34m(data, missing, threads, feature_names, feature_types, enable_categorical)\u001B[0m\n\u001B[1;32m    764\u001B[0m                                  feature_types)\n\u001B[1;32m    765\u001B[0m     \u001B[0;32mif\u001B[0m \u001B[0m_is_uri\u001B[0m\u001B[0;34m(\u001B[0m\u001B[0mdata\u001B[0m\u001B[0;34m)\u001B[0m\u001B[0;34m:\u001B[0m\u001B[0;34m\u001B[0m\u001B[0;34m\u001B[0m\u001B[0m\n\u001B[0;32m--> 766\u001B[0;31m         \u001B[0;32mreturn\u001B[0m \u001B[0m_from_uri\u001B[0m\u001B[0;34m(\u001B[0m\u001B[0mdata\u001B[0m\u001B[0;34m,\u001B[0m \u001B[0mmissing\u001B[0m\u001B[0;34m,\u001B[0m \u001B[0mfeature_names\u001B[0m\u001B[0;34m,\u001B[0m \u001B[0mfeature_types\u001B[0m\u001B[0;34m)\u001B[0m\u001B[0;34m\u001B[0m\u001B[0;34m\u001B[0m\u001B[0m\n\u001B[0m\u001B[1;32m    767\u001B[0m     \u001B[0;32mif\u001B[0m \u001B[0m_is_list\u001B[0m\u001B[0;34m(\u001B[0m\u001B[0mdata\u001B[0m\u001B[0;34m)\u001B[0m\u001B[0;34m:\u001B[0m\u001B[0;34m\u001B[0m\u001B[0;34m\u001B[0m\u001B[0m\n\u001B[1;32m    768\u001B[0m         \u001B[0;32mreturn\u001B[0m \u001B[0m_from_list\u001B[0m\u001B[0;34m(\u001B[0m\u001B[0mdata\u001B[0m\u001B[0;34m,\u001B[0m \u001B[0mmissing\u001B[0m\u001B[0;34m,\u001B[0m \u001B[0mthreads\u001B[0m\u001B[0;34m,\u001B[0m \u001B[0mfeature_names\u001B[0m\u001B[0;34m,\u001B[0m \u001B[0mfeature_types\u001B[0m\u001B[0;34m)\u001B[0m\u001B[0;34m\u001B[0m\u001B[0;34m\u001B[0m\u001B[0m\n",
      "\u001B[0;32m~/_projects/UNED-PhD/src/venv/lib/python3.9/site-packages/xgboost/data.py\u001B[0m in \u001B[0;36m_from_uri\u001B[0;34m(data, missing, feature_names, feature_types)\u001B[0m\n\u001B[1;32m    679\u001B[0m     \u001B[0mhandle\u001B[0m \u001B[0;34m=\u001B[0m \u001B[0mctypes\u001B[0m\u001B[0;34m.\u001B[0m\u001B[0mc_void_p\u001B[0m\u001B[0;34m(\u001B[0m\u001B[0;34m)\u001B[0m\u001B[0;34m\u001B[0m\u001B[0;34m\u001B[0m\u001B[0m\n\u001B[1;32m    680\u001B[0m     \u001B[0mdata\u001B[0m \u001B[0;34m=\u001B[0m \u001B[0mos\u001B[0m\u001B[0;34m.\u001B[0m\u001B[0mfspath\u001B[0m\u001B[0;34m(\u001B[0m\u001B[0mos\u001B[0m\u001B[0;34m.\u001B[0m\u001B[0mpath\u001B[0m\u001B[0;34m.\u001B[0m\u001B[0mexpanduser\u001B[0m\u001B[0;34m(\u001B[0m\u001B[0mdata\u001B[0m\u001B[0;34m)\u001B[0m\u001B[0;34m)\u001B[0m\u001B[0;34m\u001B[0m\u001B[0;34m\u001B[0m\u001B[0m\n\u001B[0;32m--> 681\u001B[0;31m     _check_call(_LIB.XGDMatrixCreateFromFile(c_str(data),\n\u001B[0m\u001B[1;32m    682\u001B[0m                                              \u001B[0mctypes\u001B[0m\u001B[0;34m.\u001B[0m\u001B[0mc_int\u001B[0m\u001B[0;34m(\u001B[0m\u001B[0;36m1\u001B[0m\u001B[0;34m)\u001B[0m\u001B[0;34m,\u001B[0m\u001B[0;34m\u001B[0m\u001B[0;34m\u001B[0m\u001B[0m\n\u001B[1;32m    683\u001B[0m                                              ctypes.byref(handle)))\n",
      "\u001B[0;32m~/_projects/UNED-PhD/src/venv/lib/python3.9/site-packages/xgboost/core.py\u001B[0m in \u001B[0;36m_check_call\u001B[0;34m(ret)\u001B[0m\n\u001B[1;32m    216\u001B[0m     \"\"\"\n\u001B[1;32m    217\u001B[0m     \u001B[0;32mif\u001B[0m \u001B[0mret\u001B[0m \u001B[0;34m!=\u001B[0m \u001B[0;36m0\u001B[0m\u001B[0;34m:\u001B[0m\u001B[0;34m\u001B[0m\u001B[0;34m\u001B[0m\u001B[0m\n\u001B[0;32m--> 218\u001B[0;31m         \u001B[0;32mraise\u001B[0m \u001B[0mXGBoostError\u001B[0m\u001B[0;34m(\u001B[0m\u001B[0mpy_str\u001B[0m\u001B[0;34m(\u001B[0m\u001B[0m_LIB\u001B[0m\u001B[0;34m.\u001B[0m\u001B[0mXGBGetLastError\u001B[0m\u001B[0;34m(\u001B[0m\u001B[0;34m)\u001B[0m\u001B[0;34m)\u001B[0m\u001B[0;34m)\u001B[0m\u001B[0;34m\u001B[0m\u001B[0;34m\u001B[0m\u001B[0m\n\u001B[0m\u001B[1;32m    219\u001B[0m \u001B[0;34m\u001B[0m\u001B[0m\n\u001B[1;32m    220\u001B[0m \u001B[0;34m\u001B[0m\u001B[0m\n",
      "\u001B[0;31mXGBoostError\u001B[0m: [12:03:06] /Users/runner/work/xgboost/xgboost/src/data/data.cc:765: Encountered parser error:\n[12:03:06] /Users/runner/work/xgboost/xgboost/dmlc-core/src/io/local_filesys.cc:104: LocalFileSystem.ListDirectory demo/data error: No such file or directory\nStack trace:\n  [bt] (0) 1   libxgboost.dylib                    0x000000012bca4814 dmlc::LogMessageFatal::~LogMessageFatal() + 116\n  [bt] (1) 2   libxgboost.dylib                    0x000000012bea090c dmlc::io::LocalFileSystem::ListDirectory(dmlc::io::URI const&, std::__1::vector<dmlc::io::FileInfo, std::__1::allocator<dmlc::io::FileInfo> >*) + 380\n  [bt] (2) 3   libxgboost.dylib                    0x000000012be8fd48 dmlc::io::InputSplitBase::ConvertToURIs(std::__1::basic_string<char, std::__1::char_traits<char>, std::__1::allocator<char> > const&) + 536\n  [bt] (3) 4   libxgboost.dylib                    0x000000012be8f000 dmlc::io::InputSplitBase::InitInputFileInfo(std::__1::basic_string<char, std::__1::char_traits<char>, std::__1::allocator<char> > const&, bool) + 48\n  [bt] (4) 5   libxgboost.dylib                    0x000000012be8ee06 dmlc::io::InputSplitBase::Init(dmlc::io::FileSystem*, char const*, unsigned long, bool) + 166\n  [bt] (5) 6   libxgboost.dylib                    0x000000012be85c5a dmlc::InputSplit::Create(char const*, char const*, unsigned int, unsigned int, char const*, bool, int, unsigned long, bool) + 938\n  [bt] (6) 7   libxgboost.dylib                    0x000000012be858a2 dmlc::InputSplit::Create(char const*, unsigned int, unsigned int, char const*) + 34\n  [bt] (7) 8   libxgboost.dylib                    0x000000012be50f0e dmlc::Parser<unsigned int, float>* dmlc::data::CreateLibSVMParser<unsigned int, float>(std::__1::basic_string<char, std::__1::char_traits<char>, std::__1::allocator<char> > const&, std::__1::map<std::__1::basic_string<char, std::__1::char_traits<char>, std::__1::allocator<char> >, std::__1::basic_string<char, std::__1::char_traits<char>, std::__1::allocator<char> >, std::__1::less<std::__1::basic_string<char, std::__1::char_traits<char>, std::__1::allocator<char> > >, std::__1::allocator<std::__1::pair<std::__1::basic_string<char, std::__1::char_traits<char>, std::__1::allocator<char> > const, std::__1::basic_string<char, std::__1::char_traits<char>, std::__1::allocator<char> > > > > const&, unsigned int, unsigned int) + 46\n  [bt] (8) 9   libxgboost.dylib                    0x000000012be4e2f6 dmlc::Parser<unsigned int, float>* dmlc::data::CreateParser_<unsigned int, float>(char const*, unsigned int, unsigned int, char const*) + 438\n\n\nStack trace:\n  [bt] (0) 1   libxgboost.dylib                    0x000000012bca4814 dmlc::LogMessageFatal::~LogMessageFatal() + 116\n  [bt] (1) 2   libxgboost.dylib                    0x000000012bcf70b6 xgboost::DMatrix::Load(std::__1::basic_string<char, std::__1::char_traits<char>, std::__1::allocator<char> > const&, bool, bool, std::__1::basic_string<char, std::__1::char_traits<char>, std::__1::allocator<char> > const&) + 5078\n  [bt] (2) 3   libxgboost.dylib                    0x000000012bc9306c XGDMatrixCreateFromFile + 316\n  [bt] (3) 4   libffi.dylib                        0x00007ff815b86882 ffi_call_unix64 + 82\n  [bt] (4) 5   ???                                 0x00007ff7b396cc10 0x0 + 140701846653968\n\n"
     ]
    }
   ],
   "source": [
    "dtrain = xgb.DMatrix('demo/data/agaricus.txt.train')\n",
    "dtest = xgb.DMatrix('demo/data/agaricus.txt.test')\n",
    "# specify parameters via map"
   ],
   "metadata": {
    "collapsed": false,
    "pycharm": {
     "name": "#%%\n"
    }
   }
  },
  {
   "cell_type": "code",
   "execution_count": null,
   "outputs": [],
   "source": [
    "param = {'max_depth':2, 'eta':1, 'objective':'binary:logistic' }\n",
    "num_round = 2\n",
    "bst = xgb.train(param, dtrain, num_round)\n",
    "# make prediction\n",
    "preds = bst.predict(dtest)"
   ],
   "metadata": {
    "collapsed": false,
    "pycharm": {
     "name": "#%%\n"
    }
   }
  }
 ],
 "metadata": {
  "kernelspec": {
   "display_name": "Python 3",
   "language": "python",
   "name": "python3"
  },
  "language_info": {
   "codemirror_mode": {
    "name": "ipython",
    "version": 2
   },
   "file_extension": ".py",
   "mimetype": "text/x-python",
   "name": "python",
   "nbconvert_exporter": "python",
   "pygments_lexer": "ipython2",
   "version": "2.7.6"
  }
 },
 "nbformat": 4,
 "nbformat_minor": 0
}