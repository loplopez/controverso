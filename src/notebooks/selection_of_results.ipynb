{
 "cells": [
  {
   "cell_type": "code",
   "execution_count": 1,
   "metadata": {
    "collapsed": true
   },
   "outputs": [],
   "source": [
    "import ast\n",
    "\n",
    "import pandas as pd\n",
    "import os"
   ]
  },
  {
   "cell_type": "code",
   "execution_count": 2,
   "outputs": [],
   "source": [
    "data_folder = '../tests'\n",
    "results = os.listdir('../tests')"
   ],
   "metadata": {
    "collapsed": false,
    "pycharm": {
     "name": "#%%\n"
    }
   }
  },
  {
   "cell_type": "code",
   "execution_count": 3,
   "outputs": [
    {
     "data": {
      "text/plain": "      Unnamed: 0  precision    recall  f1-score      support\n0              0   0.940028  0.731020  0.822453   922.000000\n1              1   0.409524  0.800000  0.541732   215.000000\n2       accuracy   0.744063  0.744063  0.744063     0.744063\n3      macro avg   0.674776  0.765510  0.682092  1137.000000\n4   weighted avg   0.839713  0.744063  0.769370  1137.000000\n..           ...        ...       ...       ...          ...\n0              0   0.746165  0.838558  0.789668   638.000000\n1              1   0.754762  0.635271  0.689880   499.000000\n2       accuracy   0.749340  0.749340  0.749340     0.749340\n3      macro avg   0.750463  0.736914  0.739774  1137.000000\n4   weighted avg   0.749938  0.749340  0.745874  1137.000000\n\n[65 rows x 5 columns]",
      "text/html": "<div>\n<style scoped>\n    .dataframe tbody tr th:only-of-type {\n        vertical-align: middle;\n    }\n\n    .dataframe tbody tr th {\n        vertical-align: top;\n    }\n\n    .dataframe thead th {\n        text-align: right;\n    }\n</style>\n<table border=\"1\" class=\"dataframe\">\n  <thead>\n    <tr style=\"text-align: right;\">\n      <th></th>\n      <th>Unnamed: 0</th>\n      <th>precision</th>\n      <th>recall</th>\n      <th>f1-score</th>\n      <th>support</th>\n    </tr>\n  </thead>\n  <tbody>\n    <tr>\n      <th>0</th>\n      <td>0</td>\n      <td>0.940028</td>\n      <td>0.731020</td>\n      <td>0.822453</td>\n      <td>922.000000</td>\n    </tr>\n    <tr>\n      <th>1</th>\n      <td>1</td>\n      <td>0.409524</td>\n      <td>0.800000</td>\n      <td>0.541732</td>\n      <td>215.000000</td>\n    </tr>\n    <tr>\n      <th>2</th>\n      <td>accuracy</td>\n      <td>0.744063</td>\n      <td>0.744063</td>\n      <td>0.744063</td>\n      <td>0.744063</td>\n    </tr>\n    <tr>\n      <th>3</th>\n      <td>macro avg</td>\n      <td>0.674776</td>\n      <td>0.765510</td>\n      <td>0.682092</td>\n      <td>1137.000000</td>\n    </tr>\n    <tr>\n      <th>4</th>\n      <td>weighted avg</td>\n      <td>0.839713</td>\n      <td>0.744063</td>\n      <td>0.769370</td>\n      <td>1137.000000</td>\n    </tr>\n    <tr>\n      <th>...</th>\n      <td>...</td>\n      <td>...</td>\n      <td>...</td>\n      <td>...</td>\n      <td>...</td>\n    </tr>\n    <tr>\n      <th>0</th>\n      <td>0</td>\n      <td>0.746165</td>\n      <td>0.838558</td>\n      <td>0.789668</td>\n      <td>638.000000</td>\n    </tr>\n    <tr>\n      <th>1</th>\n      <td>1</td>\n      <td>0.754762</td>\n      <td>0.635271</td>\n      <td>0.689880</td>\n      <td>499.000000</td>\n    </tr>\n    <tr>\n      <th>2</th>\n      <td>accuracy</td>\n      <td>0.749340</td>\n      <td>0.749340</td>\n      <td>0.749340</td>\n      <td>0.749340</td>\n    </tr>\n    <tr>\n      <th>3</th>\n      <td>macro avg</td>\n      <td>0.750463</td>\n      <td>0.736914</td>\n      <td>0.739774</td>\n      <td>1137.000000</td>\n    </tr>\n    <tr>\n      <th>4</th>\n      <td>weighted avg</td>\n      <td>0.749938</td>\n      <td>0.749340</td>\n      <td>0.745874</td>\n      <td>1137.000000</td>\n    </tr>\n  </tbody>\n</table>\n<p>65 rows × 5 columns</p>\n</div>"
     },
     "execution_count": 3,
     "metadata": {},
     "output_type": "execute_result"
    }
   ],
   "source": [
    "binary_results = []\n",
    "for result in results:\n",
    "    try:\n",
    "        if \"binary\" in result and result.endswith('.csv'):\n",
    "            binary_results.append(pd.read_csv(f\"{data_folder}/{result}\"))\n",
    "    except Exception as e:\n",
    "        print(e)\n",
    "        print(result)\n",
    "\n",
    "\n",
    "pd.concat(binary_results)\n"
   ],
   "metadata": {
    "collapsed": false,
    "pycharm": {
     "name": "#%%\n"
    }
   }
  },
  {
   "cell_type": "code",
   "execution_count": 3,
   "outputs": [],
   "source": [],
   "metadata": {
    "collapsed": false,
    "pycharm": {
     "name": "#%%\n"
    }
   }
  },
  {
   "cell_type": "code",
   "execution_count": 3,
   "outputs": [],
   "source": [],
   "metadata": {
    "collapsed": false,
    "pycharm": {
     "name": "#%%\n"
    }
   }
  },
  {
   "cell_type": "markdown",
   "source": [
    "---"
   ],
   "metadata": {
    "collapsed": false,
    "pycharm": {
     "name": "#%% md\n"
    }
   }
  },
  {
   "cell_type": "code",
   "execution_count": 4,
   "outputs": [],
   "source": [
    "binary = pd.read_csv('binary_reports_v1.csv')\n",
    "ternary = pd.read_csv('ternary_reports_v1.csv')\n"
   ],
   "metadata": {
    "collapsed": false,
    "pycharm": {
     "name": "#%%\n"
    }
   }
  },
  {
   "cell_type": "code",
   "execution_count": 5,
   "outputs": [],
   "source": [
    "binary = binary.drop(columns=['Unnamed: 0'])\n",
    "ternary = ternary.drop(columns=['Unnamed: 0'])\n"
   ],
   "metadata": {
    "collapsed": false,
    "pycharm": {
     "name": "#%%\n"
    }
   }
  },
  {
   "cell_type": "code",
   "execution_count": 6,
   "outputs": [
    {
     "data": {
      "text/plain": "    0.precision  0.recall  0.f1-score  0.support  1.precision  1.recall  \\\n0      0.867114  0.739977    0.798517        873     0.509719  0.704478   \n1      0.867114  0.739130    0.798023        874     0.507559  0.703593   \n2      0.872483  0.748848    0.805952        868     0.529158  0.720588   \n3      0.873826  0.755220    0.810205        862     0.544276  0.728324   \n4      0.840268  0.736471    0.784953        850     0.516199  0.667598   \n5      0.855034  0.742424    0.794760        858     0.522678  0.691429   \n6      0.875168  0.757259    0.811955        861     0.548596  0.731988   \n7      0.977181  0.618522    0.757544       1177     0.030238  0.451613   \n8      0.875168  0.745143    0.804938        875     0.518359  0.720721   \n9      0.877852  0.756944    0.812927        864     0.546436  0.735465   \n10     1.000000  0.616722    0.762929       1208     0.000000  0.000000   \n11     0.873826  0.757858    0.811721        859     0.550756  0.730659   \n12     0.873826  0.758741    0.812227        858     0.552916  0.731429   \n\n    1.f1-score  1.support  accuracy  macro avg.precision  macro avg.recall  \\\n0     0.591479        335  0.730132             0.688417          0.722227   \n1     0.589711        334  0.729305             0.687337          0.721362   \n2     0.610212        340  0.740894             0.700820          0.734718   \n3     0.622991        346  0.747517             0.709051          0.741772   \n4     0.582217        358  0.716060             0.678234          0.702034   \n5     0.595326        350  0.727649             0.688856          0.716926   \n6     0.627160        347  0.750000             0.711882          0.744624   \n7     0.056680         31  0.614238             0.503709          0.535067   \n8     0.603015        333  0.738411             0.696763          0.732932   \n9     0.627014        344  0.750828             0.712144          0.746205   \n10    0.000000          0  0.616722             0.500000          0.308361   \n11    0.628079        349  0.750000             0.712291          0.744259   \n12    0.629766        350  0.750828             0.713371          0.745085   \n\n    macro avg.f1-score  macro avg.support  weighted avg.precision  \\\n0             0.694998               1208                0.768002   \n1             0.693867               1208                0.767701   \n2             0.708082               1208                0.775852   \n3             0.716598               1208                0.779435   \n4             0.683585               1208                0.744228   \n5             0.695043               1208                0.758739   \n6             0.719558               1208                0.781360   \n7             0.407112               1208                0.952881   \n8             0.703977               1208                0.776809   \n9             0.719970               1208                0.783476   \n10            0.381464               1208                1.000000   \n11            0.719900               1208                0.780488   \n12            0.720997               1208                0.780847   \n\n    weighted avg.recall  weighted avg.f1-score  weighted avg.support  \\\n0              0.730132               0.741101                  1208   \n1              0.729305               0.740427                  1208   \n2              0.740894               0.750859                  1208   \n3              0.747517               0.756583                  1208   \n4              0.716060               0.724871                  1208   \n5              0.727649               0.736977                  1208   \n6              0.750000               0.758873                  1208   \n7              0.614238               0.739558                  1208   \n8              0.738411               0.749276                  1208   \n9              0.750828               0.759985                  1208   \n10             0.616722               0.762929                  1208   \n11             0.750000               0.758665                  1208   \n12             0.750828               0.759362                  1208   \n\n       experiment                                              feats  \n0    experiment_1                                          ['tfidf']  \n1    experiment_2                            ['tfidf', 'body_stats']  \n2    experiment_3               ['tfidf', 'body_stats', 'syntactic']  \n3    experiment_4  ['tfidf', 'body_stats', 'syntactic', 'indicato...  \n4    experiment_5                                        ['medical']  \n5    experiment_6                               ['tfidf', 'medical']  \n6    experiment_7  ['tfidf', 'body_stats', 'syntactic', 'indicato...  \n7    experiment_8                                     ['embeddings']  \n8    experiment_9                            ['tfidf', 'embeddings']  \n9   experiment_10  ['tfidf', 'body_stats', 'syntactic', 'indicato...  \n10  experiment_11                                      ['sentiment']  \n11  experiment_12  ['tfidf', 'body_stats', 'syntactic', 'indicato...  \n12  experiment_13  ['tfidf', 'body_stats', 'syntactic', 'indicato...  ",
      "text/html": "<div>\n<style scoped>\n    .dataframe tbody tr th:only-of-type {\n        vertical-align: middle;\n    }\n\n    .dataframe tbody tr th {\n        vertical-align: top;\n    }\n\n    .dataframe thead th {\n        text-align: right;\n    }\n</style>\n<table border=\"1\" class=\"dataframe\">\n  <thead>\n    <tr style=\"text-align: right;\">\n      <th></th>\n      <th>0.precision</th>\n      <th>0.recall</th>\n      <th>0.f1-score</th>\n      <th>0.support</th>\n      <th>1.precision</th>\n      <th>1.recall</th>\n      <th>1.f1-score</th>\n      <th>1.support</th>\n      <th>accuracy</th>\n      <th>macro avg.precision</th>\n      <th>macro avg.recall</th>\n      <th>macro avg.f1-score</th>\n      <th>macro avg.support</th>\n      <th>weighted avg.precision</th>\n      <th>weighted avg.recall</th>\n      <th>weighted avg.f1-score</th>\n      <th>weighted avg.support</th>\n      <th>experiment</th>\n      <th>feats</th>\n    </tr>\n  </thead>\n  <tbody>\n    <tr>\n      <th>0</th>\n      <td>0.867114</td>\n      <td>0.739977</td>\n      <td>0.798517</td>\n      <td>873</td>\n      <td>0.509719</td>\n      <td>0.704478</td>\n      <td>0.591479</td>\n      <td>335</td>\n      <td>0.730132</td>\n      <td>0.688417</td>\n      <td>0.722227</td>\n      <td>0.694998</td>\n      <td>1208</td>\n      <td>0.768002</td>\n      <td>0.730132</td>\n      <td>0.741101</td>\n      <td>1208</td>\n      <td>experiment_1</td>\n      <td>['tfidf']</td>\n    </tr>\n    <tr>\n      <th>1</th>\n      <td>0.867114</td>\n      <td>0.739130</td>\n      <td>0.798023</td>\n      <td>874</td>\n      <td>0.507559</td>\n      <td>0.703593</td>\n      <td>0.589711</td>\n      <td>334</td>\n      <td>0.729305</td>\n      <td>0.687337</td>\n      <td>0.721362</td>\n      <td>0.693867</td>\n      <td>1208</td>\n      <td>0.767701</td>\n      <td>0.729305</td>\n      <td>0.740427</td>\n      <td>1208</td>\n      <td>experiment_2</td>\n      <td>['tfidf', 'body_stats']</td>\n    </tr>\n    <tr>\n      <th>2</th>\n      <td>0.872483</td>\n      <td>0.748848</td>\n      <td>0.805952</td>\n      <td>868</td>\n      <td>0.529158</td>\n      <td>0.720588</td>\n      <td>0.610212</td>\n      <td>340</td>\n      <td>0.740894</td>\n      <td>0.700820</td>\n      <td>0.734718</td>\n      <td>0.708082</td>\n      <td>1208</td>\n      <td>0.775852</td>\n      <td>0.740894</td>\n      <td>0.750859</td>\n      <td>1208</td>\n      <td>experiment_3</td>\n      <td>['tfidf', 'body_stats', 'syntactic']</td>\n    </tr>\n    <tr>\n      <th>3</th>\n      <td>0.873826</td>\n      <td>0.755220</td>\n      <td>0.810205</td>\n      <td>862</td>\n      <td>0.544276</td>\n      <td>0.728324</td>\n      <td>0.622991</td>\n      <td>346</td>\n      <td>0.747517</td>\n      <td>0.709051</td>\n      <td>0.741772</td>\n      <td>0.716598</td>\n      <td>1208</td>\n      <td>0.779435</td>\n      <td>0.747517</td>\n      <td>0.756583</td>\n      <td>1208</td>\n      <td>experiment_4</td>\n      <td>['tfidf', 'body_stats', 'syntactic', 'indicato...</td>\n    </tr>\n    <tr>\n      <th>4</th>\n      <td>0.840268</td>\n      <td>0.736471</td>\n      <td>0.784953</td>\n      <td>850</td>\n      <td>0.516199</td>\n      <td>0.667598</td>\n      <td>0.582217</td>\n      <td>358</td>\n      <td>0.716060</td>\n      <td>0.678234</td>\n      <td>0.702034</td>\n      <td>0.683585</td>\n      <td>1208</td>\n      <td>0.744228</td>\n      <td>0.716060</td>\n      <td>0.724871</td>\n      <td>1208</td>\n      <td>experiment_5</td>\n      <td>['medical']</td>\n    </tr>\n    <tr>\n      <th>5</th>\n      <td>0.855034</td>\n      <td>0.742424</td>\n      <td>0.794760</td>\n      <td>858</td>\n      <td>0.522678</td>\n      <td>0.691429</td>\n      <td>0.595326</td>\n      <td>350</td>\n      <td>0.727649</td>\n      <td>0.688856</td>\n      <td>0.716926</td>\n      <td>0.695043</td>\n      <td>1208</td>\n      <td>0.758739</td>\n      <td>0.727649</td>\n      <td>0.736977</td>\n      <td>1208</td>\n      <td>experiment_6</td>\n      <td>['tfidf', 'medical']</td>\n    </tr>\n    <tr>\n      <th>6</th>\n      <td>0.875168</td>\n      <td>0.757259</td>\n      <td>0.811955</td>\n      <td>861</td>\n      <td>0.548596</td>\n      <td>0.731988</td>\n      <td>0.627160</td>\n      <td>347</td>\n      <td>0.750000</td>\n      <td>0.711882</td>\n      <td>0.744624</td>\n      <td>0.719558</td>\n      <td>1208</td>\n      <td>0.781360</td>\n      <td>0.750000</td>\n      <td>0.758873</td>\n      <td>1208</td>\n      <td>experiment_7</td>\n      <td>['tfidf', 'body_stats', 'syntactic', 'indicato...</td>\n    </tr>\n    <tr>\n      <th>7</th>\n      <td>0.977181</td>\n      <td>0.618522</td>\n      <td>0.757544</td>\n      <td>1177</td>\n      <td>0.030238</td>\n      <td>0.451613</td>\n      <td>0.056680</td>\n      <td>31</td>\n      <td>0.614238</td>\n      <td>0.503709</td>\n      <td>0.535067</td>\n      <td>0.407112</td>\n      <td>1208</td>\n      <td>0.952881</td>\n      <td>0.614238</td>\n      <td>0.739558</td>\n      <td>1208</td>\n      <td>experiment_8</td>\n      <td>['embeddings']</td>\n    </tr>\n    <tr>\n      <th>8</th>\n      <td>0.875168</td>\n      <td>0.745143</td>\n      <td>0.804938</td>\n      <td>875</td>\n      <td>0.518359</td>\n      <td>0.720721</td>\n      <td>0.603015</td>\n      <td>333</td>\n      <td>0.738411</td>\n      <td>0.696763</td>\n      <td>0.732932</td>\n      <td>0.703977</td>\n      <td>1208</td>\n      <td>0.776809</td>\n      <td>0.738411</td>\n      <td>0.749276</td>\n      <td>1208</td>\n      <td>experiment_9</td>\n      <td>['tfidf', 'embeddings']</td>\n    </tr>\n    <tr>\n      <th>9</th>\n      <td>0.877852</td>\n      <td>0.756944</td>\n      <td>0.812927</td>\n      <td>864</td>\n      <td>0.546436</td>\n      <td>0.735465</td>\n      <td>0.627014</td>\n      <td>344</td>\n      <td>0.750828</td>\n      <td>0.712144</td>\n      <td>0.746205</td>\n      <td>0.719970</td>\n      <td>1208</td>\n      <td>0.783476</td>\n      <td>0.750828</td>\n      <td>0.759985</td>\n      <td>1208</td>\n      <td>experiment_10</td>\n      <td>['tfidf', 'body_stats', 'syntactic', 'indicato...</td>\n    </tr>\n    <tr>\n      <th>10</th>\n      <td>1.000000</td>\n      <td>0.616722</td>\n      <td>0.762929</td>\n      <td>1208</td>\n      <td>0.000000</td>\n      <td>0.000000</td>\n      <td>0.000000</td>\n      <td>0</td>\n      <td>0.616722</td>\n      <td>0.500000</td>\n      <td>0.308361</td>\n      <td>0.381464</td>\n      <td>1208</td>\n      <td>1.000000</td>\n      <td>0.616722</td>\n      <td>0.762929</td>\n      <td>1208</td>\n      <td>experiment_11</td>\n      <td>['sentiment']</td>\n    </tr>\n    <tr>\n      <th>11</th>\n      <td>0.873826</td>\n      <td>0.757858</td>\n      <td>0.811721</td>\n      <td>859</td>\n      <td>0.550756</td>\n      <td>0.730659</td>\n      <td>0.628079</td>\n      <td>349</td>\n      <td>0.750000</td>\n      <td>0.712291</td>\n      <td>0.744259</td>\n      <td>0.719900</td>\n      <td>1208</td>\n      <td>0.780488</td>\n      <td>0.750000</td>\n      <td>0.758665</td>\n      <td>1208</td>\n      <td>experiment_12</td>\n      <td>['tfidf', 'body_stats', 'syntactic', 'indicato...</td>\n    </tr>\n    <tr>\n      <th>12</th>\n      <td>0.873826</td>\n      <td>0.758741</td>\n      <td>0.812227</td>\n      <td>858</td>\n      <td>0.552916</td>\n      <td>0.731429</td>\n      <td>0.629766</td>\n      <td>350</td>\n      <td>0.750828</td>\n      <td>0.713371</td>\n      <td>0.745085</td>\n      <td>0.720997</td>\n      <td>1208</td>\n      <td>0.780847</td>\n      <td>0.750828</td>\n      <td>0.759362</td>\n      <td>1208</td>\n      <td>experiment_13</td>\n      <td>['tfidf', 'body_stats', 'syntactic', 'indicato...</td>\n    </tr>\n  </tbody>\n</table>\n</div>"
     },
     "execution_count": 6,
     "metadata": {},
     "output_type": "execute_result"
    }
   ],
   "source": [
    "binary"
   ],
   "metadata": {
    "collapsed": false,
    "pycharm": {
     "name": "#%%\n"
    }
   }
  },
  {
   "cell_type": "code",
   "execution_count": 7,
   "outputs": [
    {
     "data": {
      "text/plain": "    0.precision  0.recall  0.f1-score  0.support  1.precision  1.recall  \\\n0      0.928859  0.694082    0.794489        997     0.245614  0.571429   \n1      0.928859  0.694779    0.794945        996     0.245614  0.571429   \n2      0.935570  0.705466    0.804385        988     0.267544  0.570093   \n3      0.936913  0.707911    0.806470        986     0.271930  0.601942   \n4      0.927517  0.683482    0.787016       1011     0.337719  0.523810   \n5      0.928859  0.703967    0.800926        983     0.280702  0.581818   \n6      0.935570  0.712679    0.809054        978     0.293860  0.598214   \n7      1.000000  0.617233    0.763320       1207     0.000000  0.000000   \n8      0.938255  0.694141    0.797945       1007     0.236842  0.580645   \n9      0.938255  0.711089    0.809028        983     0.271930  0.584906   \n10     1.000000  0.616722    0.762929       1208     0.000000  0.000000   \n11     0.934228  0.713846    0.809302        975     0.302632  0.600000   \n12     0.935570  0.709054    0.806713        983     0.289474  0.589286   \n\n    1.f1-score  1.support  2.precision  2.recall  ...  macro avg.precision  \\\n0     0.343558         98     0.268085  0.557522  ...             0.480853   \n1     0.343558         98     0.268085  0.552632  ...             0.480853   \n2     0.364179        107     0.293617  0.610619  ...             0.498910   \n3     0.374622        103     0.310638  0.613445  ...             0.506494   \n4     0.410667        147     0.097872  0.460000  ...             0.454369   \n5     0.378698        110     0.285106  0.582609  ...             0.498222   \n6     0.394118        112     0.310638  0.618644  ...             0.513356   \n7     0.000000          0     0.004255  1.000000  ...             0.334752   \n8     0.336449         93     0.268085  0.583333  ...             0.481061   \n9     0.371257        106     0.310638  0.613445  ...             0.506941   \n10    0.000000          0     0.000000  0.000000  ...             0.333333   \n11    0.402332        115     0.310638  0.618644  ...             0.515833   \n12    0.388235        112     0.302128  0.628319  ...             0.509057   \n\n    macro avg.recall  macro avg.f1-score  macro avg.support  \\\n0           0.607678            0.500039               1208   \n1           0.606280            0.499845               1208   \n2           0.628726            0.521705               1208   \n3           0.641099            0.531174               1208   \n4           0.555764            0.453029               1208   \n5           0.622798            0.520827               1208   \n6           0.643179            0.538923               1208   \n7           0.539078            0.257265               1208   \n8           0.619373            0.500580               1208   \n9           0.636480            0.530905               1208   \n10          0.205574            0.254310               1208   \n11          0.644163            0.541744               1208   \n12          0.642219            0.534331               1208   \n\n    weighted avg.precision  weighted avg.recall  weighted avg.f1-score  \\\n0                 0.811619             0.671358               0.717457   \n1                 0.811072             0.671358               0.717377   \n2                 0.816349             0.684603               0.727244   \n3                 0.818519             0.689570               0.730832   \n4                 0.821405             0.654801               0.715324   \n5                 0.808554             0.681291               0.722678   \n6                 0.815029             0.692881               0.731954   \n7                 0.999176             0.617550               0.762695   \n8                 0.824340             0.675497               0.723919   \n9                 0.817960             0.690397               0.731545   \n10                1.000000             0.616722               0.762929   \n11                0.813187             0.693709               0.731906   \n12                0.816413             0.690397               0.730621   \n\n    weighted avg.support     experiment  \\\n0                   1208   experiment_1   \n1                   1208   experiment_2   \n2                   1208   experiment_3   \n3                   1208   experiment_4   \n4                   1208   experiment_5   \n5                   1208   experiment_6   \n6                   1208   experiment_7   \n7                   1208   experiment_8   \n8                   1208   experiment_9   \n9                   1208  experiment_10   \n10                  1208  experiment_11   \n11                  1208  experiment_12   \n12                  1208  experiment_13   \n\n                                                feats  \n0                                           ['tfidf']  \n1                             ['tfidf', 'body_stats']  \n2                ['tfidf', 'body_stats', 'syntactic']  \n3   ['tfidf', 'body_stats', 'syntactic', 'indicato...  \n4                                         ['medical']  \n5                                ['tfidf', 'medical']  \n6   ['tfidf', 'body_stats', 'syntactic', 'indicato...  \n7                                      ['embeddings']  \n8                             ['tfidf', 'embeddings']  \n9   ['tfidf', 'body_stats', 'syntactic', 'indicato...  \n10                                      ['sentiment']  \n11  ['tfidf', 'body_stats', 'syntactic', 'indicato...  \n12  ['tfidf', 'body_stats', 'syntactic', 'indicato...  \n\n[13 rows x 23 columns]",
      "text/html": "<div>\n<style scoped>\n    .dataframe tbody tr th:only-of-type {\n        vertical-align: middle;\n    }\n\n    .dataframe tbody tr th {\n        vertical-align: top;\n    }\n\n    .dataframe thead th {\n        text-align: right;\n    }\n</style>\n<table border=\"1\" class=\"dataframe\">\n  <thead>\n    <tr style=\"text-align: right;\">\n      <th></th>\n      <th>0.precision</th>\n      <th>0.recall</th>\n      <th>0.f1-score</th>\n      <th>0.support</th>\n      <th>1.precision</th>\n      <th>1.recall</th>\n      <th>1.f1-score</th>\n      <th>1.support</th>\n      <th>2.precision</th>\n      <th>2.recall</th>\n      <th>...</th>\n      <th>macro avg.precision</th>\n      <th>macro avg.recall</th>\n      <th>macro avg.f1-score</th>\n      <th>macro avg.support</th>\n      <th>weighted avg.precision</th>\n      <th>weighted avg.recall</th>\n      <th>weighted avg.f1-score</th>\n      <th>weighted avg.support</th>\n      <th>experiment</th>\n      <th>feats</th>\n    </tr>\n  </thead>\n  <tbody>\n    <tr>\n      <th>0</th>\n      <td>0.928859</td>\n      <td>0.694082</td>\n      <td>0.794489</td>\n      <td>997</td>\n      <td>0.245614</td>\n      <td>0.571429</td>\n      <td>0.343558</td>\n      <td>98</td>\n      <td>0.268085</td>\n      <td>0.557522</td>\n      <td>...</td>\n      <td>0.480853</td>\n      <td>0.607678</td>\n      <td>0.500039</td>\n      <td>1208</td>\n      <td>0.811619</td>\n      <td>0.671358</td>\n      <td>0.717457</td>\n      <td>1208</td>\n      <td>experiment_1</td>\n      <td>['tfidf']</td>\n    </tr>\n    <tr>\n      <th>1</th>\n      <td>0.928859</td>\n      <td>0.694779</td>\n      <td>0.794945</td>\n      <td>996</td>\n      <td>0.245614</td>\n      <td>0.571429</td>\n      <td>0.343558</td>\n      <td>98</td>\n      <td>0.268085</td>\n      <td>0.552632</td>\n      <td>...</td>\n      <td>0.480853</td>\n      <td>0.606280</td>\n      <td>0.499845</td>\n      <td>1208</td>\n      <td>0.811072</td>\n      <td>0.671358</td>\n      <td>0.717377</td>\n      <td>1208</td>\n      <td>experiment_2</td>\n      <td>['tfidf', 'body_stats']</td>\n    </tr>\n    <tr>\n      <th>2</th>\n      <td>0.935570</td>\n      <td>0.705466</td>\n      <td>0.804385</td>\n      <td>988</td>\n      <td>0.267544</td>\n      <td>0.570093</td>\n      <td>0.364179</td>\n      <td>107</td>\n      <td>0.293617</td>\n      <td>0.610619</td>\n      <td>...</td>\n      <td>0.498910</td>\n      <td>0.628726</td>\n      <td>0.521705</td>\n      <td>1208</td>\n      <td>0.816349</td>\n      <td>0.684603</td>\n      <td>0.727244</td>\n      <td>1208</td>\n      <td>experiment_3</td>\n      <td>['tfidf', 'body_stats', 'syntactic']</td>\n    </tr>\n    <tr>\n      <th>3</th>\n      <td>0.936913</td>\n      <td>0.707911</td>\n      <td>0.806470</td>\n      <td>986</td>\n      <td>0.271930</td>\n      <td>0.601942</td>\n      <td>0.374622</td>\n      <td>103</td>\n      <td>0.310638</td>\n      <td>0.613445</td>\n      <td>...</td>\n      <td>0.506494</td>\n      <td>0.641099</td>\n      <td>0.531174</td>\n      <td>1208</td>\n      <td>0.818519</td>\n      <td>0.689570</td>\n      <td>0.730832</td>\n      <td>1208</td>\n      <td>experiment_4</td>\n      <td>['tfidf', 'body_stats', 'syntactic', 'indicato...</td>\n    </tr>\n    <tr>\n      <th>4</th>\n      <td>0.927517</td>\n      <td>0.683482</td>\n      <td>0.787016</td>\n      <td>1011</td>\n      <td>0.337719</td>\n      <td>0.523810</td>\n      <td>0.410667</td>\n      <td>147</td>\n      <td>0.097872</td>\n      <td>0.460000</td>\n      <td>...</td>\n      <td>0.454369</td>\n      <td>0.555764</td>\n      <td>0.453029</td>\n      <td>1208</td>\n      <td>0.821405</td>\n      <td>0.654801</td>\n      <td>0.715324</td>\n      <td>1208</td>\n      <td>experiment_5</td>\n      <td>['medical']</td>\n    </tr>\n    <tr>\n      <th>5</th>\n      <td>0.928859</td>\n      <td>0.703967</td>\n      <td>0.800926</td>\n      <td>983</td>\n      <td>0.280702</td>\n      <td>0.581818</td>\n      <td>0.378698</td>\n      <td>110</td>\n      <td>0.285106</td>\n      <td>0.582609</td>\n      <td>...</td>\n      <td>0.498222</td>\n      <td>0.622798</td>\n      <td>0.520827</td>\n      <td>1208</td>\n      <td>0.808554</td>\n      <td>0.681291</td>\n      <td>0.722678</td>\n      <td>1208</td>\n      <td>experiment_6</td>\n      <td>['tfidf', 'medical']</td>\n    </tr>\n    <tr>\n      <th>6</th>\n      <td>0.935570</td>\n      <td>0.712679</td>\n      <td>0.809054</td>\n      <td>978</td>\n      <td>0.293860</td>\n      <td>0.598214</td>\n      <td>0.394118</td>\n      <td>112</td>\n      <td>0.310638</td>\n      <td>0.618644</td>\n      <td>...</td>\n      <td>0.513356</td>\n      <td>0.643179</td>\n      <td>0.538923</td>\n      <td>1208</td>\n      <td>0.815029</td>\n      <td>0.692881</td>\n      <td>0.731954</td>\n      <td>1208</td>\n      <td>experiment_7</td>\n      <td>['tfidf', 'body_stats', 'syntactic', 'indicato...</td>\n    </tr>\n    <tr>\n      <th>7</th>\n      <td>1.000000</td>\n      <td>0.617233</td>\n      <td>0.763320</td>\n      <td>1207</td>\n      <td>0.000000</td>\n      <td>0.000000</td>\n      <td>0.000000</td>\n      <td>0</td>\n      <td>0.004255</td>\n      <td>1.000000</td>\n      <td>...</td>\n      <td>0.334752</td>\n      <td>0.539078</td>\n      <td>0.257265</td>\n      <td>1208</td>\n      <td>0.999176</td>\n      <td>0.617550</td>\n      <td>0.762695</td>\n      <td>1208</td>\n      <td>experiment_8</td>\n      <td>['embeddings']</td>\n    </tr>\n    <tr>\n      <th>8</th>\n      <td>0.938255</td>\n      <td>0.694141</td>\n      <td>0.797945</td>\n      <td>1007</td>\n      <td>0.236842</td>\n      <td>0.580645</td>\n      <td>0.336449</td>\n      <td>93</td>\n      <td>0.268085</td>\n      <td>0.583333</td>\n      <td>...</td>\n      <td>0.481061</td>\n      <td>0.619373</td>\n      <td>0.500580</td>\n      <td>1208</td>\n      <td>0.824340</td>\n      <td>0.675497</td>\n      <td>0.723919</td>\n      <td>1208</td>\n      <td>experiment_9</td>\n      <td>['tfidf', 'embeddings']</td>\n    </tr>\n    <tr>\n      <th>9</th>\n      <td>0.938255</td>\n      <td>0.711089</td>\n      <td>0.809028</td>\n      <td>983</td>\n      <td>0.271930</td>\n      <td>0.584906</td>\n      <td>0.371257</td>\n      <td>106</td>\n      <td>0.310638</td>\n      <td>0.613445</td>\n      <td>...</td>\n      <td>0.506941</td>\n      <td>0.636480</td>\n      <td>0.530905</td>\n      <td>1208</td>\n      <td>0.817960</td>\n      <td>0.690397</td>\n      <td>0.731545</td>\n      <td>1208</td>\n      <td>experiment_10</td>\n      <td>['tfidf', 'body_stats', 'syntactic', 'indicato...</td>\n    </tr>\n    <tr>\n      <th>10</th>\n      <td>1.000000</td>\n      <td>0.616722</td>\n      <td>0.762929</td>\n      <td>1208</td>\n      <td>0.000000</td>\n      <td>0.000000</td>\n      <td>0.000000</td>\n      <td>0</td>\n      <td>0.000000</td>\n      <td>0.000000</td>\n      <td>...</td>\n      <td>0.333333</td>\n      <td>0.205574</td>\n      <td>0.254310</td>\n      <td>1208</td>\n      <td>1.000000</td>\n      <td>0.616722</td>\n      <td>0.762929</td>\n      <td>1208</td>\n      <td>experiment_11</td>\n      <td>['sentiment']</td>\n    </tr>\n    <tr>\n      <th>11</th>\n      <td>0.934228</td>\n      <td>0.713846</td>\n      <td>0.809302</td>\n      <td>975</td>\n      <td>0.302632</td>\n      <td>0.600000</td>\n      <td>0.402332</td>\n      <td>115</td>\n      <td>0.310638</td>\n      <td>0.618644</td>\n      <td>...</td>\n      <td>0.515833</td>\n      <td>0.644163</td>\n      <td>0.541744</td>\n      <td>1208</td>\n      <td>0.813187</td>\n      <td>0.693709</td>\n      <td>0.731906</td>\n      <td>1208</td>\n      <td>experiment_12</td>\n      <td>['tfidf', 'body_stats', 'syntactic', 'indicato...</td>\n    </tr>\n    <tr>\n      <th>12</th>\n      <td>0.935570</td>\n      <td>0.709054</td>\n      <td>0.806713</td>\n      <td>983</td>\n      <td>0.289474</td>\n      <td>0.589286</td>\n      <td>0.388235</td>\n      <td>112</td>\n      <td>0.302128</td>\n      <td>0.628319</td>\n      <td>...</td>\n      <td>0.509057</td>\n      <td>0.642219</td>\n      <td>0.534331</td>\n      <td>1208</td>\n      <td>0.816413</td>\n      <td>0.690397</td>\n      <td>0.730621</td>\n      <td>1208</td>\n      <td>experiment_13</td>\n      <td>['tfidf', 'body_stats', 'syntactic', 'indicato...</td>\n    </tr>\n  </tbody>\n</table>\n<p>13 rows × 23 columns</p>\n</div>"
     },
     "execution_count": 7,
     "metadata": {},
     "output_type": "execute_result"
    }
   ],
   "source": [
    "ternary"
   ],
   "metadata": {
    "collapsed": false,
    "pycharm": {
     "name": "#%%\n"
    }
   }
  },
  {
   "cell_type": "code",
   "execution_count": 8,
   "outputs": [],
   "source": [
    "binary_simplified = binary[['experiment', 'feats', 'macro avg.precision', 'macro avg.recall', 'macro avg.f1-score', 'accuracy']]\n",
    "ternary_simplified = ternary[['experiment', 'feats', 'macro avg.precision', 'macro avg.recall', 'macro avg.f1-score', 'accuracy']]\n"
   ],
   "metadata": {
    "collapsed": false,
    "pycharm": {
     "name": "#%%\n"
    }
   }
  },
  {
   "cell_type": "code",
   "execution_count": 9,
   "outputs": [],
   "source": [
    "classical_ml_results = binary_simplified.merge(ternary_simplified, on='experiment').drop(columns=['experiment', 'feats_y'])\\\n",
    "    .rename(columns={'feats_x': 'feats',\n",
    "                     'macro avg.f1-score_x': 'F1 bi',\n",
    "                     'macro avg.precision_x': 'P bi',\n",
    "                     'macro avg.recall_x': 'R bi',\n",
    "                     'accuracy_x': 'acc bi',\n",
    "                     'macro avg.f1-score_y': 'F1 tri',\n",
    "                     'macro avg.precision_y': 'P tri',\n",
    "                     'macro avg.recall_y': 'R tri',\n",
    "                     'accuracy_y': 'acc tri'}).round(3)\n",
    "classical_ml_results['feats'] = classical_ml_results['feats'].apply(lambda _: ' + '.join(ast.literal_eval(_)))"
   ],
   "metadata": {
    "collapsed": false,
    "pycharm": {
     "name": "#%%\n"
    }
   }
  },
  {
   "cell_type": "code",
   "execution_count": 10,
   "outputs": [
    {
     "data": {
      "text/plain": "                                                feats   P bi   R bi  F1 bi  \\\n0                                               tfidf  0.688  0.722  0.695   \n1                                  tfidf + body_stats  0.687  0.721  0.694   \n2                      tfidf + body_stats + syntactic  0.701  0.735  0.708   \n3         tfidf + body_stats + syntactic + indicators  0.709  0.742  0.717   \n4                                             medical  0.678  0.702  0.684   \n5                                     tfidf + medical  0.689  0.717  0.695   \n6   tfidf + body_stats + syntactic + indicators + ...  0.712  0.745  0.720   \n7                                          embeddings  0.504  0.535  0.407   \n8                                  tfidf + embeddings  0.697  0.733  0.704   \n9   tfidf + body_stats + syntactic + indicators + ...  0.712  0.746  0.720   \n10                                          sentiment  0.500  0.308  0.381   \n11  tfidf + body_stats + syntactic + indicators + ...  0.712  0.744  0.720   \n12  tfidf + body_stats + syntactic + indicators + ...  0.713  0.745  0.721   \n\n    acc bi  P tri  R tri  F1 tri  acc tri  \n0    0.730  0.481  0.608   0.500    0.671  \n1    0.729  0.481  0.606   0.500    0.671  \n2    0.741  0.499  0.629   0.522    0.685  \n3    0.748  0.506  0.641   0.531    0.690  \n4    0.716  0.454  0.556   0.453    0.655  \n5    0.728  0.498  0.623   0.521    0.681  \n6    0.750  0.513  0.643   0.539    0.693  \n7    0.614  0.335  0.539   0.257    0.618  \n8    0.738  0.481  0.619   0.501    0.675  \n9    0.751  0.507  0.636   0.531    0.690  \n10   0.617  0.333  0.206   0.254    0.617  \n11   0.750  0.516  0.644   0.542    0.694  \n12   0.751  0.509  0.642   0.534    0.690  ",
      "text/html": "<div>\n<style scoped>\n    .dataframe tbody tr th:only-of-type {\n        vertical-align: middle;\n    }\n\n    .dataframe tbody tr th {\n        vertical-align: top;\n    }\n\n    .dataframe thead th {\n        text-align: right;\n    }\n</style>\n<table border=\"1\" class=\"dataframe\">\n  <thead>\n    <tr style=\"text-align: right;\">\n      <th></th>\n      <th>feats</th>\n      <th>P bi</th>\n      <th>R bi</th>\n      <th>F1 bi</th>\n      <th>acc bi</th>\n      <th>P tri</th>\n      <th>R tri</th>\n      <th>F1 tri</th>\n      <th>acc tri</th>\n    </tr>\n  </thead>\n  <tbody>\n    <tr>\n      <th>0</th>\n      <td>tfidf</td>\n      <td>0.688</td>\n      <td>0.722</td>\n      <td>0.695</td>\n      <td>0.730</td>\n      <td>0.481</td>\n      <td>0.608</td>\n      <td>0.500</td>\n      <td>0.671</td>\n    </tr>\n    <tr>\n      <th>1</th>\n      <td>tfidf + body_stats</td>\n      <td>0.687</td>\n      <td>0.721</td>\n      <td>0.694</td>\n      <td>0.729</td>\n      <td>0.481</td>\n      <td>0.606</td>\n      <td>0.500</td>\n      <td>0.671</td>\n    </tr>\n    <tr>\n      <th>2</th>\n      <td>tfidf + body_stats + syntactic</td>\n      <td>0.701</td>\n      <td>0.735</td>\n      <td>0.708</td>\n      <td>0.741</td>\n      <td>0.499</td>\n      <td>0.629</td>\n      <td>0.522</td>\n      <td>0.685</td>\n    </tr>\n    <tr>\n      <th>3</th>\n      <td>tfidf + body_stats + syntactic + indicators</td>\n      <td>0.709</td>\n      <td>0.742</td>\n      <td>0.717</td>\n      <td>0.748</td>\n      <td>0.506</td>\n      <td>0.641</td>\n      <td>0.531</td>\n      <td>0.690</td>\n    </tr>\n    <tr>\n      <th>4</th>\n      <td>medical</td>\n      <td>0.678</td>\n      <td>0.702</td>\n      <td>0.684</td>\n      <td>0.716</td>\n      <td>0.454</td>\n      <td>0.556</td>\n      <td>0.453</td>\n      <td>0.655</td>\n    </tr>\n    <tr>\n      <th>5</th>\n      <td>tfidf + medical</td>\n      <td>0.689</td>\n      <td>0.717</td>\n      <td>0.695</td>\n      <td>0.728</td>\n      <td>0.498</td>\n      <td>0.623</td>\n      <td>0.521</td>\n      <td>0.681</td>\n    </tr>\n    <tr>\n      <th>6</th>\n      <td>tfidf + body_stats + syntactic + indicators + ...</td>\n      <td>0.712</td>\n      <td>0.745</td>\n      <td>0.720</td>\n      <td>0.750</td>\n      <td>0.513</td>\n      <td>0.643</td>\n      <td>0.539</td>\n      <td>0.693</td>\n    </tr>\n    <tr>\n      <th>7</th>\n      <td>embeddings</td>\n      <td>0.504</td>\n      <td>0.535</td>\n      <td>0.407</td>\n      <td>0.614</td>\n      <td>0.335</td>\n      <td>0.539</td>\n      <td>0.257</td>\n      <td>0.618</td>\n    </tr>\n    <tr>\n      <th>8</th>\n      <td>tfidf + embeddings</td>\n      <td>0.697</td>\n      <td>0.733</td>\n      <td>0.704</td>\n      <td>0.738</td>\n      <td>0.481</td>\n      <td>0.619</td>\n      <td>0.501</td>\n      <td>0.675</td>\n    </tr>\n    <tr>\n      <th>9</th>\n      <td>tfidf + body_stats + syntactic + indicators + ...</td>\n      <td>0.712</td>\n      <td>0.746</td>\n      <td>0.720</td>\n      <td>0.751</td>\n      <td>0.507</td>\n      <td>0.636</td>\n      <td>0.531</td>\n      <td>0.690</td>\n    </tr>\n    <tr>\n      <th>10</th>\n      <td>sentiment</td>\n      <td>0.500</td>\n      <td>0.308</td>\n      <td>0.381</td>\n      <td>0.617</td>\n      <td>0.333</td>\n      <td>0.206</td>\n      <td>0.254</td>\n      <td>0.617</td>\n    </tr>\n    <tr>\n      <th>11</th>\n      <td>tfidf + body_stats + syntactic + indicators + ...</td>\n      <td>0.712</td>\n      <td>0.744</td>\n      <td>0.720</td>\n      <td>0.750</td>\n      <td>0.516</td>\n      <td>0.644</td>\n      <td>0.542</td>\n      <td>0.694</td>\n    </tr>\n    <tr>\n      <th>12</th>\n      <td>tfidf + body_stats + syntactic + indicators + ...</td>\n      <td>0.713</td>\n      <td>0.745</td>\n      <td>0.721</td>\n      <td>0.751</td>\n      <td>0.509</td>\n      <td>0.642</td>\n      <td>0.534</td>\n      <td>0.690</td>\n    </tr>\n  </tbody>\n</table>\n</div>"
     },
     "execution_count": 10,
     "metadata": {},
     "output_type": "execute_result"
    }
   ],
   "source": [
    "classical_ml_results"
   ],
   "metadata": {
    "collapsed": false,
    "pycharm": {
     "name": "#%%\n"
    }
   }
  },
  {
   "cell_type": "code",
   "execution_count": 55,
   "outputs": [],
   "source": [
    "# ! Run only when generating outputs\n",
    "with pd.option_context(\"max_colwidth\", 1000):\n",
    "    latex = classical_ml_results.to_latex('classical_ml_results_v1.tex')"
   ],
   "metadata": {
    "collapsed": false,
    "pycharm": {
     "name": "#%%\n"
    }
   }
  },
  {
   "cell_type": "code",
   "execution_count": null,
   "outputs": [],
   "source": [],
   "metadata": {
    "collapsed": false,
    "pycharm": {
     "name": "#%%\n"
    }
   }
  },
  {
   "cell_type": "code",
   "execution_count": 17,
   "outputs": [],
   "source": [
    "max_idx = {}\n",
    "for col in classical_ml_results.columns.drop('feats'):\n",
    "    max_idx[col] = classical_ml_results[col].idxmax()\n"
   ],
   "metadata": {
    "collapsed": false,
    "pycharm": {
     "name": "#%%\n"
    }
   }
  },
  {
   "cell_type": "code",
   "execution_count": 18,
   "outputs": [
    {
     "data": {
      "text/plain": "{'P bi': 12,\n 'R bi': 9,\n 'F1 bi': 12,\n 'acc bi': 9,\n 'P tri': 11,\n 'R tri': 11,\n 'F1 tri': 11,\n 'acc tri': 11}"
     },
     "execution_count": 18,
     "metadata": {},
     "output_type": "execute_result"
    }
   ],
   "source": [
    "max_idx"
   ],
   "metadata": {
    "collapsed": false,
    "pycharm": {
     "name": "#%%\n"
    }
   }
  },
  {
   "cell_type": "code",
   "execution_count": null,
   "outputs": [],
   "source": [],
   "metadata": {
    "collapsed": false,
    "pycharm": {
     "name": "#%%\n"
    }
   }
  }
 ],
 "metadata": {
  "kernelspec": {
   "display_name": "Python 3",
   "language": "python",
   "name": "python3"
  },
  "language_info": {
   "codemirror_mode": {
    "name": "ipython",
    "version": 2
   },
   "file_extension": ".py",
   "mimetype": "text/x-python",
   "name": "python",
   "nbconvert_exporter": "python",
   "pygments_lexer": "ipython2",
   "version": "2.7.6"
  }
 },
 "nbformat": 4,
 "nbformat_minor": 0
}